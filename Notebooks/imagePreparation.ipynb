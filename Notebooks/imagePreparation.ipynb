{
 "cells": [
  {
   "cell_type": "code",
   "execution_count": 3,
   "metadata": {},
   "outputs": [],
   "source": [
    "import numpy as np\n",
    "import cv2\n",
    "import matplotlib.pyplot as plt\n",
    "import os\n",
    "import re   # Regular expressions"
   ]
  },
  {
   "cell_type": "code",
   "execution_count": 4,
   "metadata": {},
   "outputs": [],
   "source": [
    "def cropImage(ivSource, ivDestination, ivType):    # Type refers to image with one or two boxes to split\n",
    "\n",
    "\n",
    "    img = cv2.imread(ivSource)\n",
    "\n",
    "    h,w = img.shape[:2]\n",
    "    mask = np.zeros((h,w), np.uint8)\n",
    "\n",
    "    # Transform to gray colorspace and invert Otsu threshold the image\n",
    "    gray = cv2.cvtColor(img,cv2.COLOR_BGR2GRAY)\n",
    "    #_, thresh = cv2.threshold(gray,0,255,cv2.THRESH_BINARY_INV+cv2.THRESH_OTSU)\n",
    "\n",
    "\n",
    "    ### Perform morphologyEx (erosion followed by dilation)\n",
    "    #kernel = np.ones((2,2),np.uint8)\n",
    "   # opening = cv2.morphologyEx(thresh, cv2.MORPH_OPEN, kernel)   \n",
    "    imgCanny = cv2.Canny(gray,100,100)\n",
    "#    plt.imshow(imgCanny)\n",
    "\n",
    "\n",
    "    # play with kernel settings to see impact on output files\n",
    "    kernel = np.ones((5,5),np.uint8)\n",
    "    #imgEroded = cv2.dilate(gray,kernel,iterations=1)\n",
    "    imgEroded = cv2.dilate(imgCanny,kernel,iterations=1)\n",
    "    #plt.imshow(imgEroded)# Search for contours, select the biggest and draw it on the mask\n",
    "    #_, contours, hierarchy = cv2.findContours(thresh, cv2.RETR_TREE,cv2.CHAIN_APPROX_NONE)\n",
    "\n",
    "\n",
    "  #  contours, hierarchy = cv2.findContours(opening, cv2.RETR_TREE,cv2.CHAIN_APPROX_NONE)\n",
    "    #contours1, hierarchy1 = cv2.findContours(imgEroded, cv2.RETR_TREE,cv2.CHAIN_APPROX_NONE)\n",
    "    contours1, _ = cv2.findContours(imgEroded, cv2.RETR_TREE,cv2.CHAIN_APPROX_NONE)\n",
    "   \n",
    "    tempContour = sorted(contours1, key=cv2.contourArea, reverse=True)\n",
    "\n",
    "        \n",
    " #   temp1 = np.zeros((h,w), np.uint8)\n",
    "    \n",
    "    if ivType == 1:\n",
    "        x,y,w,h = cv2.boundingRect(tempContour[1])\n",
    "        final_image = img[y:y+h, x:x+w]\n",
    "        cv2.imwrite(ivDestination, final_image )\n",
    "    elif ivType == 2:\n",
    "        \n",
    "        for index, _ in enumerate(range(2)):\n",
    "          x,y,w,h = cv2.boundingRect(tempContour[index +1])\n",
    "          final_image = img[y:y+h, x:x+w]\n",
    "          temp_destination = ivDestination[:-4] + \"_\" + str(index +1)  + ivDestination[-4:]\n",
    "          cv2.imwrite(temp_destination, final_image )\n",
    "          \n",
    "    \n",
    " \n",
    "            \n",
    " \n",
    "    "
   ]
  },
  {
   "cell_type": "code",
   "execution_count": 6,
   "metadata": {},
   "outputs": [
    {
     "name": "stdout",
     "output_type": "stream",
     "text": [
      "The string contains a word from the array.\n"
     ]
    }
   ],
   "source": [
    "\n",
    "## Wool images not being processed correctly - look into processing of those and how to split those images\n",
    "\n",
    "one_box_files = [\"wash\"]\n",
    "\n",
    "directory = '..\\Data\\Raw'\n",
    "target_directory = '..\\Data\\Prepared'\n",
    "\n",
    "# Get all filenames in the directory\n",
    "filenames = os.listdir(directory)\n",
    "\n",
    "pattern = r\"\\b(\" + \"|\".join(one_box_files) + r\")\\b\"\n",
    "\n",
    "# Print the filenames\n",
    "for filename in filenames:\n",
    "    rel_file = os.path.join(directory, filename)\n",
    "    target_file = os.path.join(target_directory, filename)\n",
    "\n",
    "    # Check if the string contains any word from the array using regular expressions\n",
    "    if re.search(pattern, rel_file, flags=re.IGNORECASE):\n",
    "        print(\"The string contains a word from the array.\")\n",
    "        cropImage(rel_file, target_file,  1)\n",
    "    else:\n",
    "        cropImage(rel_file, target_file,  2)\n"
   ]
  }
 ],
 "metadata": {
  "kernelspec": {
   "display_name": "fibre1",
   "language": "python",
   "name": "python3"
  },
  "language_info": {
   "codemirror_mode": {
    "name": "ipython",
    "version": 3
   },
   "file_extension": ".py",
   "mimetype": "text/x-python",
   "name": "python",
   "nbconvert_exporter": "python",
   "pygments_lexer": "ipython3",
   "version": "3.9.13"
  },
  "orig_nbformat": 4
 },
 "nbformat": 4,
 "nbformat_minor": 2
}
