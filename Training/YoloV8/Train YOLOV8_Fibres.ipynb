{
  "cells": [
    {
      "cell_type": "markdown",
      "metadata": {},
      "source": [
        "### Training of YOLO V8 Model \n",
        "### Based on https://github.com/computervisioneng/image-segmentation-yolov8\n",
        "\n",
        "\n",
        "### Installed required libraries"
      ]
    },
    {
      "cell_type": "markdown",
      "metadata": {},
      "source": [
        "# Link COLAB to Google Drive\n",
        "from google.colab import drive\n",
        "drive.mount('/content/drive')"
      ]
    },
    {
      "cell_type": "code",
      "execution_count": null,
      "metadata": {},
      "outputs": [],
      "source": [
        "# Install Ultralytics package\n",
        "!pip install ultralytics"
      ]
    },
    {
      "cell_type": "code",
      "execution_count": null,
      "metadata": {
        "id": "tNLZ8w6G86Ye"
      },
      "outputs": [],
      "source": [
        "# DATA_DIR = '/content/drive/MyDrive/Colab Notebooks/FibreAnalysis/Data/synth/Yolo'"
      ]
    },
    {
      "cell_type": "code",
      "execution_count": null,
      "metadata": {
        "colab": {
          "base_uri": "https://localhost:8080/"
        },
        "id": "zy7BcAyj9LvW",
        "outputId": "03c0b4fc-6a05-41ca-88a9-45475affebd3"
      },
      "outputs": [],
      "source": [
        "import os\n",
        "from ultralytics import YOLO\n",
        "import cv2, random\n",
        "import numpy as np\n",
        "import torch\n",
        "from google.colab.patches import cv2_imshow"
      ]
    },
    {
      "cell_type": "markdown",
      "metadata": {},
      "source": [
        "### Train the model "
      ]
    },
    {
      "cell_type": "code",
      "execution_count": null,
      "metadata": {},
      "outputs": [],
      "source": [
        "model = YOLO('yolov8n-seg.pt')  # load a pretrained model\n",
        "\n",
        "startDirectory = '/content/drive/MyDrive/Colab Notebooks/FibreAnalysis/Data/Prepared'\n",
        "\n",
        "script_directory = '/Training/YoloV8'\n",
        "\n",
        "config_path = os.path.join(script_directory, 'Colab_YOLO_config.yaml')\n",
        "print(config_path)\n",
        "model.train(data=config_path, epochs=1)\n",
        "# model.train(data=config_path, epochs=1, imgsz=640)   # Removed image size from step to see if that impacts the running "
      ]
    },
    {
      "cell_type": "code",
      "execution_count": null,
      "metadata": {
        "colab": {
          "base_uri": "https://localhost:8080/"
        },
        "id": "94bbFxRNK-CO",
        "outputId": "012e5461-50f9-4cd7-beec-33d70172c2b5"
      },
      "outputs": [],
      "source": [
        "# Validate the model\n",
        "metrics = model.val()  # no arguments needed, dataset and settings remembered\n",
        "metrics.box.map    # map50-95\n",
        "metrics.box.map50  # map50\n",
        "metrics.box.map75  # map75\n",
        "metrics.box.maps   # a list contains map50-95 of each category"
      ]
    },
    {
      "cell_type": "markdown",
      "metadata": {},
      "source": [
        "### Display a sample of images with their predicted masks "
      ]
    },
    {
      "cell_type": "code",
      "execution_count": null,
      "metadata": {
        "colab": {
          "base_uri": "https://localhost:8080/",
          "height": 1000
        },
        "id": "9tXqE-PeMaoM",
        "outputId": "9ca70b20-13c8-4f83-ada7-ca9f85b513cc"
      },
      "outputs": [],
      "source": [
        "\n",
        "img_files = os.listdir(os.path.join(startDirectory, 'Train/Val')) # Get list of files in the directory \n",
        "for imageFile in random.sample(img_files, 3):\n",
        "\n",
        "   results = model(imageFile)\n",
        "   image = cv2.imread(imageFile)  # Replace \"path_to_image.jpg\" with the actual path to your image\n",
        "\n",
        "   H, W , _ = image.shape\n",
        "\n",
        "   # Iterate over the results\n",
        "   for result in results:\n",
        "      # Iterate over the masks in the current result\n",
        "      for j, mask in enumerate(result.masks.data):\n",
        "         #   # Move the mask tensor to CPU if it's on a CUDA device\n",
        "            mask_np = mask.detach().cpu().numpy() if isinstance(mask, torch.Tensor) else mask\n",
        "\n",
        "         #   # Convert the mask to uint8 and resize it to match the image size\n",
        "            mask_np = cv2.resize((mask_np.astype(np.uint8) * 255), (image.shape[1], image.shape[0]))\n",
        "\n",
        "         #   # Create a transparency mask\n",
        "            transparency_mask = np.stack((mask_np,) * 3, axis=-1)\n",
        "         \n",
        "         #   # Apply the mask overlay to the original image\n",
        "            overlay = cv2.addWeighted(image, 1, transparency_mask, 0.5, 0)\n",
        "\n",
        "         #   # Display the result\n",
        "            cv2_imshow(overlay)\n"
      ]
    },
    {
      "cell_type": "markdown",
      "metadata": {},
      "source": [
        "### Copy the results from COLAB to Google Drive "
      ]
    },
    {
      "cell_type": "code",
      "execution_count": null,
      "metadata": {},
      "outputs": [],
      "source": [
        "import shutil\n",
        "\n",
        "source_directory = '/content/runs'\n",
        "destination_directory = '/content/drive/MyDrive/Colab Notebooks/FibreAnalysis/YoloResults1'\n",
        "\n",
        "shutil.copytree(source_directory, destination_directory)\n",
        "#!scp -r /content/runs '/content/drive/MyDrive/Colab Notebooks/FibreAnalysis/YoloResults'"
      ]
    }
  ],
  "metadata": {
    "accelerator": "GPU",
    "colab": {
      "provenance": []
    },
    "gpuClass": "standard",
    "kernelspec": {
      "display_name": "Python 3",
      "name": "python3"
    },
    "language_info": {
      "name": "python"
    }
  },
  "nbformat": 4,
  "nbformat_minor": 0
}
