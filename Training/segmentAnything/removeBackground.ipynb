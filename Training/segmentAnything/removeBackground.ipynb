{
 "cells": [
  {
   "cell_type": "code",
   "execution_count": 10,
   "metadata": {},
   "outputs": [],
   "source": [
    "# Doesn't work \n",
    "\n",
    "from rembg import remove\n",
    "import cv2      "
   ]
  },
  {
   "cell_type": "code",
   "execution_count": 15,
   "metadata": {},
   "outputs": [
    {
     "data": {
      "text/plain": [
       "True"
      ]
     },
     "execution_count": 15,
     "metadata": {},
     "output_type": "execute_result"
    }
   ],
   "source": [
    "input_path = r'C:\\Users\\dezos\\Documents\\Fibres\\FibreAnalysis\\Training\\segmentAnything\\fibre102.png'\n",
    "output_path = 'output2.png'\n",
    "\n",
    "input = cv2.imread(input_path)\n",
    "output = remove(input)\n",
    "cv2.imwrite(output_path, output)\n",
    "#cv2.imwrite(output_path, input)"
   ]
  }
 ],
 "metadata": {
  "kernelspec": {
   "display_name": "Fibres1",
   "language": "python",
   "name": "python3"
  },
  "language_info": {
   "codemirror_mode": {
    "name": "ipython",
    "version": 3
   },
   "file_extension": ".py",
   "mimetype": "text/x-python",
   "name": "python",
   "nbconvert_exporter": "python",
   "pygments_lexer": "ipython3",
   "version": "3.9.13"
  },
  "orig_nbformat": 4
 },
 "nbformat": 4,
 "nbformat_minor": 2
}
