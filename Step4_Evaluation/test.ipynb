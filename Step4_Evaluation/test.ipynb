{
 "cells": [
  {
   "cell_type": "code",
   "execution_count": 1,
   "metadata": {},
   "outputs": [],
   "source": [
    "import pandas as pd \n",
    "import os"
   ]
  },
  {
   "cell_type": "code",
   "execution_count": 4,
   "metadata": {},
   "outputs": [],
   "source": [
    "dataHolder = []\n",
    "dataHolder.append(['filename1', '3434', '5343', '35352'])\n",
    "dataHolder.append(['filename2', '8884', '7743', '6652'])"
   ]
  },
  {
   "cell_type": "code",
   "execution_count": 8,
   "metadata": {},
   "outputs": [],
   "source": [
    "counter = 1\n",
    "# Define the header names\n",
    "header_names = ['Filename', 'Column1', 'Column2', 'Column3']\n",
    "\n",
    "df = pd.DataFrame(dataHolder, columns=header_names)  # Pass the header names to the DataFrame constructor\n",
    "\n",
    "# Assuming 'counter' is defined elsewhere in your code\n",
    "filename = f'IOUResults_{counter}.csv'\n",
    "df.to_csv(filename, index=False)"
   ]
  },
  {
   "cell_type": "code",
   "execution_count": 9,
   "metadata": {},
   "outputs": [],
   "source": [
    "\n",
    "path = r'C:\\Users\\dezos\\Documents\\Fibres\\FibreAnalysis\\Step1_DataCreation\\Step4_Evaluate'\n",
    "\n",
    "dataHolder.append(['filename3', '3434', '5343', '35352'])\n",
    "dataHolder.append(['filename4', '8884', '7743', '6652'])\n",
    "\n",
    "counter = 2\n",
    "# Define the header names\n",
    "header_names = ['Filename', 'Column1', 'Column2', 'Column3']\n",
    "\n",
    "df = pd.DataFrame(dataHolder, columns=header_names)  # Pass the header names to the DataFrame constructor\n",
    "\n",
    "# Assuming 'counter' is defined elsewhere in your code\n",
    "filename = f'IOUResults_{counter}.csv'\n",
    "fullPath = os.path.join(path, filename)\n",
    "df.to_csv(fullPath, index=False)"
   ]
  }
 ],
 "metadata": {
  "kernelspec": {
   "display_name": "Fibres1",
   "language": "python",
   "name": "python3"
  },
  "language_info": {
   "codemirror_mode": {
    "name": "ipython",
    "version": 3
   },
   "file_extension": ".py",
   "mimetype": "text/x-python",
   "name": "python",
   "nbconvert_exporter": "python",
   "pygments_lexer": "ipython3",
   "version": "3.9.13"
  },
  "orig_nbformat": 4
 },
 "nbformat": 4,
 "nbformat_minor": 2
}
