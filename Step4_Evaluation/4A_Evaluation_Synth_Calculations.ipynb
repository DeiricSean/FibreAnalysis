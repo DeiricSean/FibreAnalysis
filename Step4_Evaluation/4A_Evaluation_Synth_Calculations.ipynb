{
  "cells": [
    {
      "cell_type": "code",
      "execution_count": null,
      "metadata": {},
      "outputs": [],
      "source": [
        "#    Author  : Derek O'Sullivan\n",
        "#    Date    : 14/08/23\n",
        "\n",
        "#    Purpose : Take all four models and run the evaluation steps of each. Then record the results to a csv for further evaluation"
      ]
    },
    {
      "cell_type": "code",
      "execution_count": 1,
      "metadata": {
        "colab": {
          "base_uri": "https://localhost:8080/"
        },
        "id": "OjHGvgwfdt5p",
        "outputId": "066cf489-53e0-4f95-abb4-29a2972866ae"
      },
      "outputs": [
        {
          "name": "stdout",
          "output_type": "stream",
          "text": [
            "Mounted at /content/drive\n"
          ]
        }
      ],
      "source": [
        "from google.colab import drive\n",
        "drive.mount('/content/drive')\n",
        "current_directory = '/content/drive/MyDrive/Colab Notebooks/FibreAnalysis/Data'\n",
        "\n",
        "from google.colab.patches import cv2_imshow"
      ]
    },
    {
      "cell_type": "code",
      "execution_count": 2,
      "metadata": {
        "id": "cnEbRLnZeBS6"
      },
      "outputs": [],
      "source": [
        "import pandas as pd\n",
        "import os\n",
        "import sys, os, distutils.core"
      ]
    },
    {
      "cell_type": "code",
      "execution_count": 3,
      "metadata": {
        "colab": {
          "base_uri": "https://localhost:8080/"
        },
        "id": "g-BROpCEdt5q",
        "outputId": "3cc955c1-0491-4924-8937-80769f76c08c"
      },
      "outputs": [
        {
          "name": "stdout",
          "output_type": "stream",
          "text": [
            "Cloning into 'detectron2'...\n",
            "remote: Enumerating objects: 15180, done.\u001b[K\n",
            "remote: Counting objects: 100% (201/201), done.\u001b[K\n",
            "remote: Compressing objects: 100% (125/125), done.\u001b[K\n",
            "remote: Total 15180 (delta 110), reused 138 (delta 76), pack-reused 14979\u001b[K\n",
            "Receiving objects: 100% (15180/15180), 6.22 MiB | 22.98 MiB/s, done.\n",
            "Resolving deltas: 100% (10977/10977), done.\n",
            "Requirement already satisfied: Pillow>=7.1 in /usr/local/lib/python3.10/dist-packages (9.4.0)\n",
            "Requirement already satisfied: matplotlib in /usr/local/lib/python3.10/dist-packages (3.7.1)\n",
            "Requirement already satisfied: pycocotools>=2.0.2 in /usr/local/lib/python3.10/dist-packages (2.0.6)\n",
            "Requirement already satisfied: termcolor>=1.1 in /usr/local/lib/python3.10/dist-packages (2.3.0)\n",
            "Collecting yacs>=0.1.8\n",
            "  Downloading yacs-0.1.8-py3-none-any.whl (14 kB)\n",
            "Requirement already satisfied: tabulate in /usr/local/lib/python3.10/dist-packages (0.9.0)\n",
            "Requirement already satisfied: cloudpickle in /usr/local/lib/python3.10/dist-packages (2.2.1)\n",
            "Requirement already satisfied: tqdm>4.29.0 in /usr/local/lib/python3.10/dist-packages (4.65.0)\n",
            "Requirement already satisfied: tensorboard in /usr/local/lib/python3.10/dist-packages (2.12.3)\n",
            "Collecting fvcore<0.1.6,>=0.1.5\n",
            "  Downloading fvcore-0.1.5.post20221221.tar.gz (50 kB)\n",
            "\u001b[2K     \u001b[90m━━━━━━━━━━━━━━━━━━━━━━━━━━━━━━━━━━━━━━━━\u001b[0m \u001b[32m50.2/50.2 kB\u001b[0m \u001b[31m2.7 MB/s\u001b[0m eta \u001b[36m0:00:00\u001b[0m\n",
            "\u001b[?25h  Preparing metadata (setup.py) ... \u001b[?25l\u001b[?25hdone\n",
            "Collecting iopath<0.1.10,>=0.1.7\n",
            "  Downloading iopath-0.1.9-py3-none-any.whl (27 kB)\n",
            "Collecting omegaconf>=2.1\n",
            "  Downloading omegaconf-2.3.0-py3-none-any.whl (79 kB)\n",
            "\u001b[2K     \u001b[90m━━━━━━━━━━━━━━━━━━━━━━━━━━━━━━━━━━━━━━━━\u001b[0m \u001b[32m79.5/79.5 kB\u001b[0m \u001b[31m7.1 MB/s\u001b[0m eta \u001b[36m0:00:00\u001b[0m\n",
            "\u001b[?25hCollecting hydra-core>=1.1\n",
            "  Downloading hydra_core-1.3.2-py3-none-any.whl (154 kB)\n",
            "\u001b[2K     \u001b[90m━━━━━━━━━━━━━━━━━━━━━━━━━━━━━━━━━━━━━━\u001b[0m \u001b[32m154.5/154.5 kB\u001b[0m \u001b[31m11.5 MB/s\u001b[0m eta \u001b[36m0:00:00\u001b[0m\n",
            "\u001b[?25hCollecting black\n",
            "  Downloading black-23.7.0-cp310-cp310-manylinux_2_17_x86_64.manylinux2014_x86_64.whl (1.7 MB)\n",
            "\u001b[2K     \u001b[90m━━━━━━━━━━━━━━━━━━━━━━━━━━━━━━━━━━━━━━━━\u001b[0m \u001b[32m1.7/1.7 MB\u001b[0m \u001b[31m21.5 MB/s\u001b[0m eta \u001b[36m0:00:00\u001b[0m\n",
            "\u001b[?25hRequirement already satisfied: packaging in /usr/local/lib/python3.10/dist-packages (23.1)\n",
            "Requirement already satisfied: contourpy>=1.0.1 in /usr/local/lib/python3.10/dist-packages (from matplotlib) (1.1.0)\n",
            "Requirement already satisfied: cycler>=0.10 in /usr/local/lib/python3.10/dist-packages (from matplotlib) (0.11.0)\n",
            "Requirement already satisfied: fonttools>=4.22.0 in /usr/local/lib/python3.10/dist-packages (from matplotlib) (4.41.1)\n",
            "Requirement already satisfied: kiwisolver>=1.0.1 in /usr/local/lib/python3.10/dist-packages (from matplotlib) (1.4.4)\n",
            "Requirement already satisfied: numpy>=1.20 in /usr/local/lib/python3.10/dist-packages (from matplotlib) (1.22.4)\n",
            "Requirement already satisfied: pyparsing>=2.3.1 in /usr/local/lib/python3.10/dist-packages (from matplotlib) (3.1.0)\n",
            "Requirement already satisfied: python-dateutil>=2.7 in /usr/local/lib/python3.10/dist-packages (from matplotlib) (2.8.2)\n",
            "Requirement already satisfied: PyYAML in /usr/local/lib/python3.10/dist-packages (from yacs>=0.1.8) (6.0.1)\n",
            "Requirement already satisfied: absl-py>=0.4 in /usr/local/lib/python3.10/dist-packages (from tensorboard) (1.4.0)\n",
            "Requirement already satisfied: grpcio>=1.48.2 in /usr/local/lib/python3.10/dist-packages (from tensorboard) (1.56.2)\n",
            "Requirement already satisfied: google-auth<3,>=1.6.3 in /usr/local/lib/python3.10/dist-packages (from tensorboard) (2.17.3)\n",
            "Requirement already satisfied: google-auth-oauthlib<1.1,>=0.5 in /usr/local/lib/python3.10/dist-packages (from tensorboard) (1.0.0)\n",
            "Requirement already satisfied: markdown>=2.6.8 in /usr/local/lib/python3.10/dist-packages (from tensorboard) (3.4.4)\n",
            "Requirement already satisfied: protobuf>=3.19.6 in /usr/local/lib/python3.10/dist-packages (from tensorboard) (3.20.3)\n",
            "Requirement already satisfied: requests<3,>=2.21.0 in /usr/local/lib/python3.10/dist-packages (from tensorboard) (2.27.1)\n",
            "Requirement already satisfied: setuptools>=41.0.0 in /usr/local/lib/python3.10/dist-packages (from tensorboard) (67.7.2)\n",
            "Requirement already satisfied: tensorboard-data-server<0.8.0,>=0.7.0 in /usr/local/lib/python3.10/dist-packages (from tensorboard) (0.7.1)\n",
            "Requirement already satisfied: werkzeug>=1.0.1 in /usr/local/lib/python3.10/dist-packages (from tensorboard) (2.3.6)\n",
            "Requirement already satisfied: wheel>=0.26 in /usr/local/lib/python3.10/dist-packages (from tensorboard) (0.41.0)\n",
            "Collecting portalocker (from iopath<0.1.10,>=0.1.7)\n",
            "  Downloading portalocker-2.7.0-py2.py3-none-any.whl (15 kB)\n",
            "Collecting antlr4-python3-runtime==4.9.* (from omegaconf>=2.1)\n",
            "  Downloading antlr4-python3-runtime-4.9.3.tar.gz (117 kB)\n",
            "\u001b[2K     \u001b[90m━━━━━━━━━━━━━━━━━━━━━━━━━━━━━━━━━━━━━━\u001b[0m \u001b[32m117.0/117.0 kB\u001b[0m \u001b[31m15.4 MB/s\u001b[0m eta \u001b[36m0:00:00\u001b[0m\n",
            "\u001b[?25h  Preparing metadata (setup.py) ... \u001b[?25l\u001b[?25hdone\n",
            "Requirement already satisfied: click>=8.0.0 in /usr/local/lib/python3.10/dist-packages (from black) (8.1.6)\n",
            "Collecting mypy-extensions>=0.4.3 (from black)\n",
            "  Downloading mypy_extensions-1.0.0-py3-none-any.whl (4.7 kB)\n",
            "Collecting pathspec>=0.9.0 (from black)\n",
            "  Downloading pathspec-0.11.2-py3-none-any.whl (29 kB)\n",
            "Requirement already satisfied: platformdirs>=2 in /usr/local/lib/python3.10/dist-packages (from black) (3.9.1)\n",
            "Requirement already satisfied: tomli>=1.1.0 in /usr/local/lib/python3.10/dist-packages (from black) (2.0.1)\n",
            "Requirement already satisfied: cachetools<6.0,>=2.0.0 in /usr/local/lib/python3.10/dist-packages (from google-auth<3,>=1.6.3->tensorboard) (5.3.1)\n",
            "Requirement already satisfied: pyasn1-modules>=0.2.1 in /usr/local/lib/python3.10/dist-packages (from google-auth<3,>=1.6.3->tensorboard) (0.3.0)\n",
            "Requirement already satisfied: six>=1.9.0 in /usr/local/lib/python3.10/dist-packages (from google-auth<3,>=1.6.3->tensorboard) (1.16.0)\n",
            "Requirement already satisfied: rsa<5,>=3.1.4 in /usr/local/lib/python3.10/dist-packages (from google-auth<3,>=1.6.3->tensorboard) (4.9)\n",
            "Requirement already satisfied: requests-oauthlib>=0.7.0 in /usr/local/lib/python3.10/dist-packages (from google-auth-oauthlib<1.1,>=0.5->tensorboard) (1.3.1)\n",
            "Requirement already satisfied: urllib3<1.27,>=1.21.1 in /usr/local/lib/python3.10/dist-packages (from requests<3,>=2.21.0->tensorboard) (1.26.16)\n",
            "Requirement already satisfied: certifi>=2017.4.17 in /usr/local/lib/python3.10/dist-packages (from requests<3,>=2.21.0->tensorboard) (2023.7.22)\n",
            "Requirement already satisfied: charset-normalizer~=2.0.0 in /usr/local/lib/python3.10/dist-packages (from requests<3,>=2.21.0->tensorboard) (2.0.12)\n",
            "Requirement already satisfied: idna<4,>=2.5 in /usr/local/lib/python3.10/dist-packages (from requests<3,>=2.21.0->tensorboard) (3.4)\n",
            "Requirement already satisfied: MarkupSafe>=2.1.1 in /usr/local/lib/python3.10/dist-packages (from werkzeug>=1.0.1->tensorboard) (2.1.3)\n",
            "Requirement already satisfied: pyasn1<0.6.0,>=0.4.6 in /usr/local/lib/python3.10/dist-packages (from pyasn1-modules>=0.2.1->google-auth<3,>=1.6.3->tensorboard) (0.5.0)\n",
            "Requirement already satisfied: oauthlib>=3.0.0 in /usr/local/lib/python3.10/dist-packages (from requests-oauthlib>=0.7.0->google-auth-oauthlib<1.1,>=0.5->tensorboard) (3.2.2)\n",
            "Building wheels for collected packages: fvcore, antlr4-python3-runtime\n",
            "  Building wheel for fvcore (setup.py) ... \u001b[?25l\u001b[?25hdone\n",
            "  Created wheel for fvcore: filename=fvcore-0.1.5.post20221221-py3-none-any.whl size=61406 sha256=0025541b565f23fd21919e7bdfd859ad5d52fedd2d6666943091cbc974af6cf7\n",
            "  Stored in directory: /root/.cache/pip/wheels/01/c0/af/77c1cf53a1be9e42a52b48e5af2169d40ec2e89f7362489dd0\n",
            "  Building wheel for antlr4-python3-runtime (setup.py) ... \u001b[?25l\u001b[?25hdone\n",
            "  Created wheel for antlr4-python3-runtime: filename=antlr4_python3_runtime-4.9.3-py3-none-any.whl size=144552 sha256=a75bb8737a95da33886c7cdc27dbb5a3f8749c2db71b6c8cc18b5886620b7d5e\n",
            "  Stored in directory: /root/.cache/pip/wheels/12/93/dd/1f6a127edc45659556564c5730f6d4e300888f4bca2d4c5a88\n",
            "Successfully built fvcore antlr4-python3-runtime\n",
            "Installing collected packages: antlr4-python3-runtime, yacs, portalocker, pathspec, omegaconf, mypy-extensions, iopath, hydra-core, black, fvcore\n",
            "Successfully installed antlr4-python3-runtime-4.9.3 black-23.7.0 fvcore-0.1.5.post20221221 hydra-core-1.3.2 iopath-0.1.9 mypy-extensions-1.0.0 omegaconf-2.3.0 pathspec-0.11.2 portalocker-2.7.0 yacs-0.1.8\n"
          ]
        }
      ],
      "source": [
        "# Install Detectron\n",
        "# Note: This is a faster way to install detectron2 in Colab, but it does not include all functionalities (e.g. compiled operators).\n",
        "# See https://detectron2.readthedocs.io/tutorials/install.html for full installation instructions\n",
        "!git clone 'https://github.com/facebookresearch/detectron2'\n",
        "dist = distutils.core.run_setup(\"./detectron2/setup.py\")\n",
        "!python -m pip install {' '.join([f\"'{x}'\" for x in dist.install_requires])}\n",
        "sys.path.insert(0, os.path.abspath('./detectron2'))"
      ]
    },
    {
      "cell_type": "code",
      "execution_count": 4,
      "metadata": {
        "colab": {
          "base_uri": "https://localhost:8080/"
        },
        "id": "ZRE7drmgdt5q",
        "outputId": "325cd5d6-201d-497f-9530-772722cbab80"
      },
      "outputs": [
        {
          "name": "stdout",
          "output_type": "stream",
          "text": [
            "PyTorch version: 2.0.1+cu118\n",
            "Torchvision version: 0.15.2+cu118\n",
            "CUDA is available: True\n",
            "Requirement already satisfied: opencv-python in /usr/local/lib/python3.10/dist-packages (4.7.0.72)\n",
            "Requirement already satisfied: matplotlib in /usr/local/lib/python3.10/dist-packages (3.7.1)\n",
            "Requirement already satisfied: numpy>=1.21.2 in /usr/local/lib/python3.10/dist-packages (from opencv-python) (1.22.4)\n",
            "Requirement already satisfied: contourpy>=1.0.1 in /usr/local/lib/python3.10/dist-packages (from matplotlib) (1.1.0)\n",
            "Requirement already satisfied: cycler>=0.10 in /usr/local/lib/python3.10/dist-packages (from matplotlib) (0.11.0)\n",
            "Requirement already satisfied: fonttools>=4.22.0 in /usr/local/lib/python3.10/dist-packages (from matplotlib) (4.41.1)\n",
            "Requirement already satisfied: kiwisolver>=1.0.1 in /usr/local/lib/python3.10/dist-packages (from matplotlib) (1.4.4)\n",
            "Requirement already satisfied: packaging>=20.0 in /usr/local/lib/python3.10/dist-packages (from matplotlib) (23.1)\n",
            "Requirement already satisfied: pillow>=6.2.0 in /usr/local/lib/python3.10/dist-packages (from matplotlib) (9.4.0)\n",
            "Requirement already satisfied: pyparsing>=2.3.1 in /usr/local/lib/python3.10/dist-packages (from matplotlib) (3.1.0)\n",
            "Requirement already satisfied: python-dateutil>=2.7 in /usr/local/lib/python3.10/dist-packages (from matplotlib) (2.8.2)\n",
            "Requirement already satisfied: six>=1.5 in /usr/local/lib/python3.10/dist-packages (from python-dateutil>=2.7->matplotlib) (1.16.0)\n",
            "Collecting git+https://github.com/facebookresearch/segment-anything.git\n",
            "  Cloning https://github.com/facebookresearch/segment-anything.git to /tmp/pip-req-build-njjrgulf\n",
            "  Running command git clone --filter=blob:none --quiet https://github.com/facebookresearch/segment-anything.git /tmp/pip-req-build-njjrgulf\n",
            "  Resolved https://github.com/facebookresearch/segment-anything.git to commit 6fdee8f2727f4506cfbbe553e23b895e27956588\n",
            "  Preparing metadata (setup.py) ... \u001b[?25l\u001b[?25hdone\n",
            "Building wheels for collected packages: segment-anything\n",
            "  Building wheel for segment-anything (setup.py) ... \u001b[?25l\u001b[?25hdone\n",
            "  Created wheel for segment-anything: filename=segment_anything-1.0-py3-none-any.whl size=36588 sha256=6e04023054ff6f8bfeb5fc7ec8b91c6a7dbc2b9c6675b89d6edee3ef7dc386cf\n",
            "  Stored in directory: /tmp/pip-ephem-wheel-cache-yv2y4bks/wheels/10/cf/59/9ccb2f0a1bcc81d4fbd0e501680b5d088d690c6cfbc02dc99d\n",
            "Successfully built segment-anything\n",
            "Installing collected packages: segment-anything\n",
            "Successfully installed segment-anything-1.0\n"
          ]
        }
      ],
      "source": [
        "using_colab = True\n",
        "if using_colab:\n",
        "    import torch\n",
        "    import torchvision\n",
        "    print(\"PyTorch version:\", torch.__version__)\n",
        "    print(\"Torchvision version:\", torchvision.__version__)\n",
        "    print(\"CUDA is available:\", torch.cuda.is_available())\n",
        "    import sys\n",
        "    !{sys.executable} -m pip install opencv-python matplotlib\n",
        "    !{sys.executable} -m pip install 'git+https://github.com/facebookresearch/segment-anything.git'"
      ]
    },
    {
      "cell_type": "code",
      "execution_count": 5,
      "metadata": {
        "colab": {
          "base_uri": "https://localhost:8080/",
          "height": 1000
        },
        "id": "9_cpvy9ldt5q",
        "outputId": "f46b49b0-1466-47eb-da3e-65f54cedc1e6"
      },
      "outputs": [
        {
          "name": "stdout",
          "output_type": "stream",
          "text": [
            "Collecting git+https://github.com/luca-medeiros/lang-segment-anything.git\n",
            "  Cloning https://github.com/luca-medeiros/lang-segment-anything.git to /tmp/pip-req-build-s0xj_qul\n",
            "  Running command git clone --filter=blob:none --quiet https://github.com/luca-medeiros/lang-segment-anything.git /tmp/pip-req-build-s0xj_qul\n",
            "  Resolved https://github.com/luca-medeiros/lang-segment-anything.git to commit 2ebcd001b0ed9dac9645ed54c35def2bba3ddbd2\n",
            "  Installing build dependencies ... \u001b[?25l\u001b[?25hdone\n",
            "  Getting requirements to build wheel ... \u001b[?25l\u001b[?25hdone\n",
            "  Preparing metadata (pyproject.toml) ... \u001b[?25l\u001b[?25hdone\n",
            "Collecting groundingdino@ git+https://github.com/IDEA-Research/GroundingDINO.git (from lang-sam==0.1.0)\n",
            "  Cloning https://github.com/IDEA-Research/GroundingDINO.git to /tmp/pip-install-un_ar4bc/groundingdino_fa4e708be1f046eb92a2e525d6118d27\n",
            "  Running command git clone --filter=blob:none --quiet https://github.com/IDEA-Research/GroundingDINO.git /tmp/pip-install-un_ar4bc/groundingdino_fa4e708be1f046eb92a2e525d6118d27\n",
            "  Resolved https://github.com/IDEA-Research/GroundingDINO.git to commit 60d796825e1266e56f7e4e9e00e88de662b67bd3\n",
            "  Preparing metadata (setup.py) ... \u001b[?25l\u001b[?25hdone\n",
            "Collecting segment-anything@ git+https://github.com/facebookresearch/segment-anything.git (from lang-sam==0.1.0)\n",
            "  Cloning https://github.com/facebookresearch/segment-anything.git to /tmp/pip-install-un_ar4bc/segment-anything_105c9eaa1c1146318f630246c13fed70\n",
            "  Running command git clone --filter=blob:none --quiet https://github.com/facebookresearch/segment-anything.git /tmp/pip-install-un_ar4bc/segment-anything_105c9eaa1c1146318f630246c13fed70\n",
            "  Resolved https://github.com/facebookresearch/segment-anything.git to commit 6fdee8f2727f4506cfbbe553e23b895e27956588\n",
            "  Preparing metadata (setup.py) ... \u001b[?25l\u001b[?25hdone\n",
            "Collecting Pillow==9.3.0 (from lang-sam==0.1.0)\n",
            "  Downloading Pillow-9.3.0-cp310-cp310-manylinux_2_28_x86_64.whl (3.3 MB)\n",
            "\u001b[2K     \u001b[90m━━━━━━━━━━━━━━━━━━━━━━━━━━━━━━━━━━━━━━━━\u001b[0m \u001b[32m3.3/3.3 MB\u001b[0m \u001b[31m20.3 MB/s\u001b[0m eta \u001b[36m0:00:00\u001b[0m\n",
            "\u001b[?25hCollecting gradio<4.0.0,>=3.24.1 (from lang-sam==0.1.0)\n",
            "  Downloading gradio-3.39.0-py3-none-any.whl (19.9 MB)\n",
            "\u001b[2K     \u001b[90m━━━━━━━━━━━━━━━━━━━━━━━━━━━━━━━━━━━━━━━━\u001b[0m \u001b[32m19.9/19.9 MB\u001b[0m \u001b[31m34.1 MB/s\u001b[0m eta \u001b[36m0:00:00\u001b[0m\n",
            "\u001b[?25hCollecting huggingface-hub<0.14.0,>=0.13.4 (from lang-sam==0.1.0)\n",
            "  Downloading huggingface_hub-0.13.4-py3-none-any.whl (200 kB)\n",
            "\u001b[2K     \u001b[90m━━━━━━━━━━━━━━━━━━━━━━━━━━━━━━━━━━━━━━\u001b[0m \u001b[32m200.1/200.1 kB\u001b[0m \u001b[31m24.5 MB/s\u001b[0m eta \u001b[36m0:00:00\u001b[0m\n",
            "\u001b[?25hCollecting lightning<3.0.0,>=2.0.1 (from lang-sam==0.1.0)\n",
            "  Downloading lightning-2.0.6-py3-none-any.whl (1.9 MB)\n",
            "\u001b[2K     \u001b[90m━━━━━━━━━━━━━━━━━━━━━━━━━━━━━━━━━━━━━━━━\u001b[0m \u001b[32m1.9/1.9 MB\u001b[0m \u001b[31m33.5 MB/s\u001b[0m eta \u001b[36m0:00:00\u001b[0m\n",
            "\u001b[?25hCollecting numpy<2.0.0,>=1.24.2 (from lang-sam==0.1.0)\n",
            "  Downloading numpy-1.25.1-cp310-cp310-manylinux_2_17_x86_64.manylinux2014_x86_64.whl (17.6 MB)\n",
            "\u001b[2K     \u001b[90m━━━━━━━━━━━━━━━━━━━━━━━━━━━━━━━━━━━━━━━━\u001b[0m \u001b[32m17.6/17.6 MB\u001b[0m \u001b[31m50.2 MB/s\u001b[0m eta \u001b[36m0:00:00\u001b[0m\n",
            "\u001b[?25hRequirement already satisfied: opencv_python<5.0.0.0,>=4.7.0.72 in /usr/local/lib/python3.10/dist-packages (from lang-sam==0.1.0) (4.7.0.72)\n",
            "Collecting transformers<5.0.0,>=4.27.4 (from lang-sam==0.1.0)\n",
            "  Downloading transformers-4.31.0-py3-none-any.whl (7.4 MB)\n",
            "\u001b[2K     \u001b[90m━━━━━━━━━━━━━━━━━━━━━━━━━━━━━━━━━━━━━━━━\u001b[0m \u001b[32m7.4/7.4 MB\u001b[0m \u001b[31m51.2 MB/s\u001b[0m eta \u001b[36m0:00:00\u001b[0m\n",
            "\u001b[?25hCollecting aiofiles<24.0,>=22.0 (from gradio<4.0.0,>=3.24.1->lang-sam==0.1.0)\n",
            "  Downloading aiofiles-23.1.0-py3-none-any.whl (14 kB)\n",
            "Requirement already satisfied: aiohttp~=3.0 in /usr/local/lib/python3.10/dist-packages (from gradio<4.0.0,>=3.24.1->lang-sam==0.1.0) (3.8.5)\n",
            "Requirement already satisfied: altair<6.0,>=4.2.0 in /usr/local/lib/python3.10/dist-packages (from gradio<4.0.0,>=3.24.1->lang-sam==0.1.0) (4.2.2)\n",
            "Collecting fastapi (from gradio<4.0.0,>=3.24.1->lang-sam==0.1.0)\n",
            "  Downloading fastapi-0.100.1-py3-none-any.whl (65 kB)\n",
            "\u001b[2K     \u001b[90m━━━━━━━━━━━━━━━━━━━━━━━━━━━━━━━━━━━━━━━━\u001b[0m \u001b[32m65.8/65.8 kB\u001b[0m \u001b[31m7.7 MB/s\u001b[0m eta \u001b[36m0:00:00\u001b[0m\n",
            "\u001b[?25hCollecting ffmpy (from gradio<4.0.0,>=3.24.1->lang-sam==0.1.0)\n",
            "  Downloading ffmpy-0.3.1.tar.gz (5.5 kB)\n",
            "  Preparing metadata (setup.py) ... \u001b[?25l\u001b[?25hdone\n",
            "Collecting gradio-client>=0.3.0 (from gradio<4.0.0,>=3.24.1->lang-sam==0.1.0)\n",
            "  Downloading gradio_client-0.3.0-py3-none-any.whl (294 kB)\n",
            "\u001b[2K     \u001b[90m━━━━━━━━━━━━━━━━━━━━━━━━━━━━━━━━━━━━━━\u001b[0m \u001b[32m294.2/294.2 kB\u001b[0m \u001b[31m28.4 MB/s\u001b[0m eta \u001b[36m0:00:00\u001b[0m\n",
            "\u001b[?25hCollecting httpx (from gradio<4.0.0,>=3.24.1->lang-sam==0.1.0)\n",
            "  Downloading httpx-0.24.1-py3-none-any.whl (75 kB)\n",
            "\u001b[2K     \u001b[90m━━━━━━━━━━━━━━━━━━━━━━━━━━━━━━━━━━━━━━━━\u001b[0m \u001b[32m75.4/75.4 kB\u001b[0m \u001b[31m9.0 MB/s\u001b[0m eta \u001b[36m0:00:00\u001b[0m\n",
            "\u001b[?25hINFO: pip is looking at multiple versions of gradio to determine which version is compatible with other requirements. This could take a while.\n",
            "Collecting gradio<4.0.0,>=3.24.1 (from lang-sam==0.1.0)\n",
            "  Downloading gradio-3.38.0-py3-none-any.whl (19.8 MB)\n",
            "\u001b[2K     \u001b[90m━━━━━━━━━━━━━━━━━━━━━━━━━━━━━━━━━━━━━━━━\u001b[0m \u001b[32m19.8/19.8 MB\u001b[0m \u001b[31m14.4 MB/s\u001b[0m eta \u001b[36m0:00:00\u001b[0m\n",
            "\u001b[?25h  Downloading gradio-3.37.0-py3-none-any.whl (19.8 MB)\n",
            "\u001b[2K     \u001b[90m━━━━━━━━━━━━━━━━━━━━━━━━━━━━━━━━━━━━━━━━\u001b[0m \u001b[32m19.8/19.8 MB\u001b[0m \u001b[31m48.8 MB/s\u001b[0m eta \u001b[36m0:00:00\u001b[0m\n",
            "\u001b[?25h  Downloading gradio-3.36.1-py3-none-any.whl (19.8 MB)\n",
            "\u001b[2K     \u001b[90m━━━━━━━━━━━━━━━━━━━━━━━━━━━━━━━━━━━━━━━━\u001b[0m \u001b[32m19.8/19.8 MB\u001b[0m \u001b[31m48.8 MB/s\u001b[0m eta \u001b[36m0:00:00\u001b[0m\n",
            "\u001b[?25h  Downloading gradio-3.36.0-py3-none-any.whl (19.8 MB)\n",
            "\u001b[2K     \u001b[90m━━━━━━━━━━━━━━━━━━━━━━━━━━━━━━━━━━━━━━━━\u001b[0m \u001b[32m19.8/19.8 MB\u001b[0m \u001b[31m50.3 MB/s\u001b[0m eta \u001b[36m0:00:00\u001b[0m\n",
            "\u001b[?25h  Downloading gradio-3.35.2-py3-none-any.whl (19.7 MB)\n",
            "\u001b[2K     \u001b[90m━━━━━━━━━━━━━━━━━━━━━━━━━━━━━━━━━━━━━━━━\u001b[0m \u001b[32m19.7/19.7 MB\u001b[0m \u001b[31m22.6 MB/s\u001b[0m eta \u001b[36m0:00:00\u001b[0m\n",
            "\u001b[?25h  Downloading gradio-3.35.1-py3-none-any.whl (19.7 MB)\n",
            "\u001b[2K     \u001b[90m━━━━━━━━━━━━━━━━━━━━━━━━━━━━━━━━━━━━━━━━\u001b[0m \u001b[32m19.7/19.7 MB\u001b[0m \u001b[31m41.4 MB/s\u001b[0m eta \u001b[36m0:00:00\u001b[0m\n",
            "\u001b[?25h  Downloading gradio-3.35.0-py3-none-any.whl (19.7 MB)\n",
            "\u001b[2K     \u001b[90m━━━━━━━━━━━━━━━━━━━━━━━━━━━━━━━━━━━━━━━━\u001b[0m \u001b[32m19.7/19.7 MB\u001b[0m \u001b[31m56.0 MB/s\u001b[0m eta \u001b[36m0:00:00\u001b[0m\n",
            "\u001b[?25hINFO: pip is looking at multiple versions of gradio to determine which version is compatible with other requirements. This could take a while.\n",
            "  Downloading gradio-3.34.0-py3-none-any.whl (20.0 MB)\n",
            "\u001b[2K     \u001b[90m━━━━━━━━━━━━━━━━━━━━━━━━━━━━━━━━━━━━━━━━\u001b[0m \u001b[32m20.0/20.0 MB\u001b[0m \u001b[31m17.8 MB/s\u001b[0m eta \u001b[36m0:00:00\u001b[0m\n",
            "\u001b[?25h  Downloading gradio-3.33.1-py3-none-any.whl (20.0 MB)\n",
            "\u001b[2K     \u001b[90m━━━━━━━━━━━━━━━━━━━━━━━━━━━━━━━━━━━━━━━━\u001b[0m \u001b[32m20.0/20.0 MB\u001b[0m \u001b[31m40.2 MB/s\u001b[0m eta \u001b[36m0:00:00\u001b[0m\n",
            "\u001b[?25h  Downloading gradio-3.33.0-py3-none-any.whl (20.0 MB)\n",
            "\u001b[2K     \u001b[90m━━━━━━━━━━━━━━━━━━━━━━━━━━━━━━━━━━━━━━━━\u001b[0m \u001b[32m20.0/20.0 MB\u001b[0m \u001b[31m48.7 MB/s\u001b[0m eta \u001b[36m0:00:00\u001b[0m\n",
            "\u001b[?25h  Downloading gradio-3.32.0-py3-none-any.whl (19.9 MB)\n",
            "\u001b[2K     \u001b[90m━━━━━━━━━━━━━━━━━━━━━━━━━━━━━━━━━━━━━━━━\u001b[0m \u001b[32m19.9/19.9 MB\u001b[0m \u001b[31m70.6 MB/s\u001b[0m eta \u001b[36m0:00:00\u001b[0m\n",
            "\u001b[?25hRequirement already satisfied: jinja2 in /usr/local/lib/python3.10/dist-packages (from gradio<4.0.0,>=3.24.1->lang-sam==0.1.0) (3.1.2)\n",
            "Requirement already satisfied: markdown-it-py[linkify]>=2.0.0 in /usr/local/lib/python3.10/dist-packages (from gradio<4.0.0,>=3.24.1->lang-sam==0.1.0) (3.0.0)\n",
            "Requirement already satisfied: markupsafe in /usr/local/lib/python3.10/dist-packages (from gradio<4.0.0,>=3.24.1->lang-sam==0.1.0) (2.1.3)\n",
            "Requirement already satisfied: matplotlib in /usr/local/lib/python3.10/dist-packages (from gradio<4.0.0,>=3.24.1->lang-sam==0.1.0) (3.7.1)\n",
            "Collecting mdit-py-plugins<=0.3.3 (from gradio<4.0.0,>=3.24.1->lang-sam==0.1.0)\n",
            "  Downloading mdit_py_plugins-0.3.3-py3-none-any.whl (50 kB)\n",
            "\u001b[2K     \u001b[90m━━━━━━━━━━━━━━━━━━━━━━━━━━━━━━━━━━━━━━━━\u001b[0m \u001b[32m50.5/50.5 kB\u001b[0m \u001b[31m6.9 MB/s\u001b[0m eta \u001b[36m0:00:00\u001b[0m\n",
            "\u001b[?25hCollecting orjson (from gradio<4.0.0,>=3.24.1->lang-sam==0.1.0)\n",
            "  Downloading orjson-3.9.2-cp310-cp310-manylinux_2_17_x86_64.manylinux2014_x86_64.whl (138 kB)\n",
            "\u001b[2K     \u001b[90m━━━━━━━━━━━━━━━━━━━━━━━━━━━━━━━━━━━━━━\u001b[0m \u001b[32m138.7/138.7 kB\u001b[0m \u001b[31m17.5 MB/s\u001b[0m eta \u001b[36m0:00:00\u001b[0m\n",
            "\u001b[?25hRequirement already satisfied: pandas in /usr/local/lib/python3.10/dist-packages (from gradio<4.0.0,>=3.24.1->lang-sam==0.1.0) (1.5.3)\n",
            "Requirement already satisfied: pydantic in /usr/local/lib/python3.10/dist-packages (from gradio<4.0.0,>=3.24.1->lang-sam==0.1.0) (1.10.12)\n",
            "Collecting pydub (from gradio<4.0.0,>=3.24.1->lang-sam==0.1.0)\n",
            "  Downloading pydub-0.25.1-py2.py3-none-any.whl (32 kB)\n",
            "Requirement already satisfied: pygments>=2.12.0 in /usr/local/lib/python3.10/dist-packages (from gradio<4.0.0,>=3.24.1->lang-sam==0.1.0) (2.14.0)\n",
            "Collecting python-multipart (from gradio<4.0.0,>=3.24.1->lang-sam==0.1.0)\n",
            "  Downloading python_multipart-0.0.6-py3-none-any.whl (45 kB)\n",
            "\u001b[2K     \u001b[90m━━━━━━━━━━━━━━━━━━━━━━━━━━━━━━━━━━━━━━━━\u001b[0m \u001b[32m45.7/45.7 kB\u001b[0m \u001b[31m5.8 MB/s\u001b[0m eta \u001b[36m0:00:00\u001b[0m\n",
            "\u001b[?25hRequirement already satisfied: pyyaml in /usr/local/lib/python3.10/dist-packages (from gradio<4.0.0,>=3.24.1->lang-sam==0.1.0) (6.0.1)\n",
            "Requirement already satisfied: requests in /usr/local/lib/python3.10/dist-packages (from gradio<4.0.0,>=3.24.1->lang-sam==0.1.0) (2.27.1)\n",
            "Collecting semantic-version (from gradio<4.0.0,>=3.24.1->lang-sam==0.1.0)\n",
            "  Downloading semantic_version-2.10.0-py2.py3-none-any.whl (15 kB)\n",
            "Requirement already satisfied: typing-extensions in /usr/local/lib/python3.10/dist-packages (from gradio<4.0.0,>=3.24.1->lang-sam==0.1.0) (4.7.1)\n",
            "Collecting uvicorn>=0.14.0 (from gradio<4.0.0,>=3.24.1->lang-sam==0.1.0)\n",
            "  Downloading uvicorn-0.23.1-py3-none-any.whl (59 kB)\n",
            "\u001b[2K     \u001b[90m━━━━━━━━━━━━━━━━━━━━━━━━━━━━━━━━━━━━━━━━\u001b[0m \u001b[32m59.5/59.5 kB\u001b[0m \u001b[31m7.8 MB/s\u001b[0m eta \u001b[36m0:00:00\u001b[0m\n",
            "\u001b[?25hCollecting websockets>=10.0 (from gradio<4.0.0,>=3.24.1->lang-sam==0.1.0)\n",
            "  Downloading websockets-11.0.3-cp310-cp310-manylinux_2_5_x86_64.manylinux1_x86_64.manylinux_2_17_x86_64.manylinux2014_x86_64.whl (129 kB)\n",
            "\u001b[2K     \u001b[90m━━━━━━━━━━━━━━━━━━━━━━━━━━━━━━━━━━━━━━\u001b[0m \u001b[32m129.9/129.9 kB\u001b[0m \u001b[31m17.1 MB/s\u001b[0m eta \u001b[36m0:00:00\u001b[0m\n",
            "\u001b[?25hRequirement already satisfied: filelock in /usr/local/lib/python3.10/dist-packages (from huggingface-hub<0.14.0,>=0.13.4->lang-sam==0.1.0) (3.12.2)\n",
            "Requirement already satisfied: tqdm>=4.42.1 in /usr/local/lib/python3.10/dist-packages (from huggingface-hub<0.14.0,>=0.13.4->lang-sam==0.1.0) (4.65.0)\n",
            "Requirement already satisfied: packaging>=20.9 in /usr/local/lib/python3.10/dist-packages (from huggingface-hub<0.14.0,>=0.13.4->lang-sam==0.1.0) (23.1)\n",
            "Collecting arrow<3.0,>=1.2.0 (from lightning<3.0.0,>=2.0.1->lang-sam==0.1.0)\n",
            "  Downloading arrow-1.2.3-py3-none-any.whl (66 kB)\n",
            "\u001b[2K     \u001b[90m━━━━━━━━━━━━━━━━━━━━━━━━━━━━━━━━━━━━━━━━\u001b[0m \u001b[32m66.4/66.4 kB\u001b[0m \u001b[31m8.9 MB/s\u001b[0m eta \u001b[36m0:00:00\u001b[0m\n",
            "\u001b[?25hCollecting backoff<4.0,>=2.2.1 (from lightning<3.0.0,>=2.0.1->lang-sam==0.1.0)\n",
            "  Downloading backoff-2.2.1-py3-none-any.whl (15 kB)\n",
            "Requirement already satisfied: beautifulsoup4<6.0,>=4.8.0 in /usr/local/lib/python3.10/dist-packages (from lightning<3.0.0,>=2.0.1->lang-sam==0.1.0) (4.11.2)\n",
            "Requirement already satisfied: click<10.0 in /usr/local/lib/python3.10/dist-packages (from lightning<3.0.0,>=2.0.1->lang-sam==0.1.0) (8.1.6)\n",
            "Collecting croniter<1.5.0,>=1.3.0 (from lightning<3.0.0,>=2.0.1->lang-sam==0.1.0)\n",
            "  Downloading croniter-1.4.1-py2.py3-none-any.whl (19 kB)\n",
            "Collecting dateutils<2.0 (from lightning<3.0.0,>=2.0.1->lang-sam==0.1.0)\n",
            "  Downloading dateutils-0.6.12-py2.py3-none-any.whl (5.7 kB)\n",
            "Collecting deepdiff<8.0,>=5.7.0 (from lightning<3.0.0,>=2.0.1->lang-sam==0.1.0)\n",
            "  Downloading deepdiff-6.3.1-py3-none-any.whl (70 kB)\n",
            "\u001b[2K     \u001b[90m━━━━━━━━━━━━━━━━━━━━━━━━━━━━━━━━━━━━━━━━\u001b[0m \u001b[32m70.7/70.7 kB\u001b[0m \u001b[31m9.5 MB/s\u001b[0m eta \u001b[36m0:00:00\u001b[0m\n",
            "\u001b[?25hRequirement already satisfied: fsspec<2025.0,>=2022.5.0 in /usr/local/lib/python3.10/dist-packages (from lightning<3.0.0,>=2.0.1->lang-sam==0.1.0) (2023.6.0)\n",
            "Collecting inquirer<5.0,>=2.10.0 (from lightning<3.0.0,>=2.0.1->lang-sam==0.1.0)\n",
            "  Downloading inquirer-3.1.3-py3-none-any.whl (18 kB)\n",
            "Collecting lightning-cloud>=0.5.37 (from lightning<3.0.0,>=2.0.1->lang-sam==0.1.0)\n",
            "  Downloading lightning_cloud-0.5.37-py3-none-any.whl (596 kB)\n",
            "\u001b[2K     \u001b[90m━━━━━━━━━━━━━━━━━━━━━━━━━━━━━━━━━━━━━━\u001b[0m \u001b[32m596.7/596.7 kB\u001b[0m \u001b[31m54.6 MB/s\u001b[0m eta \u001b[36m0:00:00\u001b[0m\n",
            "\u001b[?25hCollecting lightning-utilities<2.0,>=0.7.0 (from lightning<3.0.0,>=2.0.1->lang-sam==0.1.0)\n",
            "  Downloading lightning_utilities-0.9.0-py3-none-any.whl (23 kB)\n",
            "Requirement already satisfied: psutil<7.0 in /usr/local/lib/python3.10/dist-packages (from lightning<3.0.0,>=2.0.1->lang-sam==0.1.0) (5.9.5)\n",
            "Requirement already satisfied: rich<15.0,>=12.3.0 in /usr/local/lib/python3.10/dist-packages (from lightning<3.0.0,>=2.0.1->lang-sam==0.1.0) (13.4.2)\n",
            "Collecting starlette (from lightning<3.0.0,>=2.0.1->lang-sam==0.1.0)\n",
            "  Downloading starlette-0.31.0-py3-none-any.whl (69 kB)\n",
            "\u001b[2K     \u001b[90m━━━━━━━━━━━━━━━━━━━━━━━━━━━━━━━━━━━━━━━━\u001b[0m \u001b[32m69.8/69.8 kB\u001b[0m \u001b[31m9.2 MB/s\u001b[0m eta \u001b[36m0:00:00\u001b[0m\n",
            "\u001b[?25hCollecting starsessions<2.0,>=1.2.1 (from lightning<3.0.0,>=2.0.1->lang-sam==0.1.0)\n",
            "  Downloading starsessions-1.3.0-py3-none-any.whl (10 kB)\n",
            "Requirement already satisfied: torch<4.0,>=1.11.0 in /usr/local/lib/python3.10/dist-packages (from lightning<3.0.0,>=2.0.1->lang-sam==0.1.0) (2.0.1+cu118)\n",
            "Collecting torchmetrics<2.0,>=0.7.0 (from lightning<3.0.0,>=2.0.1->lang-sam==0.1.0)\n",
            "  Downloading torchmetrics-1.0.1-py3-none-any.whl (729 kB)\n",
            "\u001b[2K     \u001b[90m━━━━━━━━━━━━━━━━━━━━━━━━━━━━━━━━━━━━━━\u001b[0m \u001b[32m729.2/729.2 kB\u001b[0m \u001b[31m57.8 MB/s\u001b[0m eta \u001b[36m0:00:00\u001b[0m\n",
            "\u001b[?25hRequirement already satisfied: traitlets<7.0,>=5.3.0 in /usr/local/lib/python3.10/dist-packages (from lightning<3.0.0,>=2.0.1->lang-sam==0.1.0) (5.7.1)\n",
            "Requirement already satisfied: urllib3<4.0 in /usr/local/lib/python3.10/dist-packages (from lightning<3.0.0,>=2.0.1->lang-sam==0.1.0) (1.26.16)\n",
            "Requirement already satisfied: websocket-client<3.0 in /usr/local/lib/python3.10/dist-packages (from lightning<3.0.0,>=2.0.1->lang-sam==0.1.0) (1.6.1)\n",
            "Collecting pytorch-lightning (from lightning<3.0.0,>=2.0.1->lang-sam==0.1.0)\n",
            "  Downloading pytorch_lightning-2.0.6-py3-none-any.whl (722 kB)\n",
            "\u001b[2K     \u001b[90m━━━━━━━━━━━━━━━━━━━━━━━━━━━━━━━━━━━━━━\u001b[0m \u001b[32m722.8/722.8 kB\u001b[0m \u001b[31m50.3 MB/s\u001b[0m eta \u001b[36m0:00:00\u001b[0m\n",
            "\u001b[?25hINFO: pip is looking at multiple versions of transformers to determine which version is compatible with other requirements. This could take a while.\n",
            "Collecting transformers<5.0.0,>=4.27.4 (from lang-sam==0.1.0)\n",
            "  Downloading transformers-4.30.2-py3-none-any.whl (7.2 MB)\n",
            "\u001b[2K     \u001b[90m━━━━━━━━━━━━━━━━━━━━━━━━━━━━━━━━━━━━━━━━\u001b[0m \u001b[32m7.2/7.2 MB\u001b[0m \u001b[31m24.3 MB/s\u001b[0m eta \u001b[36m0:00:00\u001b[0m\n",
            "\u001b[?25h  Downloading transformers-4.30.1-py3-none-any.whl (7.2 MB)\n",
            "\u001b[2K     \u001b[90m━━━━━━━━━━━━━━━━━━━━━━━━━━━━━━━━━━━━━━━━\u001b[0m \u001b[32m7.2/7.2 MB\u001b[0m \u001b[31m114.0 MB/s\u001b[0m eta \u001b[36m0:00:00\u001b[0m\n",
            "\u001b[?25h  Downloading transformers-4.30.0-py3-none-any.whl (7.2 MB)\n",
            "\u001b[2K     \u001b[90m━━━━━━━━━━━━━━━━━━━━━━━━━━━━━━━━━━━━━━━━\u001b[0m \u001b[32m7.2/7.2 MB\u001b[0m \u001b[31m113.5 MB/s\u001b[0m eta \u001b[36m0:00:00\u001b[0m\n",
            "\u001b[?25h  Downloading transformers-4.29.2-py3-none-any.whl (7.1 MB)\n",
            "\u001b[2K     \u001b[90m━━━━━━━━━━━━━━━━━━━━━━━━━━━━━━━━━━━━━━━━\u001b[0m \u001b[32m7.1/7.1 MB\u001b[0m \u001b[31m105.0 MB/s\u001b[0m eta \u001b[36m0:00:00\u001b[0m\n",
            "\u001b[?25h  Downloading transformers-4.29.1-py3-none-any.whl (7.1 MB)\n",
            "\u001b[2K     \u001b[90m━━━━━━━━━━━━━━━━━━━━━━━━━━━━━━━━━━━━━━━━\u001b[0m \u001b[32m7.1/7.1 MB\u001b[0m \u001b[31m118.4 MB/s\u001b[0m eta \u001b[36m0:00:00\u001b[0m\n",
            "\u001b[?25h  Downloading transformers-4.29.0-py3-none-any.whl (7.1 MB)\n",
            "\u001b[2K     \u001b[90m━━━━━━━━━━━━━━━━━━━━━━━━━━━━━━━━━━━━━━━━\u001b[0m \u001b[32m7.1/7.1 MB\u001b[0m \u001b[31m103.0 MB/s\u001b[0m eta \u001b[36m0:00:00\u001b[0m\n",
            "\u001b[?25hRequirement already satisfied: regex!=2019.12.17 in /usr/local/lib/python3.10/dist-packages (from transformers<5.0.0,>=4.27.4->lang-sam==0.1.0) (2022.10.31)\n",
            "Collecting tokenizers!=0.11.3,<0.14,>=0.11.1 (from transformers<5.0.0,>=4.27.4->lang-sam==0.1.0)\n",
            "  Downloading tokenizers-0.13.3-cp310-cp310-manylinux_2_17_x86_64.manylinux2014_x86_64.whl (7.8 MB)\n",
            "\u001b[2K     \u001b[90m━━━━━━━━━━━━━━━━━━━━━━━━━━━━━━━━━━━━━━━━\u001b[0m \u001b[32m7.8/7.8 MB\u001b[0m \u001b[31m113.7 MB/s\u001b[0m eta \u001b[36m0:00:00\u001b[0m\n",
            "\u001b[?25hRequirement already satisfied: torchvision in /usr/local/lib/python3.10/dist-packages (from groundingdino@ git+https://github.com/IDEA-Research/GroundingDINO.git->lang-sam==0.1.0) (0.15.2+cu118)\n",
            "Collecting addict (from groundingdino@ git+https://github.com/IDEA-Research/GroundingDINO.git->lang-sam==0.1.0)\n",
            "  Downloading addict-2.4.0-py3-none-any.whl (3.8 kB)\n",
            "Collecting yapf (from groundingdino@ git+https://github.com/IDEA-Research/GroundingDINO.git->lang-sam==0.1.0)\n",
            "  Downloading yapf-0.40.1-py3-none-any.whl (250 kB)\n",
            "\u001b[2K     \u001b[90m━━━━━━━━━━━━━━━━━━━━━━━━━━━━━━━━━━━━━━\u001b[0m \u001b[32m250.3/250.3 kB\u001b[0m \u001b[31m29.5 MB/s\u001b[0m eta \u001b[36m0:00:00\u001b[0m\n",
            "\u001b[?25hCollecting timm (from groundingdino@ git+https://github.com/IDEA-Research/GroundingDINO.git->lang-sam==0.1.0)\n",
            "  Downloading timm-0.9.2-py3-none-any.whl (2.2 MB)\n",
            "\u001b[2K     \u001b[90m━━━━━━━━━━━━━━━━━━━━━━━━━━━━━━━━━━━━━━━━\u001b[0m \u001b[32m2.2/2.2 MB\u001b[0m \u001b[31m84.0 MB/s\u001b[0m eta \u001b[36m0:00:00\u001b[0m\n",
            "\u001b[?25hCollecting supervision==0.6.0 (from groundingdino@ git+https://github.com/IDEA-Research/GroundingDINO.git->lang-sam==0.1.0)\n",
            "  Downloading supervision-0.6.0-py3-none-any.whl (31 kB)\n",
            "Requirement already satisfied: pycocotools in /usr/local/lib/python3.10/dist-packages (from groundingdino@ git+https://github.com/IDEA-Research/GroundingDINO.git->lang-sam==0.1.0) (2.0.6)\n",
            "Requirement already satisfied: entrypoints in /usr/local/lib/python3.10/dist-packages (from altair<6.0,>=4.2.0->gradio<4.0.0,>=3.24.1->lang-sam==0.1.0) (0.4)\n",
            "Requirement already satisfied: jsonschema>=3.0 in /usr/local/lib/python3.10/dist-packages (from altair<6.0,>=4.2.0->gradio<4.0.0,>=3.24.1->lang-sam==0.1.0) (4.3.3)\n",
            "Requirement already satisfied: toolz in /usr/local/lib/python3.10/dist-packages (from altair<6.0,>=4.2.0->gradio<4.0.0,>=3.24.1->lang-sam==0.1.0) (0.12.0)\n",
            "Requirement already satisfied: python-dateutil>=2.7.0 in /usr/local/lib/python3.10/dist-packages (from arrow<3.0,>=1.2.0->lightning<3.0.0,>=2.0.1->lang-sam==0.1.0) (2.8.2)\n",
            "Requirement already satisfied: soupsieve>1.2 in /usr/local/lib/python3.10/dist-packages (from beautifulsoup4<6.0,>=4.8.0->lightning<3.0.0,>=2.0.1->lang-sam==0.1.0) (2.4.1)\n",
            "Requirement already satisfied: pytz in /usr/local/lib/python3.10/dist-packages (from dateutils<2.0->lightning<3.0.0,>=2.0.1->lang-sam==0.1.0) (2022.7.1)\n",
            "Collecting ordered-set<4.2.0,>=4.0.2 (from deepdiff<8.0,>=5.7.0->lightning<3.0.0,>=2.0.1->lang-sam==0.1.0)\n",
            "  Downloading ordered_set-4.1.0-py3-none-any.whl (7.6 kB)\n",
            "Collecting starlette (from lightning<3.0.0,>=2.0.1->lang-sam==0.1.0)\n",
            "  Downloading starlette-0.27.0-py3-none-any.whl (66 kB)\n",
            "\u001b[2K     \u001b[90m━━━━━━━━━━━━━━━━━━━━━━━━━━━━━━━━━━━━━━━━\u001b[0m \u001b[32m67.0/67.0 kB\u001b[0m \u001b[31m8.9 MB/s\u001b[0m eta \u001b[36m0:00:00\u001b[0m\n",
            "\u001b[?25hRequirement already satisfied: attrs>=17.3.0 in /usr/local/lib/python3.10/dist-packages (from aiohttp~=3.0->gradio<4.0.0,>=3.24.1->lang-sam==0.1.0) (23.1.0)\n",
            "Requirement already satisfied: charset-normalizer<4.0,>=2.0 in /usr/local/lib/python3.10/dist-packages (from aiohttp~=3.0->gradio<4.0.0,>=3.24.1->lang-sam==0.1.0) (2.0.12)\n",
            "Requirement already satisfied: multidict<7.0,>=4.5 in /usr/local/lib/python3.10/dist-packages (from aiohttp~=3.0->gradio<4.0.0,>=3.24.1->lang-sam==0.1.0) (6.0.4)\n",
            "Requirement already satisfied: async-timeout<5.0,>=4.0.0a3 in /usr/local/lib/python3.10/dist-packages (from aiohttp~=3.0->gradio<4.0.0,>=3.24.1->lang-sam==0.1.0) (4.0.2)\n",
            "Requirement already satisfied: yarl<2.0,>=1.0 in /usr/local/lib/python3.10/dist-packages (from aiohttp~=3.0->gradio<4.0.0,>=3.24.1->lang-sam==0.1.0) (1.9.2)\n",
            "Requirement already satisfied: frozenlist>=1.1.1 in /usr/local/lib/python3.10/dist-packages (from aiohttp~=3.0->gradio<4.0.0,>=3.24.1->lang-sam==0.1.0) (1.4.0)\n",
            "Requirement already satisfied: aiosignal>=1.1.2 in /usr/local/lib/python3.10/dist-packages (from aiohttp~=3.0->gradio<4.0.0,>=3.24.1->lang-sam==0.1.0) (1.3.1)\n",
            "Collecting blessed>=1.19.0 (from inquirer<5.0,>=2.10.0->lightning<3.0.0,>=2.0.1->lang-sam==0.1.0)\n",
            "  Downloading blessed-1.20.0-py2.py3-none-any.whl (58 kB)\n",
            "\u001b[2K     \u001b[90m━━━━━━━━━━━━━━━━━━━━━━━━━━━━━━━━━━━━━━━━\u001b[0m \u001b[32m58.4/58.4 kB\u001b[0m \u001b[31m8.0 MB/s\u001b[0m eta \u001b[36m0:00:00\u001b[0m\n",
            "\u001b[?25hCollecting python-editor>=1.0.4 (from inquirer<5.0,>=2.10.0->lightning<3.0.0,>=2.0.1->lang-sam==0.1.0)\n",
            "  Downloading python_editor-1.0.4-py3-none-any.whl (4.9 kB)\n",
            "Collecting readchar>=3.0.6 (from inquirer<5.0,>=2.10.0->lightning<3.0.0,>=2.0.1->lang-sam==0.1.0)\n",
            "  Downloading readchar-4.0.5-py3-none-any.whl (8.5 kB)\n",
            "Requirement already satisfied: pyjwt in /usr/lib/python3/dist-packages (from lightning-cloud>=0.5.37->lightning<3.0.0,>=2.0.1->lang-sam==0.1.0) (2.3.0)\n",
            "Requirement already satisfied: six in /usr/local/lib/python3.10/dist-packages (from lightning-cloud>=0.5.37->lightning<3.0.0,>=2.0.1->lang-sam==0.1.0) (1.16.0)\n",
            "Requirement already satisfied: mdurl~=0.1 in /usr/local/lib/python3.10/dist-packages (from markdown-it-py[linkify]>=2.0.0->gradio<4.0.0,>=3.24.1->lang-sam==0.1.0) (0.1.2)\n",
            "Requirement already satisfied: linkify-it-py<3,>=1 in /usr/local/lib/python3.10/dist-packages (from markdown-it-py[linkify]>=2.0.0->gradio<4.0.0,>=3.24.1->lang-sam==0.1.0) (2.0.2)\n",
            "INFO: pip is looking at multiple versions of mdit-py-plugins to determine which version is compatible with other requirements. This could take a while.\n",
            "Collecting mdit-py-plugins<=0.3.3 (from gradio<4.0.0,>=3.24.1->lang-sam==0.1.0)\n",
            "  Downloading mdit_py_plugins-0.3.2-py3-none-any.whl (50 kB)\n",
            "\u001b[2K     \u001b[90m━━━━━━━━━━━━━━━━━━━━━━━━━━━━━━━━━━━━━━━━\u001b[0m \u001b[32m50.4/50.4 kB\u001b[0m \u001b[31m6.8 MB/s\u001b[0m eta \u001b[36m0:00:00\u001b[0m\n",
            "\u001b[?25h  Downloading mdit_py_plugins-0.3.1-py3-none-any.whl (46 kB)\n",
            "\u001b[2K     \u001b[90m━━━━━━━━━━━━━━━━━━━━━━━━━━━━━━━━━━━━━━━━\u001b[0m \u001b[32m46.5/46.5 kB\u001b[0m \u001b[31m6.1 MB/s\u001b[0m eta \u001b[36m0:00:00\u001b[0m\n",
            "\u001b[?25h  Downloading mdit_py_plugins-0.3.0-py3-none-any.whl (43 kB)\n",
            "\u001b[2K     \u001b[90m━━━━━━━━━━━━━━━━━━━━━━━━━━━━━━━━━━━━━━━━\u001b[0m \u001b[32m43.7/43.7 kB\u001b[0m \u001b[31m5.6 MB/s\u001b[0m eta \u001b[36m0:00:00\u001b[0m\n",
            "\u001b[?25h  Downloading mdit_py_plugins-0.2.8-py3-none-any.whl (41 kB)\n",
            "\u001b[2K     \u001b[90m━━━━━━━━━━━━━━━━━━━━━━━━━━━━━━━━━━━━━━━━\u001b[0m \u001b[32m41.0/41.0 kB\u001b[0m \u001b[31m4.9 MB/s\u001b[0m eta \u001b[36m0:00:00\u001b[0m\n",
            "\u001b[?25h  Downloading mdit_py_plugins-0.2.7-py3-none-any.whl (41 kB)\n",
            "\u001b[2K     \u001b[90m━━━━━━━━━━━━━━━━━━━━━━━━━━━━━━━━━━━━━━━━\u001b[0m \u001b[32m41.0/41.0 kB\u001b[0m \u001b[31m5.1 MB/s\u001b[0m eta \u001b[36m0:00:00\u001b[0m\n",
            "\u001b[?25h  Downloading mdit_py_plugins-0.2.6-py3-none-any.whl (39 kB)\n",
            "  Downloading mdit_py_plugins-0.2.5-py3-none-any.whl (39 kB)\n",
            "INFO: pip is looking at multiple versions of mdit-py-plugins to determine which version is compatible with other requirements. This could take a while.\n",
            "  Downloading mdit_py_plugins-0.2.4-py3-none-any.whl (39 kB)\n",
            "  Downloading mdit_py_plugins-0.2.3-py3-none-any.whl (39 kB)\n",
            "  Downloading mdit_py_plugins-0.2.2-py3-none-any.whl (39 kB)\n",
            "  Downloading mdit_py_plugins-0.2.1-py3-none-any.whl (38 kB)\n",
            "  Downloading mdit_py_plugins-0.2.0-py3-none-any.whl (38 kB)\n",
            "INFO: This is taking longer than usual. You might need to provide the dependency resolver with stricter constraints to reduce runtime. See https://pip.pypa.io/warnings/backtracking for guidance. If you want to abort this run, press Ctrl + C.\n",
            "  Downloading mdit_py_plugins-0.1.0-py3-none-any.whl (37 kB)\n",
            "Collecting markdown-it-py[linkify]>=2.0.0 (from gradio<4.0.0,>=3.24.1->lang-sam==0.1.0)\n",
            "  Downloading markdown_it_py-3.0.0-py3-none-any.whl (87 kB)\n",
            "\u001b[2K     \u001b[90m━━━━━━━━━━━━━━━━━━━━━━━━━━━━━━━━━━━━━━━━\u001b[0m \u001b[32m87.5/87.5 kB\u001b[0m \u001b[31m11.5 MB/s\u001b[0m eta \u001b[36m0:00:00\u001b[0m\n",
            "\u001b[?25h  Downloading markdown_it_py-2.2.0-py3-none-any.whl (84 kB)\n",
            "\u001b[2K     \u001b[90m━━━━━━━━━━━━━━━━━━━━━━━━━━━━━━━━━━━━━━━━\u001b[0m \u001b[32m84.5/84.5 kB\u001b[0m \u001b[31m10.7 MB/s\u001b[0m eta \u001b[36m0:00:00\u001b[0m\n",
            "\u001b[?25hRequirement already satisfied: certifi>=2017.4.17 in /usr/local/lib/python3.10/dist-packages (from requests->gradio<4.0.0,>=3.24.1->lang-sam==0.1.0) (2023.7.22)\n",
            "Requirement already satisfied: idna<4,>=2.5 in /usr/local/lib/python3.10/dist-packages (from requests->gradio<4.0.0,>=3.24.1->lang-sam==0.1.0) (3.4)\n",
            "Requirement already satisfied: anyio<5,>=3.4.0 in /usr/local/lib/python3.10/dist-packages (from starlette->lightning<3.0.0,>=2.0.1->lang-sam==0.1.0) (3.7.1)\n",
            "Requirement already satisfied: itsdangerous<3.0.0,>=2.0.1 in /usr/local/lib/python3.10/dist-packages (from starsessions<2.0,>=1.2.1->lightning<3.0.0,>=2.0.1->lang-sam==0.1.0) (2.1.2)\n",
            "Requirement already satisfied: sympy in /usr/local/lib/python3.10/dist-packages (from torch<4.0,>=1.11.0->lightning<3.0.0,>=2.0.1->lang-sam==0.1.0) (1.11.1)\n",
            "Requirement already satisfied: networkx in /usr/local/lib/python3.10/dist-packages (from torch<4.0,>=1.11.0->lightning<3.0.0,>=2.0.1->lang-sam==0.1.0) (3.1)\n",
            "Requirement already satisfied: triton==2.0.0 in /usr/local/lib/python3.10/dist-packages (from torch<4.0,>=1.11.0->lightning<3.0.0,>=2.0.1->lang-sam==0.1.0) (2.0.0)\n",
            "Requirement already satisfied: cmake in /usr/local/lib/python3.10/dist-packages (from triton==2.0.0->torch<4.0,>=1.11.0->lightning<3.0.0,>=2.0.1->lang-sam==0.1.0) (3.25.2)\n",
            "Requirement already satisfied: lit in /usr/local/lib/python3.10/dist-packages (from triton==2.0.0->torch<4.0,>=1.11.0->lightning<3.0.0,>=2.0.1->lang-sam==0.1.0) (16.0.6)\n",
            "Collecting h11>=0.8 (from uvicorn>=0.14.0->gradio<4.0.0,>=3.24.1->lang-sam==0.1.0)\n",
            "  Downloading h11-0.14.0-py3-none-any.whl (58 kB)\n",
            "\u001b[2K     \u001b[90m━━━━━━━━━━━━━━━━━━━━━━━━━━━━━━━━━━━━━━━━\u001b[0m \u001b[32m58.3/58.3 kB\u001b[0m \u001b[31m7.3 MB/s\u001b[0m eta \u001b[36m0:00:00\u001b[0m\n",
            "\u001b[?25hCollecting httpcore<0.18.0,>=0.15.0 (from httpx->gradio<4.0.0,>=3.24.1->lang-sam==0.1.0)\n",
            "  Downloading httpcore-0.17.3-py3-none-any.whl (74 kB)\n",
            "\u001b[2K     \u001b[90m━━━━━━━━━━━━━━━━━━━━━━━━━━━━━━━━━━━━━━━━\u001b[0m \u001b[32m74.5/74.5 kB\u001b[0m \u001b[31m9.1 MB/s\u001b[0m eta \u001b[36m0:00:00\u001b[0m\n",
            "\u001b[?25hRequirement already satisfied: sniffio in /usr/local/lib/python3.10/dist-packages (from httpx->gradio<4.0.0,>=3.24.1->lang-sam==0.1.0) (1.3.0)\n",
            "Requirement already satisfied: contourpy>=1.0.1 in /usr/local/lib/python3.10/dist-packages (from matplotlib->gradio<4.0.0,>=3.24.1->lang-sam==0.1.0) (1.1.0)\n",
            "Requirement already satisfied: cycler>=0.10 in /usr/local/lib/python3.10/dist-packages (from matplotlib->gradio<4.0.0,>=3.24.1->lang-sam==0.1.0) (0.11.0)\n",
            "Requirement already satisfied: fonttools>=4.22.0 in /usr/local/lib/python3.10/dist-packages (from matplotlib->gradio<4.0.0,>=3.24.1->lang-sam==0.1.0) (4.41.1)\n",
            "Requirement already satisfied: kiwisolver>=1.0.1 in /usr/local/lib/python3.10/dist-packages (from matplotlib->gradio<4.0.0,>=3.24.1->lang-sam==0.1.0) (1.4.4)\n",
            "Requirement already satisfied: pyparsing>=2.3.1 in /usr/local/lib/python3.10/dist-packages (from matplotlib->gradio<4.0.0,>=3.24.1->lang-sam==0.1.0) (3.1.0)\n",
            "Collecting safetensors (from timm->groundingdino@ git+https://github.com/IDEA-Research/GroundingDINO.git->lang-sam==0.1.0)\n",
            "  Downloading safetensors-0.3.1-cp310-cp310-manylinux_2_17_x86_64.manylinux2014_x86_64.whl (1.3 MB)\n",
            "\u001b[2K     \u001b[90m━━━━━━━━━━━━━━━━━━━━━━━━━━━━━━━━━━━━━━━━\u001b[0m \u001b[32m1.3/1.3 MB\u001b[0m \u001b[31m66.3 MB/s\u001b[0m eta \u001b[36m0:00:00\u001b[0m\n",
            "\u001b[?25hCollecting importlib-metadata>=6.6.0 (from yapf->groundingdino@ git+https://github.com/IDEA-Research/GroundingDINO.git->lang-sam==0.1.0)\n",
            "  Downloading importlib_metadata-6.8.0-py3-none-any.whl (22 kB)\n",
            "Requirement already satisfied: platformdirs>=3.5.1 in /usr/local/lib/python3.10/dist-packages (from yapf->groundingdino@ git+https://github.com/IDEA-Research/GroundingDINO.git->lang-sam==0.1.0) (3.9.1)\n",
            "Requirement already satisfied: tomli>=2.0.1 in /usr/local/lib/python3.10/dist-packages (from yapf->groundingdino@ git+https://github.com/IDEA-Research/GroundingDINO.git->lang-sam==0.1.0) (2.0.1)\n",
            "Requirement already satisfied: exceptiongroup in /usr/local/lib/python3.10/dist-packages (from anyio<5,>=3.4.0->starlette->lightning<3.0.0,>=2.0.1->lang-sam==0.1.0) (1.1.2)\n",
            "Requirement already satisfied: wcwidth>=0.1.4 in /usr/local/lib/python3.10/dist-packages (from blessed>=1.19.0->inquirer<5.0,>=2.10.0->lightning<3.0.0,>=2.0.1->lang-sam==0.1.0) (0.2.6)\n",
            "Requirement already satisfied: zipp>=0.5 in /usr/local/lib/python3.10/dist-packages (from importlib-metadata>=6.6.0->yapf->groundingdino@ git+https://github.com/IDEA-Research/GroundingDINO.git->lang-sam==0.1.0) (3.16.2)\n",
            "Requirement already satisfied: pyrsistent!=0.17.0,!=0.17.1,!=0.17.2,>=0.14.0 in /usr/local/lib/python3.10/dist-packages (from jsonschema>=3.0->altair<6.0,>=4.2.0->gradio<4.0.0,>=3.24.1->lang-sam==0.1.0) (0.19.3)\n",
            "Requirement already satisfied: uc-micro-py in /usr/local/lib/python3.10/dist-packages (from linkify-it-py<3,>=1->markdown-it-py[linkify]>=2.0.0->gradio<4.0.0,>=3.24.1->lang-sam==0.1.0) (1.0.2)\n",
            "Requirement already satisfied: setuptools>=41.0 in /usr/local/lib/python3.10/dist-packages (from readchar>=3.0.6->inquirer<5.0,>=2.10.0->lightning<3.0.0,>=2.0.1->lang-sam==0.1.0) (67.7.2)\n",
            "Requirement already satisfied: mpmath>=0.19 in /usr/local/lib/python3.10/dist-packages (from sympy->torch<4.0,>=1.11.0->lightning<3.0.0,>=2.0.1->lang-sam==0.1.0) (1.3.0)\n",
            "Building wheels for collected packages: lang-sam, groundingdino, ffmpy\n",
            "  Building wheel for lang-sam (pyproject.toml) ... \u001b[?25l\u001b[?25hdone\n",
            "  Created wheel for lang-sam: filename=lang_sam-0.1.0-py3-none-any.whl size=9476 sha256=262b0c26c39577d9b16eb65da48903cde567b0ac63f507f247bec2840999b54f\n",
            "  Stored in directory: /tmp/pip-ephem-wheel-cache-pp1lt2uu/wheels/c7/1d/cd/6f34f8ca4fbc01b7a1f522cf9c4654cbe4fcd4268069d6e739\n",
            "  Building wheel for groundingdino (setup.py) ... \u001b[?25l\u001b[?25hdone\n",
            "  Created wheel for groundingdino: filename=groundingdino-0.1.0-cp310-cp310-linux_x86_64.whl size=2868820 sha256=e867f56da49ea1af54336bc2f3a83fdf30dbe3752c3bdc22b319a5edfe85e7de\n",
            "  Stored in directory: /tmp/pip-ephem-wheel-cache-pp1lt2uu/wheels/6b/06/d7/b57f601a4df56af41d262a5b1b496359b13c323bf5ef0434b2\n",
            "  Building wheel for ffmpy (setup.py) ... \u001b[?25l\u001b[?25hdone\n",
            "  Created wheel for ffmpy: filename=ffmpy-0.3.1-py3-none-any.whl size=5579 sha256=7a0d23e4555da522d516ea78fece2e51d31b65fc09379c06227f894a69e2c70c\n",
            "  Stored in directory: /root/.cache/pip/wheels/01/a6/d1/1c0828c304a4283b2c1639a09ad86f83d7c487ef34c6b4a1bf\n",
            "Successfully built lang-sam groundingdino ffmpy\n",
            "Installing collected packages: tokenizers, safetensors, python-editor, pydub, ffmpy, addict, websockets, semantic-version, readchar, python-multipart, Pillow, orjson, ordered-set, numpy, markdown-it-py, lightning-utilities, importlib-metadata, h11, blessed, backoff, aiofiles, yapf, uvicorn, starlette, mdit-py-plugins, inquirer, huggingface-hub, httpcore, deepdiff, dateutils, croniter, arrow, transformers, starsessions, httpx, fastapi, supervision, lightning-cloud, gradio-client, gradio, torchmetrics, timm, pytorch-lightning, lightning, groundingdino, lang-sam\n",
            "  Attempting uninstall: Pillow\n",
            "    Found existing installation: Pillow 9.4.0\n",
            "    Uninstalling Pillow-9.4.0:\n",
            "      Successfully uninstalled Pillow-9.4.0\n",
            "  Attempting uninstall: numpy\n",
            "    Found existing installation: numpy 1.22.4\n",
            "    Uninstalling numpy-1.22.4:\n",
            "      Successfully uninstalled numpy-1.22.4\n",
            "  Attempting uninstall: markdown-it-py\n",
            "    Found existing installation: markdown-it-py 3.0.0\n",
            "    Uninstalling markdown-it-py-3.0.0:\n",
            "      Successfully uninstalled markdown-it-py-3.0.0\n",
            "  Attempting uninstall: importlib-metadata\n",
            "    Found existing installation: importlib-metadata 4.6.4\n",
            "    Uninstalling importlib-metadata-4.6.4:\n",
            "      Successfully uninstalled importlib-metadata-4.6.4\n",
            "  Attempting uninstall: mdit-py-plugins\n",
            "    Found existing installation: mdit-py-plugins 0.4.0\n",
            "    Uninstalling mdit-py-plugins-0.4.0:\n",
            "      Successfully uninstalled mdit-py-plugins-0.4.0\n",
            "\u001b[31mERROR: pip's dependency resolver does not currently take into account all the packages that are installed. This behaviour is the source of the following dependency conflicts.\n",
            "numba 0.56.4 requires numpy<1.24,>=1.18, but you have numpy 1.25.1 which is incompatible.\n",
            "tensorflow 2.12.0 requires numpy<1.24,>=1.22, but you have numpy 1.25.1 which is incompatible.\u001b[0m\u001b[31m\n",
            "\u001b[0mSuccessfully installed Pillow-9.3.0 addict-2.4.0 aiofiles-23.1.0 arrow-1.2.3 backoff-2.2.1 blessed-1.20.0 croniter-1.4.1 dateutils-0.6.12 deepdiff-6.3.1 fastapi-0.100.1 ffmpy-0.3.1 gradio-3.32.0 gradio-client-0.3.0 groundingdino-0.1.0 h11-0.14.0 httpcore-0.17.3 httpx-0.24.1 huggingface-hub-0.13.4 importlib-metadata-6.8.0 inquirer-3.1.3 lang-sam-0.1.0 lightning-2.0.6 lightning-cloud-0.5.37 lightning-utilities-0.9.0 markdown-it-py-2.2.0 mdit-py-plugins-0.3.3 numpy-1.25.1 ordered-set-4.1.0 orjson-3.9.2 pydub-0.25.1 python-editor-1.0.4 python-multipart-0.0.6 pytorch-lightning-2.0.6 readchar-4.0.5 safetensors-0.3.1 semantic-version-2.10.0 starlette-0.27.0 starsessions-1.3.0 supervision-0.6.0 timm-0.9.2 tokenizers-0.13.3 torchmetrics-1.0.1 transformers-4.29.0 uvicorn-0.23.1 websockets-11.0.3 yapf-0.40.1\n"
          ]
        },
        {
          "data": {
            "application/vnd.colab-display-data+json": {
              "pip_warning": {
                "packages": [
                  "PIL",
                  "numpy"
                ]
              }
            }
          },
          "metadata": {},
          "output_type": "display_data"
        }
      ],
      "source": [
        "# Install Language Segment Anything\n",
        "%pip install -U git+https://github.com/luca-medeiros/lang-segment-anything.git"
      ]
    },
    {
      "cell_type": "code",
      "execution_count": 6,
      "metadata": {
        "colab": {
          "base_uri": "https://localhost:8080/"
        },
        "id": "fcKvEm4Vdt5r",
        "outputId": "8b577d95-92c1-4236-f17c-539080e03025"
      },
      "outputs": [
        {
          "name": "stdout",
          "output_type": "stream",
          "text": [
            "Collecting ultralytics\n",
            "  Downloading ultralytics-8.0.143-py3-none-any.whl (604 kB)\n",
            "\u001b[2K     \u001b[90m━━━━━━━━━━━━━━━━━━━━━━━━━━━━━━━━━━━━━━━\u001b[0m \u001b[32m605.0/605.0 kB\u001b[0m \u001b[31m8.8 MB/s\u001b[0m eta \u001b[36m0:00:00\u001b[0m\n",
            "\u001b[?25hRequirement already satisfied: matplotlib>=3.2.2 in /usr/local/lib/python3.10/dist-packages (from ultralytics) (3.7.1)\n",
            "Requirement already satisfied: opencv-python>=4.6.0 in /usr/local/lib/python3.10/dist-packages (from ultralytics) (4.7.0.72)\n",
            "Requirement already satisfied: pillow>=7.1.2 in /usr/local/lib/python3.10/dist-packages (from ultralytics) (9.3.0)\n",
            "Requirement already satisfied: pyyaml>=5.3.1 in /usr/local/lib/python3.10/dist-packages (from ultralytics) (6.0.1)\n",
            "Requirement already satisfied: requests>=2.23.0 in /usr/local/lib/python3.10/dist-packages (from ultralytics) (2.27.1)\n",
            "Requirement already satisfied: scipy>=1.4.1 in /usr/local/lib/python3.10/dist-packages (from ultralytics) (1.10.1)\n",
            "Requirement already satisfied: torch>=1.7.0 in /usr/local/lib/python3.10/dist-packages (from ultralytics) (2.0.1+cu118)\n",
            "Requirement already satisfied: torchvision>=0.8.1 in /usr/local/lib/python3.10/dist-packages (from ultralytics) (0.15.2+cu118)\n",
            "Requirement already satisfied: tqdm>=4.64.0 in /usr/local/lib/python3.10/dist-packages (from ultralytics) (4.65.0)\n",
            "Requirement already satisfied: pandas>=1.1.4 in /usr/local/lib/python3.10/dist-packages (from ultralytics) (1.5.3)\n",
            "Requirement already satisfied: seaborn>=0.11.0 in /usr/local/lib/python3.10/dist-packages (from ultralytics) (0.12.2)\n",
            "Requirement already satisfied: psutil in /usr/local/lib/python3.10/dist-packages (from ultralytics) (5.9.5)\n",
            "Requirement already satisfied: py-cpuinfo in /usr/local/lib/python3.10/dist-packages (from ultralytics) (9.0.0)\n",
            "Requirement already satisfied: contourpy>=1.0.1 in /usr/local/lib/python3.10/dist-packages (from matplotlib>=3.2.2->ultralytics) (1.1.0)\n",
            "Requirement already satisfied: cycler>=0.10 in /usr/local/lib/python3.10/dist-packages (from matplotlib>=3.2.2->ultralytics) (0.11.0)\n",
            "Requirement already satisfied: fonttools>=4.22.0 in /usr/local/lib/python3.10/dist-packages (from matplotlib>=3.2.2->ultralytics) (4.41.1)\n",
            "Requirement already satisfied: kiwisolver>=1.0.1 in /usr/local/lib/python3.10/dist-packages (from matplotlib>=3.2.2->ultralytics) (1.4.4)\n",
            "Requirement already satisfied: numpy>=1.20 in /usr/local/lib/python3.10/dist-packages (from matplotlib>=3.2.2->ultralytics) (1.25.1)\n",
            "Requirement already satisfied: packaging>=20.0 in /usr/local/lib/python3.10/dist-packages (from matplotlib>=3.2.2->ultralytics) (23.1)\n",
            "Requirement already satisfied: pyparsing>=2.3.1 in /usr/local/lib/python3.10/dist-packages (from matplotlib>=3.2.2->ultralytics) (3.1.0)\n",
            "Requirement already satisfied: python-dateutil>=2.7 in /usr/local/lib/python3.10/dist-packages (from matplotlib>=3.2.2->ultralytics) (2.8.2)\n",
            "Requirement already satisfied: pytz>=2020.1 in /usr/local/lib/python3.10/dist-packages (from pandas>=1.1.4->ultralytics) (2022.7.1)\n",
            "Requirement already satisfied: urllib3<1.27,>=1.21.1 in /usr/local/lib/python3.10/dist-packages (from requests>=2.23.0->ultralytics) (1.26.16)\n",
            "Requirement already satisfied: certifi>=2017.4.17 in /usr/local/lib/python3.10/dist-packages (from requests>=2.23.0->ultralytics) (2023.7.22)\n",
            "Requirement already satisfied: charset-normalizer~=2.0.0 in /usr/local/lib/python3.10/dist-packages (from requests>=2.23.0->ultralytics) (2.0.12)\n",
            "Requirement already satisfied: idna<4,>=2.5 in /usr/local/lib/python3.10/dist-packages (from requests>=2.23.0->ultralytics) (3.4)\n",
            "Requirement already satisfied: filelock in /usr/local/lib/python3.10/dist-packages (from torch>=1.7.0->ultralytics) (3.12.2)\n",
            "Requirement already satisfied: typing-extensions in /usr/local/lib/python3.10/dist-packages (from torch>=1.7.0->ultralytics) (4.7.1)\n",
            "Requirement already satisfied: sympy in /usr/local/lib/python3.10/dist-packages (from torch>=1.7.0->ultralytics) (1.11.1)\n",
            "Requirement already satisfied: networkx in /usr/local/lib/python3.10/dist-packages (from torch>=1.7.0->ultralytics) (3.1)\n",
            "Requirement already satisfied: jinja2 in /usr/local/lib/python3.10/dist-packages (from torch>=1.7.0->ultralytics) (3.1.2)\n",
            "Requirement already satisfied: triton==2.0.0 in /usr/local/lib/python3.10/dist-packages (from torch>=1.7.0->ultralytics) (2.0.0)\n",
            "Requirement already satisfied: cmake in /usr/local/lib/python3.10/dist-packages (from triton==2.0.0->torch>=1.7.0->ultralytics) (3.25.2)\n",
            "Requirement already satisfied: lit in /usr/local/lib/python3.10/dist-packages (from triton==2.0.0->torch>=1.7.0->ultralytics) (16.0.6)\n",
            "Requirement already satisfied: six>=1.5 in /usr/local/lib/python3.10/dist-packages (from python-dateutil>=2.7->matplotlib>=3.2.2->ultralytics) (1.16.0)\n",
            "Requirement already satisfied: MarkupSafe>=2.0 in /usr/local/lib/python3.10/dist-packages (from jinja2->torch>=1.7.0->ultralytics) (2.1.3)\n",
            "Requirement already satisfied: mpmath>=0.19 in /usr/local/lib/python3.10/dist-packages (from sympy->torch>=1.7.0->ultralytics) (1.3.0)\n",
            "Installing collected packages: ultralytics\n",
            "Successfully installed ultralytics-8.0.143\n"
          ]
        }
      ],
      "source": [
        "# Install Ultralytics package (for YOLO)\n",
        "!pip install ultralytics"
      ]
    },
    {
      "cell_type": "code",
      "execution_count": 9,
      "metadata": {
        "id": "ue-m5sP6dt5r"
      },
      "outputs": [],
      "source": [
        "import os\n",
        "import random\n",
        "import cv2\n",
        "from ultralytics import YOLO\n",
        "import torch\n",
        "import numpy as np\n",
        "import pandas as pd\n",
        "#from scipy.stats import kruskal\n",
        "#import scikit_posthocs as sp\n",
        "import detectron2\n",
        "# import some common detectron2 utilities\n",
        "from detectron2 import model_zoo\n",
        "from detectron2.engine import DefaultPredictor\n",
        "from detectron2.config import get_cfg\n",
        "from detectron2.utils.visualizer import Visualizer\n",
        "from detectron2.data import MetadataCatalog, DatasetCatalog\n",
        "from detectron2.structures import BoxMode\n",
        "from detectron2.engine import DefaultTrainer\n",
        "from detectron2.utils.visualizer import ColorMode\n",
        "import matplotlib.pyplot as plt\n",
        "from segment_anything import sam_model_registry, SamAutomaticMaskGenerator, SamPredictor\n",
        "from lang_sam import LangSAM    #pip install -U git+https://github.com/luca-medeiros/lang-segment-anything.git\n",
        "from PIL import Image\n",
        "from lang_sam.utils import draw_image\n"
      ]
    },
    {
      "cell_type": "code",
      "execution_count": 78,
      "metadata": {
        "id": "J7h1NrS_dt5r"
      },
      "outputs": [],
      "source": [
        "\n",
        "def GetYOLOResult_Contour(results):\n",
        "\n",
        "    # Create a list to store dictionaries with area and count for each result\n",
        "    result_data = []\n",
        "\n",
        "    for result in results:\n",
        "        areas = []\n",
        "        image_shape = result.orig_shape\n",
        "\n",
        "        overall_mask = np.zeros((result.orig_shape[0], result.orig_shape[1]), dtype=np.uint8)\n",
        "       # print(result)\n",
        "        for j, mask in enumerate(result.masks.data):\n",
        "        #   # Move the mask tensor to CPU if it's on a CUDA device\n",
        "            mask_np = mask.detach().cpu().numpy() if isinstance(mask, torch.Tensor) else mask\n",
        "\n",
        "        #   # Convert the mask to uint8 and resize it to match the image size\n",
        "#            mask_np = cv2.resize((mask_np.astype( np.uint8) * 255), (result.orig_shape[1], result.orig_shape[0]))\n",
        "\n",
        "            # Resize to original image size, Using INTER_NEAREST ensures resized mask remains binary with values 0 and 1, preserving its original nature.\n",
        "            mask_np_resized = cv2.resize(mask_np, (result.orig_shape[1], result.orig_shape[0]), interpolation=cv2.INTER_NEAREST).astype(np.uint8)\n",
        "\n",
        "            contours, _ = cv2.findContours(mask_np_resized, cv2.RETR_EXTERNAL, cv2.CHAIN_APPROX_SIMPLE)\n",
        "\n",
        "    # Initialize the total area for this mask\n",
        "            total_area = 0.0\n",
        "\n",
        "            # Iterate through each contour and calculate its area\n",
        "            for contour in contours:\n",
        "                area = cv2.contourArea(contour)\n",
        "                total_area += area\n",
        "\n",
        "            #area_covered = np.sum(mask_np_resized)\n",
        "            areas.append(total_area)\n",
        "\n",
        "            # Combine the current mask with the overall mask using logical OR operation\n",
        "            overall_mask = cv2.bitwise_or(overall_mask, mask_np_resized)\n",
        "\n",
        "        result_data.append({'area': sum(areas), 'count': len(areas), 'overallMask': overall_mask})\n",
        "\n",
        "    return result_data  # get count of fibres and area covered\n",
        "\n",
        "\n",
        "def GetYOLOResult(results):\n",
        "\n",
        "    # Create a list to store dictionaries with area and count for each result\n",
        "    result_data = []\n",
        "\n",
        "    for result in results:\n",
        "        areas = []\n",
        "        image_shape = result.orig_shape\n",
        "        overall_mask = np.zeros((result.orig_shape[0], result.orig_shape[1]), dtype=np.uint8)\n",
        "        for j, mask in enumerate(result.masks.data):\n",
        "        #   # Move the mask tensor to CPU if it's on a CUDA device\n",
        "            mask_np = mask.detach().cpu().numpy() if isinstance(mask, torch.Tensor) else mask\n",
        "\n",
        "        #   # Convert the mask to uint8 and resize it to match the image size\n",
        "#            mask_np = cv2.resize((mask_np.astype( np.uint8) * 255), (result.orig_shape[1], result.orig_shape[0]))\n",
        "\n",
        "            # Resize to original image size, Using INTER_NEAREST ensures resized mask remains binary with values 0 and 1, preserving its original nature.\n",
        "            mask_np_resized = cv2.resize(mask_np, (result.orig_shape[1], result.orig_shape[0]), interpolation=cv2.INTER_NEAREST).astype(np.uint8)\n",
        "\n",
        "            area_covered = np.sum(mask_np_resized)\n",
        "            areas.append(area_covered)\n",
        "\n",
        "            # Combine the current mask with the overall mask using logical OR operation\n",
        "            overall_mask = cv2.bitwise_or(overall_mask, mask_np_resized)\n",
        "\n",
        "        result_data.append({'area': sum(areas), 'count': len(areas), 'overallMask': overall_mask})\n",
        "\n",
        "    return result_data  # get count of fibres and area covered\n",
        "\n",
        "\n",
        "\n",
        "def getMaskContours(mask):\n",
        "\n",
        " # Create a list to store dictionaries with area and count for each result\n",
        "    result_data = []\n",
        "\n",
        "    areas = []\n",
        "\n",
        "    # Calculate the contour of the mask using cv2.findContours (only external contours)\n",
        "    contours, _ = cv2.findContours(mask, cv2.RETR_EXTERNAL, cv2.CHAIN_APPROX_SIMPLE)\n",
        "\n",
        "        # Initialize the total area for this mask\n",
        "    total_area = 0.0\n",
        "\n",
        "        # Iterate through each contour and calculate its area\n",
        "    for contour in contours:\n",
        "        area = cv2.contourArea(contour)\n",
        "        total_area += area\n",
        "\n",
        "    areas.append(total_area)\n",
        "\n",
        "    result_data.append({'area': sum(areas), 'count': len(contours)})\n",
        "\n",
        "    return result_data  # get count of fibres and area covered\n",
        "\n",
        "\n",
        "\n",
        "def GetDetectronResult(results):\n",
        "\n",
        "    # Create a list to store dictionaries with area and count for each result\n",
        "    result_data = []\n",
        "\n",
        "    # Access the predicted masks\n",
        "    predicted_masks = results[\"instances\"].pred_masks\n",
        "    predicted_masks_np = predicted_masks.cpu().numpy().astype(np.uint8)\n",
        "\n",
        "    image_size = results[\"instances\"].image_size\n",
        "    height, width = image_size\n",
        "\n",
        "    overall_mask = np.zeros((height, width), dtype=np.uint8)\n",
        "    areas = []\n",
        "    for i, mask in enumerate(predicted_masks_np):\n",
        "\n",
        "    # Calculate the contour of the mask using cv2.findContours (only external contours)\n",
        "        contours, _ = cv2.findContours(mask, cv2.RETR_EXTERNAL, cv2.CHAIN_APPROX_SIMPLE)\n",
        "\n",
        "        # Initialize the total area for this mask\n",
        "        total_area = 0.0\n",
        "\n",
        "        # Iterate through each contour and calculate its area\n",
        "        for contour in contours:\n",
        "            area = cv2.contourArea(contour)\n",
        "            total_area += area\n",
        "\n",
        "        areas.append(total_area)\n",
        "\n",
        "        # Combine the current mask with the overall mask using logical OR operation\n",
        "        overall_mask = cv2.bitwise_or(overall_mask, mask)\n",
        "\n",
        "    result_data.append({'area': sum(areas), 'count': len(areas), 'overallMask': overall_mask})\n",
        "\n",
        "    return result_data  # get count of fibres and area covered\n",
        "\n",
        "\n",
        "def GetSAMresult(results):\n",
        "\n",
        "    # Create a list to store dictionaries with area and count for each result\n",
        "    result_data = []\n",
        "\n",
        "    width = results[0]['crop_box'][2]          # Cropping is the same for all the image and so represents the size of the image\n",
        "    height = results[0]['crop_box'][3]\n",
        "    overall_mask = np.zeros((height, width), dtype=np.uint8)\n",
        "    areas = []\n",
        "#    print('results', results)\n",
        "\n",
        "    for i in range(1, len(results)):   # Ignore the first finding because that always seemsto be the entire shape\n",
        "        results[i]['segmentation']\n",
        "        # Move the mask tensor to CPU if it's on a CUDA device\n",
        "        #mask_np = results[i]['segmentation'].detach().cpu().numpy() if isinstance(results[i]['segmentation'], torch.Tensor) else results[i]['segmentation']\n",
        "\n",
        "        mask_tensor = results[i]['segmentation']\n",
        "        if isinstance(mask_tensor, torch.Tensor):\n",
        "            mask_np = mask_tensor.detach().cpu().numpy()\n",
        "        else:\n",
        "            mask_np = mask_tensor\n",
        "#        overall_mask[mask_np] = 1\n",
        "        areas.append(results[i]['area'])\n",
        "\n",
        "        # Combine the current mask with the overall mask using logical OR operation\n",
        "        #overall_mask = cv2.bitwise_or(overall_mask, mask_np)\n",
        "        # Find the maximum value in mask_np\n",
        "        #max_value = np.max(mask_np)\n",
        "        #print(\"Maximum value in mask_np:\", max_value, 'loop', i)\n",
        "\n",
        "        overall_mask[mask_np] = 1\n",
        "    result_data.append({'area': sum(areas), 'count': len(results), 'overallMask': overall_mask})\n",
        "    return result_data  # get count of fibres and area covered\n",
        "\n",
        "\n",
        "\n",
        "def getSAMLang_Result(result):\n",
        "\n",
        "    result_data = []\n",
        "    mask_np = result.detach().cpu().numpy().astype(np.uint8) if isinstance(result, torch.Tensor) else result\n",
        "\n",
        "   # Access the predicted masks\n",
        "\n",
        "    image_size = mask_np.shape\n",
        "\n",
        "    height = image_size[1]\n",
        "    width = image_size[2]\n",
        "\n",
        "    overall_mask = np.zeros((height, width), dtype=np.uint8)\n",
        "    areas = []\n",
        "    for i, mask in enumerate(mask_np):\n",
        "\n",
        "    # Calculate the contour of the mask using cv2.findContours (only external contours)\n",
        "        contours, _ = cv2.findContours(mask, cv2.RETR_EXTERNAL, cv2.CHAIN_APPROX_SIMPLE)\n",
        "\n",
        "        # Initialize the total area for this mask\n",
        "        total_area = 0.0\n",
        "\n",
        "        # Iterate through each contour and calculate its area\n",
        "        for contour in contours:\n",
        "            area = cv2.contourArea(contour)\n",
        "            total_area += area\n",
        "\n",
        "        areas.append(total_area)\n",
        "\n",
        "        # Combine the current mask with the overall mask using logical OR operation\n",
        "        overall_mask = cv2.bitwise_or(overall_mask, mask)\n",
        "\n",
        "    result_data.append({'area': sum(areas), 'count': len(areas), 'overallMask': overall_mask})\n",
        "\n",
        "    return result_data  # get count of fibres and area covered\n",
        "\n",
        "def show_anns(anns):\n",
        "    # for use when displaying segment anything mask\n",
        "    if len(anns) == 0:\n",
        "        return\n",
        "    sorted_anns = sorted(anns, key=(lambda x: x['area']), reverse=True)\n",
        "    ax = plt.gca()\n",
        "    ax.set_autoscale_on(False)\n",
        "\n",
        "    img = np.ones((sorted_anns[0]['segmentation'].shape[0], sorted_anns[0]['segmentation'].shape[1], 4))\n",
        "    img[:,:,3] = 0\n",
        "    for ann in sorted_anns:\n",
        "        m = ann['segmentation']\n",
        "        color_mask = np.concatenate([np.random.random(3), [0.35]])\n",
        "        img[m] = color_mask\n",
        "    ax.imshow(img)\n",
        "\n",
        "def prep_mask_image(anns):\n",
        "    if len(anns) == 0:\n",
        "        return None\n",
        "    sorted_anns = sorted(anns, key=(lambda x: x['area']), reverse=True)\n",
        "    img = np.ones((sorted_anns[0]['segmentation'].shape[0], sorted_anns[0]['segmentation'].shape[1], 4))\n",
        "    img[:,:,3] = 0\n",
        "    for ann in sorted_anns:\n",
        "        m = ann['segmentation']\n",
        "        color_mask = np.concatenate([np.random.random(3), [0.35]])\n",
        "        img[m] = color_mask\n",
        "    img = (img * 255).astype(np.uint8)  # Convert to uint8 range (0-255)\n",
        "    return Image.fromarray(img)\n",
        "\n",
        "\n",
        "\n",
        "\n",
        "def calculate_iou(groundTruth, predicted):\n",
        "\n",
        "   # print(' calc iou', np.max(predicted))\n",
        "\n",
        "    intersection = np.logical_and(groundTruth, predicted).sum()\n",
        "    union = np.logical_or(groundTruth, predicted).sum()\n",
        "    iou = intersection / union\n",
        "\n",
        "    # Next am curious as to how much of the predicted objects are contained within the mask objects\n",
        "    # so am checking how much of the intersenting is in the predicted. This is because I think the ground truth masks\n",
        "    # might be a bit bigger than the fibres so it might score lower on IOU but still be an accurate prediction.\n",
        "    int_predicted_intersection = intersection / predicted.sum()\n",
        "\n",
        "    dice_coefficient = 2 * np.sum(intersection) / (np.sum(groundTruth) + np.sum(predicted))\n",
        "    return iou , dice_coefficient, int_predicted_intersection\n",
        "\n"
      ]
    },
    {
      "cell_type": "code",
      "execution_count": 79,
      "metadata": {
        "colab": {
          "base_uri": "https://localhost:8080/"
        },
        "id": "QQE4mX0kdt5s",
        "outputId": "ba1aff74-4a08-4f7e-cbbc-37d01376d8ee"
      },
      "outputs": [
        {
          "name": "stdout",
          "output_type": "stream",
          "text": [
            "cuda\n",
            "final text_encoder_type: bert-base-uncased\n"
          ]
        },
        {
          "name": "stderr",
          "output_type": "stream",
          "text": [
            "Some weights of the model checkpoint at bert-base-uncased were not used when initializing BertModel: ['cls.seq_relationship.bias', 'cls.seq_relationship.weight', 'cls.predictions.transform.dense.bias', 'cls.predictions.transform.LayerNorm.bias', 'cls.predictions.transform.dense.weight', 'cls.predictions.bias', 'cls.predictions.transform.LayerNorm.weight']\n",
            "- This IS expected if you are initializing BertModel from the checkpoint of a model trained on another task or with another architecture (e.g. initializing a BertForSequenceClassification model from a BertForPreTraining model).\n",
            "- This IS NOT expected if you are initializing BertModel from the checkpoint of a model that you expect to be exactly identical (initializing a BertForSequenceClassification model from a BertForSequenceClassification model).\n"
          ]
        },
        {
          "name": "stdout",
          "output_type": "stream",
          "text": [
            "Model loaded from /root/.cache/huggingface/hub/models--ShilongLiu--GroundingDINO/snapshots/a94c9b567a2a374598f05c584e96798a170c56fb/groundingdino_swinb_cogcoor.pth \n",
            " => _IncompatibleKeys(missing_keys=[], unexpected_keys=['label_enc.weight'])\n"
          ]
        }
      ],
      "source": [
        "\n",
        "   # train on the GPU or on the CPU, if a GPU is not available - CPU will be very slow\n",
        "device = torch.device('cuda') if torch.cuda.is_available() else torch.device('cpu')\n",
        "print(device)\n",
        "# Source Data\n",
        "\n",
        "fibre_images = '/content/drive/MyDrive/Colab Notebooks/FibreAnalysis/Data/Prepared/Set/images/test'\n",
        "fibre_masks = '/content/drive/MyDrive/Colab Notebooks/FibreAnalysis/Data/Prepared/Set/masks/test'\n",
        "img_files = os.listdir(fibre_images) # Get list of files in the directory\n",
        "\n",
        "##########################################################################################\n",
        "# YOLO Model\n",
        "##########################################################################################\n",
        "preTrainedYOLO = r'/content/drive/MyDrive/Colab Notebooks/FibreAnalysis/Models/YoloLTrain1.pt'\n",
        "# Load a model\n",
        "YOLOmodel = YOLO(preTrainedYOLO)  # pretrained YOLOv8n model\n",
        "\n",
        "##########################################################################################\n",
        "# Detectron\n",
        "##########################################################################################\n",
        "cfg = get_cfg()\n",
        "\n",
        "#cfg.MODEL.DEVICE = torch.device('cuda') if torch.cuda.is_available() else torch.device('cpu')\n",
        "cfg.MODEL.DEVICE = device.type\n",
        "cfg.merge_from_file(model_zoo.get_config_file(\"COCO-InstanceSegmentation/mask_rcnn_R_50_FPN_3x.yaml\"))\n",
        "###\n",
        "####### Change this\n",
        "#cfg.MODEL.WEIGHTS = model_zoo.get_checkpoint_url(\"COCO-InstanceSegmentation/mask_rcnn_R_50_FPN_3x.yaml\")  # Let training initialize from model zoo\n",
        "#cfg.MODEL.WEIGHTS = r'C:\\Users\\dezos\\Documents\\Fibres\\FibreAnalysis\\Step1_DataCreation\\Step4_Evaluate\\Detectron2_Trained_Model.pth'\n",
        "cfg.MODEL.WEIGHTS = r'/content/drive/MyDrive/Colab Notebooks/FibreAnalysis/Models/Detectron2_Trained_Model.pth'\n",
        "cfg.MODEL.ROI_HEADS.NUM_CLASSES = 1 # Model was trained on one class so need to specify that here\n",
        "\n",
        "\n",
        "##########################################################################################\n",
        "# Segment Anything\n",
        "##########################################################################################\n",
        "\n",
        "sam_checkpoint = r\"/content/drive/MyDrive/Colab Notebooks/FibreAnalysis/Models/sam_vit_h_4b8939.pth\"\n",
        "model_type = \"vit_h\"\n",
        "\n",
        "device = device\n",
        "\n",
        "sam = sam_model_registry[model_type](checkpoint=sam_checkpoint)\n",
        "sam.to(device=device)\n",
        "\n",
        "sam_mask_generator = SamAutomaticMaskGenerator(sam)\n",
        "\n",
        "###########################################################################################\n",
        "# Language Segment anything\n",
        "###########################################################################################\n",
        "\n",
        "samL = LangSAM()\n",
        "\n",
        "##\n",
        "#cfg.MODEL.ROI_HEADS.SCORE_THRESH_TEST = 0.5\n",
        "Detect2Predictor = DefaultPredictor(cfg)"
      ]
    },
    {
      "cell_type": "code",
      "execution_count": 84,
      "metadata": {
        "colab": {
          "base_uri": "https://localhost:8080/"
        },
        "id": "uO3EiXgGdt5t",
        "outputId": "780f4a41-99a5-4186-e563-2fb295ea263b"
      },
      "outputs": [
        {
          "name": "stdout",
          "output_type": "stream",
          "text": [
            "loop 0\n",
            "/content/drive/MyDrive/Colab Notebooks/FibreAnalysis/Data/Prepared/Set/images/test/image_2023-07-24_19-41-44-756040_1.png\n",
            "/content/drive/MyDrive/Colab Notebooks/FibreAnalysis/Data/Prepared/Set/masks/test/mask_2023-07-24_19-41-44-756040_1.png\n"
          ]
        },
        {
          "name": "stderr",
          "output_type": "stream",
          "text": [
            "\n",
            "image 1/1 /content/drive/MyDrive/Colab Notebooks/FibreAnalysis/Data/Prepared/Set/images/test/image_2023-07-24_19-41-44-756040_1.png: 448x640 2 fibres, 59.9ms\n",
            "Speed: 3.7ms preprocess, 59.9ms inference, 3.4ms postprocess per image at shape (1, 3, 448, 640)\n",
            "/usr/local/lib/python3.10/dist-packages/transformers/modeling_utils.py:874: FutureWarning: The `device` argument is deprecated and will be removed in v5 of Transformers.\n",
            "  warnings.warn(\n",
            "/usr/local/lib/python3.10/dist-packages/torch/utils/checkpoint.py:31: UserWarning: None of the inputs have requires_grad=True. Gradients will be None\n",
            "  warnings.warn(\"None of the inputs have requires_grad=True. Gradients will be None\")\n"
          ]
        },
        {
          "name": "stdout",
          "output_type": "stream",
          "text": [
            "loop 1\n",
            "/content/drive/MyDrive/Colab Notebooks/FibreAnalysis/Data/Prepared/Set/images/test/image_2023-07-24_19-40-14-274671_1.png\n",
            "/content/drive/MyDrive/Colab Notebooks/FibreAnalysis/Data/Prepared/Set/masks/test/mask_2023-07-24_19-40-14-274671_1.png\n"
          ]
        },
        {
          "name": "stderr",
          "output_type": "stream",
          "text": [
            "\n",
            "image 1/1 /content/drive/MyDrive/Colab Notebooks/FibreAnalysis/Data/Prepared/Set/images/test/image_2023-07-24_19-40-14-274671_1.png: 640x512 8 fibres, 121.7ms\n",
            "Speed: 2.9ms preprocess, 121.7ms inference, 3.5ms postprocess per image at shape (1, 3, 640, 512)\n",
            "/usr/local/lib/python3.10/dist-packages/transformers/modeling_utils.py:874: FutureWarning: The `device` argument is deprecated and will be removed in v5 of Transformers.\n",
            "  warnings.warn(\n",
            "/usr/local/lib/python3.10/dist-packages/torch/utils/checkpoint.py:31: UserWarning: None of the inputs have requires_grad=True. Gradients will be None\n",
            "  warnings.warn(\"None of the inputs have requires_grad=True. Gradients will be None\")\n"
          ]
        },
        {
          "name": "stdout",
          "output_type": "stream",
          "text": [
            "loop 2\n",
            "/content/drive/MyDrive/Colab Notebooks/FibreAnalysis/Data/Prepared/Set/images/test/image_2023-07-24_19-40-46-845148_2.png\n",
            "/content/drive/MyDrive/Colab Notebooks/FibreAnalysis/Data/Prepared/Set/masks/test/mask_2023-07-24_19-40-46-845148_2.png\n"
          ]
        },
        {
          "name": "stderr",
          "output_type": "stream",
          "text": [
            "\n",
            "image 1/1 /content/drive/MyDrive/Colab Notebooks/FibreAnalysis/Data/Prepared/Set/images/test/image_2023-07-24_19-40-46-845148_2.png: 448x640 2 fibres, 28.9ms\n",
            "Speed: 3.8ms preprocess, 28.9ms inference, 3.2ms postprocess per image at shape (1, 3, 448, 640)\n",
            "/usr/local/lib/python3.10/dist-packages/transformers/modeling_utils.py:874: FutureWarning: The `device` argument is deprecated and will be removed in v5 of Transformers.\n",
            "  warnings.warn(\n",
            "/usr/local/lib/python3.10/dist-packages/torch/utils/checkpoint.py:31: UserWarning: None of the inputs have requires_grad=True. Gradients will be None\n",
            "  warnings.warn(\"None of the inputs have requires_grad=True. Gradients will be None\")\n"
          ]
        },
        {
          "name": "stdout",
          "output_type": "stream",
          "text": [
            "loop 3\n",
            "/content/drive/MyDrive/Colab Notebooks/FibreAnalysis/Data/Prepared/Set/images/test/image_2023-07-24_19-39-36-348966_1.png\n",
            "/content/drive/MyDrive/Colab Notebooks/FibreAnalysis/Data/Prepared/Set/masks/test/mask_2023-07-24_19-39-36-348966_1.png\n"
          ]
        },
        {
          "name": "stderr",
          "output_type": "stream",
          "text": [
            "\n",
            "image 1/1 /content/drive/MyDrive/Colab Notebooks/FibreAnalysis/Data/Prepared/Set/images/test/image_2023-07-24_19-39-36-348966_1.png: 640x480 4 fibres, 31.7ms\n",
            "Speed: 3.5ms preprocess, 31.7ms inference, 3.8ms postprocess per image at shape (1, 3, 640, 480)\n",
            "/usr/local/lib/python3.10/dist-packages/transformers/modeling_utils.py:874: FutureWarning: The `device` argument is deprecated and will be removed in v5 of Transformers.\n",
            "  warnings.warn(\n",
            "/usr/local/lib/python3.10/dist-packages/torch/utils/checkpoint.py:31: UserWarning: None of the inputs have requires_grad=True. Gradients will be None\n",
            "  warnings.warn(\"None of the inputs have requires_grad=True. Gradients will be None\")\n"
          ]
        },
        {
          "name": "stdout",
          "output_type": "stream",
          "text": [
            "loop 4\n",
            "/content/drive/MyDrive/Colab Notebooks/FibreAnalysis/Data/Prepared/Set/images/test/image_2023-07-24_19-41-34-388831_2.png\n",
            "/content/drive/MyDrive/Colab Notebooks/FibreAnalysis/Data/Prepared/Set/masks/test/mask_2023-07-24_19-41-34-388831_2.png\n"
          ]
        },
        {
          "name": "stderr",
          "output_type": "stream",
          "text": [
            "\n",
            "image 1/1 /content/drive/MyDrive/Colab Notebooks/FibreAnalysis/Data/Prepared/Set/images/test/image_2023-07-24_19-41-34-388831_2.png: 448x640 2 fibres, 27.8ms\n",
            "Speed: 2.4ms preprocess, 27.8ms inference, 2.1ms postprocess per image at shape (1, 3, 448, 640)\n",
            "/usr/local/lib/python3.10/dist-packages/transformers/modeling_utils.py:874: FutureWarning: The `device` argument is deprecated and will be removed in v5 of Transformers.\n",
            "  warnings.warn(\n",
            "/usr/local/lib/python3.10/dist-packages/torch/utils/checkpoint.py:31: UserWarning: None of the inputs have requires_grad=True. Gradients will be None\n",
            "  warnings.warn(\"None of the inputs have requires_grad=True. Gradients will be None\")\n",
            "\n",
            "image 1/1 /content/drive/MyDrive/Colab Notebooks/FibreAnalysis/Data/Prepared/Set/images/test/image_2023-07-24_19-39-20-434085_1.png: 640x544 10 fibres, 44.6ms\n",
            "Speed: 9.3ms preprocess, 44.6ms inference, 16.5ms postprocess per image at shape (1, 3, 640, 544)\n"
          ]
        },
        {
          "name": "stdout",
          "output_type": "stream",
          "text": [
            "loop 5\n",
            "/content/drive/MyDrive/Colab Notebooks/FibreAnalysis/Data/Prepared/Set/images/test/image_2023-07-24_19-39-20-434085_1.png\n",
            "/content/drive/MyDrive/Colab Notebooks/FibreAnalysis/Data/Prepared/Set/masks/test/mask_2023-07-24_19-39-20-434085_1.png\n"
          ]
        },
        {
          "name": "stderr",
          "output_type": "stream",
          "text": [
            "/usr/local/lib/python3.10/dist-packages/transformers/modeling_utils.py:874: FutureWarning: The `device` argument is deprecated and will be removed in v5 of Transformers.\n",
            "  warnings.warn(\n",
            "/usr/local/lib/python3.10/dist-packages/torch/utils/checkpoint.py:31: UserWarning: None of the inputs have requires_grad=True. Gradients will be None\n",
            "  warnings.warn(\"None of the inputs have requires_grad=True. Gradients will be None\")\n",
            "\n",
            "image 1/1 /content/drive/MyDrive/Colab Notebooks/FibreAnalysis/Data/Prepared/Set/images/test/image_2023-07-24_19-41-50-208736_2.png: 448x640 (no detections), 28.6ms\n",
            "Speed: 2.9ms preprocess, 28.6ms inference, 0.8ms postprocess per image at shape (1, 3, 448, 640)\n"
          ]
        },
        {
          "name": "stdout",
          "output_type": "stream",
          "text": [
            "loop 6\n",
            "/content/drive/MyDrive/Colab Notebooks/FibreAnalysis/Data/Prepared/Set/images/test/image_2023-07-24_19-41-50-208736_2.png\n",
            "/content/drive/MyDrive/Colab Notebooks/FibreAnalysis/Data/Prepared/Set/masks/test/mask_2023-07-24_19-41-50-208736_2.png\n",
            "An error occurred: 'NoneType' object has no attribute 'data' /content/drive/MyDrive/Colab Notebooks/FibreAnalysis/Data/Prepared/Set/images/test/image_2023-07-24_19-41-50-208736_2.png\n",
            "loop 7\n",
            "/content/drive/MyDrive/Colab Notebooks/FibreAnalysis/Data/Prepared/Set/images/test/image_2023-07-24_19-40-19-305837_1.png\n",
            "/content/drive/MyDrive/Colab Notebooks/FibreAnalysis/Data/Prepared/Set/masks/test/mask_2023-07-24_19-40-19-305837_1.png\n"
          ]
        },
        {
          "name": "stderr",
          "output_type": "stream",
          "text": [
            "\n",
            "image 1/1 /content/drive/MyDrive/Colab Notebooks/FibreAnalysis/Data/Prepared/Set/images/test/image_2023-07-24_19-40-19-305837_1.png: 640x544 3 fibres, 35.9ms\n",
            "Speed: 4.2ms preprocess, 35.9ms inference, 6.5ms postprocess per image at shape (1, 3, 640, 544)\n",
            "/usr/local/lib/python3.10/dist-packages/transformers/modeling_utils.py:874: FutureWarning: The `device` argument is deprecated and will be removed in v5 of Transformers.\n",
            "  warnings.warn(\n",
            "/usr/local/lib/python3.10/dist-packages/torch/utils/checkpoint.py:31: UserWarning: None of the inputs have requires_grad=True. Gradients will be None\n",
            "  warnings.warn(\"None of the inputs have requires_grad=True. Gradients will be None\")\n"
          ]
        },
        {
          "name": "stdout",
          "output_type": "stream",
          "text": [
            "loop 8\n",
            "/content/drive/MyDrive/Colab Notebooks/FibreAnalysis/Data/Prepared/Set/images/test/image_2023-07-24_19-39-10-021803_1.png\n",
            "/content/drive/MyDrive/Colab Notebooks/FibreAnalysis/Data/Prepared/Set/masks/test/mask_2023-07-24_19-39-10-021803_1.png\n"
          ]
        },
        {
          "name": "stderr",
          "output_type": "stream",
          "text": [
            "\n",
            "image 1/1 /content/drive/MyDrive/Colab Notebooks/FibreAnalysis/Data/Prepared/Set/images/test/image_2023-07-24_19-39-10-021803_1.png: 448x640 6 fibres, 28.4ms\n",
            "Speed: 2.3ms preprocess, 28.4ms inference, 2.6ms postprocess per image at shape (1, 3, 448, 640)\n",
            "/usr/local/lib/python3.10/dist-packages/transformers/modeling_utils.py:874: FutureWarning: The `device` argument is deprecated and will be removed in v5 of Transformers.\n",
            "  warnings.warn(\n",
            "/usr/local/lib/python3.10/dist-packages/torch/utils/checkpoint.py:31: UserWarning: None of the inputs have requires_grad=True. Gradients will be None\n",
            "  warnings.warn(\"None of the inputs have requires_grad=True. Gradients will be None\")\n"
          ]
        },
        {
          "name": "stdout",
          "output_type": "stream",
          "text": [
            "loop 9\n",
            "/content/drive/MyDrive/Colab Notebooks/FibreAnalysis/Data/Prepared/Set/images/test/image_2023-07-24_19-38-53-265463_2.png\n",
            "/content/drive/MyDrive/Colab Notebooks/FibreAnalysis/Data/Prepared/Set/masks/test/mask_2023-07-24_19-38-53-265463_2.png\n"
          ]
        },
        {
          "name": "stderr",
          "output_type": "stream",
          "text": [
            "\n",
            "image 1/1 /content/drive/MyDrive/Colab Notebooks/FibreAnalysis/Data/Prepared/Set/images/test/image_2023-07-24_19-38-53-265463_2.png: 448x640 4 fibres, 26.8ms\n",
            "Speed: 2.3ms preprocess, 26.8ms inference, 2.4ms postprocess per image at shape (1, 3, 448, 640)\n",
            "/usr/local/lib/python3.10/dist-packages/transformers/modeling_utils.py:874: FutureWarning: The `device` argument is deprecated and will be removed in v5 of Transformers.\n",
            "  warnings.warn(\n",
            "/usr/local/lib/python3.10/dist-packages/torch/utils/checkpoint.py:31: UserWarning: None of the inputs have requires_grad=True. Gradients will be None\n",
            "  warnings.warn(\"None of the inputs have requires_grad=True. Gradients will be None\")\n"
          ]
        },
        {
          "name": "stdout",
          "output_type": "stream",
          "text": [
            "loop 10\n",
            "/content/drive/MyDrive/Colab Notebooks/FibreAnalysis/Data/Prepared/Set/images/test/image_2023-07-24_19-40-13-888232_2.png\n",
            "/content/drive/MyDrive/Colab Notebooks/FibreAnalysis/Data/Prepared/Set/masks/test/mask_2023-07-24_19-40-13-888232_2.png\n"
          ]
        },
        {
          "name": "stderr",
          "output_type": "stream",
          "text": [
            "\n",
            "image 1/1 /content/drive/MyDrive/Colab Notebooks/FibreAnalysis/Data/Prepared/Set/images/test/image_2023-07-24_19-40-13-888232_2.png: 448x640 7 fibres, 27.1ms\n",
            "Speed: 3.2ms preprocess, 27.1ms inference, 3.3ms postprocess per image at shape (1, 3, 448, 640)\n",
            "/usr/local/lib/python3.10/dist-packages/transformers/modeling_utils.py:874: FutureWarning: The `device` argument is deprecated and will be removed in v5 of Transformers.\n",
            "  warnings.warn(\n",
            "/usr/local/lib/python3.10/dist-packages/torch/utils/checkpoint.py:31: UserWarning: None of the inputs have requires_grad=True. Gradients will be None\n",
            "  warnings.warn(\"None of the inputs have requires_grad=True. Gradients will be None\")\n"
          ]
        },
        {
          "name": "stdout",
          "output_type": "stream",
          "text": [
            "loop 11\n",
            "/content/drive/MyDrive/Colab Notebooks/FibreAnalysis/Data/Prepared/Set/images/test/image_2023-07-24_19-38-36-841925_1.png\n",
            "/content/drive/MyDrive/Colab Notebooks/FibreAnalysis/Data/Prepared/Set/masks/test/mask_2023-07-24_19-38-36-841925_1.png\n"
          ]
        },
        {
          "name": "stderr",
          "output_type": "stream",
          "text": [
            "\n",
            "image 1/1 /content/drive/MyDrive/Colab Notebooks/FibreAnalysis/Data/Prepared/Set/images/test/image_2023-07-24_19-38-36-841925_1.png: 448x640 7 fibres, 26.8ms\n",
            "Speed: 2.3ms preprocess, 26.8ms inference, 2.9ms postprocess per image at shape (1, 3, 448, 640)\n",
            "/usr/local/lib/python3.10/dist-packages/transformers/modeling_utils.py:874: FutureWarning: The `device` argument is deprecated and will be removed in v5 of Transformers.\n",
            "  warnings.warn(\n",
            "/usr/local/lib/python3.10/dist-packages/torch/utils/checkpoint.py:31: UserWarning: None of the inputs have requires_grad=True. Gradients will be None\n",
            "  warnings.warn(\"None of the inputs have requires_grad=True. Gradients will be None\")\n"
          ]
        },
        {
          "name": "stdout",
          "output_type": "stream",
          "text": [
            "loop 12\n",
            "/content/drive/MyDrive/Colab Notebooks/FibreAnalysis/Data/Prepared/Set/images/test/image_2023-07-24_19-39-52-823991_1.png\n",
            "/content/drive/MyDrive/Colab Notebooks/FibreAnalysis/Data/Prepared/Set/masks/test/mask_2023-07-24_19-39-52-823991_1.png\n"
          ]
        },
        {
          "name": "stderr",
          "output_type": "stream",
          "text": [
            "\n",
            "image 1/1 /content/drive/MyDrive/Colab Notebooks/FibreAnalysis/Data/Prepared/Set/images/test/image_2023-07-24_19-39-52-823991_1.png: 640x512 9 fibres, 31.3ms\n",
            "Speed: 3.9ms preprocess, 31.3ms inference, 2.9ms postprocess per image at shape (1, 3, 640, 512)\n",
            "/usr/local/lib/python3.10/dist-packages/transformers/modeling_utils.py:874: FutureWarning: The `device` argument is deprecated and will be removed in v5 of Transformers.\n",
            "  warnings.warn(\n",
            "/usr/local/lib/python3.10/dist-packages/torch/utils/checkpoint.py:31: UserWarning: None of the inputs have requires_grad=True. Gradients will be None\n",
            "  warnings.warn(\"None of the inputs have requires_grad=True. Gradients will be None\")\n"
          ]
        },
        {
          "name": "stdout",
          "output_type": "stream",
          "text": [
            "loop 13\n",
            "/content/drive/MyDrive/Colab Notebooks/FibreAnalysis/Data/Prepared/Set/images/test/image_2023-07-24_19-41-34-787112_2.png\n",
            "/content/drive/MyDrive/Colab Notebooks/FibreAnalysis/Data/Prepared/Set/masks/test/mask_2023-07-24_19-41-34-787112_2.png\n"
          ]
        },
        {
          "name": "stderr",
          "output_type": "stream",
          "text": [
            "\n",
            "image 1/1 /content/drive/MyDrive/Colab Notebooks/FibreAnalysis/Data/Prepared/Set/images/test/image_2023-07-24_19-41-34-787112_2.png: 448x640 2 fibres, 30.4ms\n",
            "Speed: 3.8ms preprocess, 30.4ms inference, 3.2ms postprocess per image at shape (1, 3, 448, 640)\n",
            "/usr/local/lib/python3.10/dist-packages/transformers/modeling_utils.py:874: FutureWarning: The `device` argument is deprecated and will be removed in v5 of Transformers.\n",
            "  warnings.warn(\n",
            "/usr/local/lib/python3.10/dist-packages/torch/utils/checkpoint.py:31: UserWarning: None of the inputs have requires_grad=True. Gradients will be None\n",
            "  warnings.warn(\"None of the inputs have requires_grad=True. Gradients will be None\")\n"
          ]
        },
        {
          "name": "stdout",
          "output_type": "stream",
          "text": [
            "loop 14\n",
            "/content/drive/MyDrive/Colab Notebooks/FibreAnalysis/Data/Prepared/Set/images/test/image_2023-07-24_19-39-04-705767_2.png\n",
            "/content/drive/MyDrive/Colab Notebooks/FibreAnalysis/Data/Prepared/Set/masks/test/mask_2023-07-24_19-39-04-705767_2.png\n"
          ]
        },
        {
          "name": "stderr",
          "output_type": "stream",
          "text": [
            "\n",
            "image 1/1 /content/drive/MyDrive/Colab Notebooks/FibreAnalysis/Data/Prepared/Set/images/test/image_2023-07-24_19-39-04-705767_2.png: 448x640 1 fibre, 29.7ms\n",
            "Speed: 2.4ms preprocess, 29.7ms inference, 2.3ms postprocess per image at shape (1, 3, 448, 640)\n",
            "/usr/local/lib/python3.10/dist-packages/transformers/modeling_utils.py:874: FutureWarning: The `device` argument is deprecated and will be removed in v5 of Transformers.\n",
            "  warnings.warn(\n",
            "/usr/local/lib/python3.10/dist-packages/torch/utils/checkpoint.py:31: UserWarning: None of the inputs have requires_grad=True. Gradients will be None\n",
            "  warnings.warn(\"None of the inputs have requires_grad=True. Gradients will be None\")\n",
            "\n",
            "image 1/1 /content/drive/MyDrive/Colab Notebooks/FibreAnalysis/Data/Prepared/Set/images/test/image_2023-07-24_19-41-44-756040_2.png: 448x640 1 fibre, 28.5ms\n",
            "Speed: 2.3ms preprocess, 28.5ms inference, 2.2ms postprocess per image at shape (1, 3, 448, 640)\n"
          ]
        },
        {
          "name": "stdout",
          "output_type": "stream",
          "text": [
            "loop 15\n",
            "/content/drive/MyDrive/Colab Notebooks/FibreAnalysis/Data/Prepared/Set/images/test/image_2023-07-24_19-41-44-756040_2.png\n",
            "/content/drive/MyDrive/Colab Notebooks/FibreAnalysis/Data/Prepared/Set/masks/test/mask_2023-07-24_19-41-44-756040_2.png\n"
          ]
        },
        {
          "name": "stderr",
          "output_type": "stream",
          "text": [
            "/usr/local/lib/python3.10/dist-packages/transformers/modeling_utils.py:874: FutureWarning: The `device` argument is deprecated and will be removed in v5 of Transformers.\n",
            "  warnings.warn(\n",
            "/usr/local/lib/python3.10/dist-packages/torch/utils/checkpoint.py:31: UserWarning: None of the inputs have requires_grad=True. Gradients will be None\n",
            "  warnings.warn(\"None of the inputs have requires_grad=True. Gradients will be None\")\n",
            "\n",
            "image 1/1 /content/drive/MyDrive/Colab Notebooks/FibreAnalysis/Data/Prepared/Set/images/test/image_2023-07-24_19-39-25-629936_1.png: 448x640 2 fibres, 27.4ms\n",
            "Speed: 3.0ms preprocess, 27.4ms inference, 3.0ms postprocess per image at shape (1, 3, 448, 640)\n"
          ]
        },
        {
          "name": "stdout",
          "output_type": "stream",
          "text": [
            "loop 16\n",
            "/content/drive/MyDrive/Colab Notebooks/FibreAnalysis/Data/Prepared/Set/images/test/image_2023-07-24_19-39-25-629936_1.png\n",
            "/content/drive/MyDrive/Colab Notebooks/FibreAnalysis/Data/Prepared/Set/masks/test/mask_2023-07-24_19-39-25-629936_1.png\n"
          ]
        },
        {
          "name": "stderr",
          "output_type": "stream",
          "text": [
            "/usr/local/lib/python3.10/dist-packages/transformers/modeling_utils.py:874: FutureWarning: The `device` argument is deprecated and will be removed in v5 of Transformers.\n",
            "  warnings.warn(\n",
            "/usr/local/lib/python3.10/dist-packages/torch/utils/checkpoint.py:31: UserWarning: None of the inputs have requires_grad=True. Gradients will be None\n",
            "  warnings.warn(\"None of the inputs have requires_grad=True. Gradients will be None\")\n"
          ]
        },
        {
          "name": "stdout",
          "output_type": "stream",
          "text": [
            "loop 17\n",
            "/content/drive/MyDrive/Colab Notebooks/FibreAnalysis/Data/Prepared/Set/images/test/image_2023-07-24_19-39-04-705767_1.png\n",
            "/content/drive/MyDrive/Colab Notebooks/FibreAnalysis/Data/Prepared/Set/masks/test/mask_2023-07-24_19-39-04-705767_1.png\n"
          ]
        },
        {
          "name": "stderr",
          "output_type": "stream",
          "text": [
            "\n",
            "image 1/1 /content/drive/MyDrive/Colab Notebooks/FibreAnalysis/Data/Prepared/Set/images/test/image_2023-07-24_19-39-04-705767_1.png: 448x640 1 fibre, 27.5ms\n",
            "Speed: 2.3ms preprocess, 27.5ms inference, 2.2ms postprocess per image at shape (1, 3, 448, 640)\n",
            "/usr/local/lib/python3.10/dist-packages/transformers/modeling_utils.py:874: FutureWarning: The `device` argument is deprecated and will be removed in v5 of Transformers.\n",
            "  warnings.warn(\n",
            "/usr/local/lib/python3.10/dist-packages/torch/utils/checkpoint.py:31: UserWarning: None of the inputs have requires_grad=True. Gradients will be None\n",
            "  warnings.warn(\"None of the inputs have requires_grad=True. Gradients will be None\")\n",
            "\n",
            "image 1/1 /content/drive/MyDrive/Colab Notebooks/FibreAnalysis/Data/Prepared/Set/images/test/image_2023-07-24_19-40-30-311483_1.png: 448x640 10 fibres, 28.0ms\n",
            "Speed: 3.5ms preprocess, 28.0ms inference, 3.7ms postprocess per image at shape (1, 3, 448, 640)\n"
          ]
        },
        {
          "name": "stdout",
          "output_type": "stream",
          "text": [
            "loop 18\n",
            "/content/drive/MyDrive/Colab Notebooks/FibreAnalysis/Data/Prepared/Set/images/test/image_2023-07-24_19-40-30-311483_1.png\n",
            "/content/drive/MyDrive/Colab Notebooks/FibreAnalysis/Data/Prepared/Set/masks/test/mask_2023-07-24_19-40-30-311483_1.png\n"
          ]
        },
        {
          "name": "stderr",
          "output_type": "stream",
          "text": [
            "/usr/local/lib/python3.10/dist-packages/transformers/modeling_utils.py:874: FutureWarning: The `device` argument is deprecated and will be removed in v5 of Transformers.\n",
            "  warnings.warn(\n",
            "/usr/local/lib/python3.10/dist-packages/torch/utils/checkpoint.py:31: UserWarning: None of the inputs have requires_grad=True. Gradients will be None\n",
            "  warnings.warn(\"None of the inputs have requires_grad=True. Gradients will be None\")\n"
          ]
        },
        {
          "name": "stdout",
          "output_type": "stream",
          "text": [
            "loop 19\n",
            "/content/drive/MyDrive/Colab Notebooks/FibreAnalysis/Data/Prepared/Set/images/test/image_2023-07-24_19-40-03-820725_1.png\n",
            "/content/drive/MyDrive/Colab Notebooks/FibreAnalysis/Data/Prepared/Set/masks/test/mask_2023-07-24_19-40-03-820725_1.png\n"
          ]
        },
        {
          "name": "stderr",
          "output_type": "stream",
          "text": [
            "\n",
            "image 1/1 /content/drive/MyDrive/Colab Notebooks/FibreAnalysis/Data/Prepared/Set/images/test/image_2023-07-24_19-40-03-820725_1.png: 448x640 7 fibres, 27.4ms\n",
            "Speed: 2.3ms preprocess, 27.4ms inference, 2.1ms postprocess per image at shape (1, 3, 448, 640)\n",
            "/usr/local/lib/python3.10/dist-packages/transformers/modeling_utils.py:874: FutureWarning: The `device` argument is deprecated and will be removed in v5 of Transformers.\n",
            "  warnings.warn(\n",
            "/usr/local/lib/python3.10/dist-packages/torch/utils/checkpoint.py:31: UserWarning: None of the inputs have requires_grad=True. Gradients will be None\n",
            "  warnings.warn(\"None of the inputs have requires_grad=True. Gradients will be None\")\n"
          ]
        },
        {
          "name": "stdout",
          "output_type": "stream",
          "text": [
            "loop 20\n",
            "/content/drive/MyDrive/Colab Notebooks/FibreAnalysis/Data/Prepared/Set/images/test/image_2023-07-24_19-39-25-855174_1.png\n",
            "/content/drive/MyDrive/Colab Notebooks/FibreAnalysis/Data/Prepared/Set/masks/test/mask_2023-07-24_19-39-25-855174_1.png\n"
          ]
        },
        {
          "name": "stderr",
          "output_type": "stream",
          "text": [
            "\n",
            "image 1/1 /content/drive/MyDrive/Colab Notebooks/FibreAnalysis/Data/Prepared/Set/images/test/image_2023-07-24_19-39-25-855174_1.png: 640x512 7 fibres, 27.9ms\n",
            "Speed: 2.7ms preprocess, 27.9ms inference, 2.2ms postprocess per image at shape (1, 3, 640, 512)\n",
            "/usr/local/lib/python3.10/dist-packages/transformers/modeling_utils.py:874: FutureWarning: The `device` argument is deprecated and will be removed in v5 of Transformers.\n",
            "  warnings.warn(\n",
            "/usr/local/lib/python3.10/dist-packages/torch/utils/checkpoint.py:31: UserWarning: None of the inputs have requires_grad=True. Gradients will be None\n",
            "  warnings.warn(\"None of the inputs have requires_grad=True. Gradients will be None\")\n"
          ]
        },
        {
          "name": "stdout",
          "output_type": "stream",
          "text": [
            "loop 21\n",
            "/content/drive/MyDrive/Colab Notebooks/FibreAnalysis/Data/Prepared/Set/images/test/image_2023-07-24_19-38-25-953468_1.png\n",
            "/content/drive/MyDrive/Colab Notebooks/FibreAnalysis/Data/Prepared/Set/masks/test/mask_2023-07-24_19-38-25-953468_1.png\n"
          ]
        },
        {
          "name": "stderr",
          "output_type": "stream",
          "text": [
            "\n",
            "image 1/1 /content/drive/MyDrive/Colab Notebooks/FibreAnalysis/Data/Prepared/Set/images/test/image_2023-07-24_19-38-25-953468_1.png: 640x544 7 fibres, 37.5ms\n",
            "Speed: 4.0ms preprocess, 37.5ms inference, 3.5ms postprocess per image at shape (1, 3, 640, 544)\n",
            "/usr/local/lib/python3.10/dist-packages/transformers/modeling_utils.py:874: FutureWarning: The `device` argument is deprecated and will be removed in v5 of Transformers.\n",
            "  warnings.warn(\n",
            "/usr/local/lib/python3.10/dist-packages/torch/utils/checkpoint.py:31: UserWarning: None of the inputs have requires_grad=True. Gradients will be None\n",
            "  warnings.warn(\"None of the inputs have requires_grad=True. Gradients will be None\")\n"
          ]
        },
        {
          "name": "stdout",
          "output_type": "stream",
          "text": [
            "loop 22\n",
            "/content/drive/MyDrive/Colab Notebooks/FibreAnalysis/Data/Prepared/Set/images/test/image_2023-07-24_19-38-31-943988_1.png\n",
            "/content/drive/MyDrive/Colab Notebooks/FibreAnalysis/Data/Prepared/Set/masks/test/mask_2023-07-24_19-38-31-943988_1.png\n"
          ]
        },
        {
          "name": "stderr",
          "output_type": "stream",
          "text": [
            "\n",
            "image 1/1 /content/drive/MyDrive/Colab Notebooks/FibreAnalysis/Data/Prepared/Set/images/test/image_2023-07-24_19-38-31-943988_1.png: 640x544 7 fibres, 37.2ms\n",
            "Speed: 3.8ms preprocess, 37.2ms inference, 3.0ms postprocess per image at shape (1, 3, 640, 544)\n",
            "/usr/local/lib/python3.10/dist-packages/transformers/modeling_utils.py:874: FutureWarning: The `device` argument is deprecated and will be removed in v5 of Transformers.\n",
            "  warnings.warn(\n",
            "/usr/local/lib/python3.10/dist-packages/torch/utils/checkpoint.py:31: UserWarning: None of the inputs have requires_grad=True. Gradients will be None\n",
            "  warnings.warn(\"None of the inputs have requires_grad=True. Gradients will be None\")\n",
            "\n",
            "image 1/1 /content/drive/MyDrive/Colab Notebooks/FibreAnalysis/Data/Prepared/Set/images/test/image_2023-07-24_19-39-46-968968_1.png: 640x544 11 fibres, 36.0ms\n",
            "Speed: 3.7ms preprocess, 36.0ms inference, 3.1ms postprocess per image at shape (1, 3, 640, 544)\n"
          ]
        },
        {
          "name": "stdout",
          "output_type": "stream",
          "text": [
            "loop 23\n",
            "/content/drive/MyDrive/Colab Notebooks/FibreAnalysis/Data/Prepared/Set/images/test/image_2023-07-24_19-39-46-968968_1.png\n",
            "/content/drive/MyDrive/Colab Notebooks/FibreAnalysis/Data/Prepared/Set/masks/test/mask_2023-07-24_19-39-46-968968_1.png\n"
          ]
        },
        {
          "name": "stderr",
          "output_type": "stream",
          "text": [
            "/usr/local/lib/python3.10/dist-packages/transformers/modeling_utils.py:874: FutureWarning: The `device` argument is deprecated and will be removed in v5 of Transformers.\n",
            "  warnings.warn(\n",
            "/usr/local/lib/python3.10/dist-packages/torch/utils/checkpoint.py:31: UserWarning: None of the inputs have requires_grad=True. Gradients will be None\n",
            "  warnings.warn(\"None of the inputs have requires_grad=True. Gradients will be None\")\n"
          ]
        },
        {
          "name": "stdout",
          "output_type": "stream",
          "text": [
            "loop 24\n",
            "/content/drive/MyDrive/Colab Notebooks/FibreAnalysis/Data/Prepared/Set/images/test/image_2023-07-24_19-39-09-660775_1.png\n",
            "/content/drive/MyDrive/Colab Notebooks/FibreAnalysis/Data/Prepared/Set/masks/test/mask_2023-07-24_19-39-09-660775_1.png\n"
          ]
        },
        {
          "name": "stderr",
          "output_type": "stream",
          "text": [
            "\n",
            "image 1/1 /content/drive/MyDrive/Colab Notebooks/FibreAnalysis/Data/Prepared/Set/images/test/image_2023-07-24_19-39-09-660775_1.png: 448x640 7 fibres, 28.3ms\n",
            "Speed: 2.4ms preprocess, 28.3ms inference, 2.1ms postprocess per image at shape (1, 3, 448, 640)\n",
            "/usr/local/lib/python3.10/dist-packages/transformers/modeling_utils.py:874: FutureWarning: The `device` argument is deprecated and will be removed in v5 of Transformers.\n",
            "  warnings.warn(\n",
            "/usr/local/lib/python3.10/dist-packages/torch/utils/checkpoint.py:31: UserWarning: None of the inputs have requires_grad=True. Gradients will be None\n",
            "  warnings.warn(\"None of the inputs have requires_grad=True. Gradients will be None\")\n",
            "\n",
            "image 1/1 /content/drive/MyDrive/Colab Notebooks/FibreAnalysis/Data/Prepared/Set/images/test/image_2023-07-24_19-41-39-762521_1.png: 448x640 3 fibres, 27.7ms\n",
            "Speed: 3.1ms preprocess, 27.7ms inference, 3.9ms postprocess per image at shape (1, 3, 448, 640)\n"
          ]
        },
        {
          "name": "stdout",
          "output_type": "stream",
          "text": [
            "loop 25\n",
            "/content/drive/MyDrive/Colab Notebooks/FibreAnalysis/Data/Prepared/Set/images/test/image_2023-07-24_19-41-39-762521_1.png\n",
            "/content/drive/MyDrive/Colab Notebooks/FibreAnalysis/Data/Prepared/Set/masks/test/mask_2023-07-24_19-41-39-762521_1.png\n"
          ]
        },
        {
          "name": "stderr",
          "output_type": "stream",
          "text": [
            "/usr/local/lib/python3.10/dist-packages/transformers/modeling_utils.py:874: FutureWarning: The `device` argument is deprecated and will be removed in v5 of Transformers.\n",
            "  warnings.warn(\n",
            "/usr/local/lib/python3.10/dist-packages/torch/utils/checkpoint.py:31: UserWarning: None of the inputs have requires_grad=True. Gradients will be None\n",
            "  warnings.warn(\"None of the inputs have requires_grad=True. Gradients will be None\")\n",
            "\n",
            "image 1/1 /content/drive/MyDrive/Colab Notebooks/FibreAnalysis/Data/Prepared/Set/images/test/image_2023-07-24_19-40-24-305327_1.png: 448x640 8 fibres, 28.9ms\n",
            "Speed: 2.1ms preprocess, 28.9ms inference, 3.1ms postprocess per image at shape (1, 3, 448, 640)\n"
          ]
        },
        {
          "name": "stdout",
          "output_type": "stream",
          "text": [
            "loop 26\n",
            "/content/drive/MyDrive/Colab Notebooks/FibreAnalysis/Data/Prepared/Set/images/test/image_2023-07-24_19-40-24-305327_1.png\n",
            "/content/drive/MyDrive/Colab Notebooks/FibreAnalysis/Data/Prepared/Set/masks/test/mask_2023-07-24_19-40-24-305327_1.png\n"
          ]
        },
        {
          "name": "stderr",
          "output_type": "stream",
          "text": [
            "/usr/local/lib/python3.10/dist-packages/transformers/modeling_utils.py:874: FutureWarning: The `device` argument is deprecated and will be removed in v5 of Transformers.\n",
            "  warnings.warn(\n",
            "/usr/local/lib/python3.10/dist-packages/torch/utils/checkpoint.py:31: UserWarning: None of the inputs have requires_grad=True. Gradients will be None\n",
            "  warnings.warn(\"None of the inputs have requires_grad=True. Gradients will be None\")\n"
          ]
        },
        {
          "name": "stdout",
          "output_type": "stream",
          "text": [
            "loop 27\n",
            "/content/drive/MyDrive/Colab Notebooks/FibreAnalysis/Data/Prepared/Set/images/test/image_2023-07-24_19-39-58-393753_1.png\n",
            "/content/drive/MyDrive/Colab Notebooks/FibreAnalysis/Data/Prepared/Set/masks/test/mask_2023-07-24_19-39-58-393753_1.png\n"
          ]
        },
        {
          "name": "stderr",
          "output_type": "stream",
          "text": [
            "\n",
            "image 1/1 /content/drive/MyDrive/Colab Notebooks/FibreAnalysis/Data/Prepared/Set/images/test/image_2023-07-24_19-39-58-393753_1.png: 448x640 2 fibres, 27.5ms\n",
            "Speed: 2.6ms preprocess, 27.5ms inference, 2.5ms postprocess per image at shape (1, 3, 448, 640)\n",
            "/usr/local/lib/python3.10/dist-packages/transformers/modeling_utils.py:874: FutureWarning: The `device` argument is deprecated and will be removed in v5 of Transformers.\n",
            "  warnings.warn(\n",
            "/usr/local/lib/python3.10/dist-packages/torch/utils/checkpoint.py:31: UserWarning: None of the inputs have requires_grad=True. Gradients will be None\n",
            "  warnings.warn(\"None of the inputs have requires_grad=True. Gradients will be None\")\n"
          ]
        },
        {
          "name": "stdout",
          "output_type": "stream",
          "text": [
            "loop 28\n",
            "/content/drive/MyDrive/Colab Notebooks/FibreAnalysis/Data/Prepared/Set/images/test/image_2023-07-24_19-39-09-446728_2.png\n",
            "/content/drive/MyDrive/Colab Notebooks/FibreAnalysis/Data/Prepared/Set/masks/test/mask_2023-07-24_19-39-09-446728_2.png\n"
          ]
        },
        {
          "name": "stderr",
          "output_type": "stream",
          "text": [
            "\n",
            "image 1/1 /content/drive/MyDrive/Colab Notebooks/FibreAnalysis/Data/Prepared/Set/images/test/image_2023-07-24_19-39-09-446728_2.png: 448x640 2 fibres, 29.7ms\n",
            "Speed: 3.0ms preprocess, 29.7ms inference, 4.3ms postprocess per image at shape (1, 3, 448, 640)\n",
            "/usr/local/lib/python3.10/dist-packages/transformers/modeling_utils.py:874: FutureWarning: The `device` argument is deprecated and will be removed in v5 of Transformers.\n",
            "  warnings.warn(\n",
            "/usr/local/lib/python3.10/dist-packages/torch/utils/checkpoint.py:31: UserWarning: None of the inputs have requires_grad=True. Gradients will be None\n",
            "  warnings.warn(\"None of the inputs have requires_grad=True. Gradients will be None\")\n",
            "\n",
            "image 1/1 /content/drive/MyDrive/Colab Notebooks/FibreAnalysis/Data/Prepared/Set/images/test/image_2023-07-24_19-41-08-010404_2.png: 448x640 6 fibres, 29.6ms\n",
            "Speed: 3.1ms preprocess, 29.6ms inference, 2.9ms postprocess per image at shape (1, 3, 448, 640)\n"
          ]
        },
        {
          "name": "stdout",
          "output_type": "stream",
          "text": [
            "loop 29\n",
            "/content/drive/MyDrive/Colab Notebooks/FibreAnalysis/Data/Prepared/Set/images/test/image_2023-07-24_19-41-08-010404_2.png\n",
            "/content/drive/MyDrive/Colab Notebooks/FibreAnalysis/Data/Prepared/Set/masks/test/mask_2023-07-24_19-41-08-010404_2.png\n"
          ]
        },
        {
          "name": "stderr",
          "output_type": "stream",
          "text": [
            "/usr/local/lib/python3.10/dist-packages/transformers/modeling_utils.py:874: FutureWarning: The `device` argument is deprecated and will be removed in v5 of Transformers.\n",
            "  warnings.warn(\n",
            "/usr/local/lib/python3.10/dist-packages/torch/utils/checkpoint.py:31: UserWarning: None of the inputs have requires_grad=True. Gradients will be None\n",
            "  warnings.warn(\"None of the inputs have requires_grad=True. Gradients will be None\")\n"
          ]
        },
        {
          "name": "stdout",
          "output_type": "stream",
          "text": [
            "loop 30\n",
            "/content/drive/MyDrive/Colab Notebooks/FibreAnalysis/Data/Prepared/Set/images/test/image_2023-07-24_19-39-42-260682_1.png\n",
            "/content/drive/MyDrive/Colab Notebooks/FibreAnalysis/Data/Prepared/Set/masks/test/mask_2023-07-24_19-39-42-260682_1.png\n"
          ]
        },
        {
          "name": "stderr",
          "output_type": "stream",
          "text": [
            "\n",
            "image 1/1 /content/drive/MyDrive/Colab Notebooks/FibreAnalysis/Data/Prepared/Set/images/test/image_2023-07-24_19-39-42-260682_1.png: 640x544 9 fibres, 35.3ms\n",
            "Speed: 3.7ms preprocess, 35.3ms inference, 3.5ms postprocess per image at shape (1, 3, 640, 544)\n",
            "/usr/local/lib/python3.10/dist-packages/transformers/modeling_utils.py:874: FutureWarning: The `device` argument is deprecated and will be removed in v5 of Transformers.\n",
            "  warnings.warn(\n",
            "/usr/local/lib/python3.10/dist-packages/torch/utils/checkpoint.py:31: UserWarning: None of the inputs have requires_grad=True. Gradients will be None\n",
            "  warnings.warn(\"None of the inputs have requires_grad=True. Gradients will be None\")\n",
            "\n",
            "image 1/1 /content/drive/MyDrive/Colab Notebooks/FibreAnalysis/Data/Prepared/Set/images/test/image_2023-07-24_19-39-42-102962_1.png: 640x544 1 fibre, 34.6ms\n",
            "Speed: 3.0ms preprocess, 34.6ms inference, 3.4ms postprocess per image at shape (1, 3, 640, 544)\n"
          ]
        },
        {
          "name": "stdout",
          "output_type": "stream",
          "text": [
            "loop 31\n",
            "/content/drive/MyDrive/Colab Notebooks/FibreAnalysis/Data/Prepared/Set/images/test/image_2023-07-24_19-39-42-102962_1.png\n",
            "/content/drive/MyDrive/Colab Notebooks/FibreAnalysis/Data/Prepared/Set/masks/test/mask_2023-07-24_19-39-42-102962_1.png\n"
          ]
        },
        {
          "name": "stderr",
          "output_type": "stream",
          "text": [
            "/usr/local/lib/python3.10/dist-packages/transformers/modeling_utils.py:874: FutureWarning: The `device` argument is deprecated and will be removed in v5 of Transformers.\n",
            "  warnings.warn(\n",
            "/usr/local/lib/python3.10/dist-packages/torch/utils/checkpoint.py:31: UserWarning: None of the inputs have requires_grad=True. Gradients will be None\n",
            "  warnings.warn(\"None of the inputs have requires_grad=True. Gradients will be None\")\n"
          ]
        },
        {
          "name": "stdout",
          "output_type": "stream",
          "text": [
            "loop 32\n",
            "/content/drive/MyDrive/Colab Notebooks/FibreAnalysis/Data/Prepared/Set/images/test/image_2023-07-24_19-38-58-726948_2.png\n",
            "/content/drive/MyDrive/Colab Notebooks/FibreAnalysis/Data/Prepared/Set/masks/test/mask_2023-07-24_19-38-58-726948_2.png\n"
          ]
        },
        {
          "name": "stderr",
          "output_type": "stream",
          "text": [
            "\n",
            "image 1/1 /content/drive/MyDrive/Colab Notebooks/FibreAnalysis/Data/Prepared/Set/images/test/image_2023-07-24_19-38-58-726948_2.png: 448x640 4 fibres, 28.6ms\n",
            "Speed: 2.3ms preprocess, 28.6ms inference, 2.0ms postprocess per image at shape (1, 3, 448, 640)\n",
            "/usr/local/lib/python3.10/dist-packages/transformers/modeling_utils.py:874: FutureWarning: The `device` argument is deprecated and will be removed in v5 of Transformers.\n",
            "  warnings.warn(\n",
            "/usr/local/lib/python3.10/dist-packages/torch/utils/checkpoint.py:31: UserWarning: None of the inputs have requires_grad=True. Gradients will be None\n",
            "  warnings.warn(\"None of the inputs have requires_grad=True. Gradients will be None\")\n"
          ]
        },
        {
          "name": "stdout",
          "output_type": "stream",
          "text": [
            "loop 33\n",
            "/content/drive/MyDrive/Colab Notebooks/FibreAnalysis/Data/Prepared/Set/images/test/image_2023-07-24_19-41-12-674257_1.png\n",
            "/content/drive/MyDrive/Colab Notebooks/FibreAnalysis/Data/Prepared/Set/masks/test/mask_2023-07-24_19-41-12-674257_1.png\n"
          ]
        },
        {
          "name": "stderr",
          "output_type": "stream",
          "text": [
            "\n",
            "image 1/1 /content/drive/MyDrive/Colab Notebooks/FibreAnalysis/Data/Prepared/Set/images/test/image_2023-07-24_19-41-12-674257_1.png: 640x544 5 fibres, 36.8ms\n",
            "Speed: 4.1ms preprocess, 36.8ms inference, 3.4ms postprocess per image at shape (1, 3, 640, 544)\n",
            "/usr/local/lib/python3.10/dist-packages/transformers/modeling_utils.py:874: FutureWarning: The `device` argument is deprecated and will be removed in v5 of Transformers.\n",
            "  warnings.warn(\n",
            "/usr/local/lib/python3.10/dist-packages/torch/utils/checkpoint.py:31: UserWarning: None of the inputs have requires_grad=True. Gradients will be None\n",
            "  warnings.warn(\"None of the inputs have requires_grad=True. Gradients will be None\")\n",
            "\n",
            "image 1/1 /content/drive/MyDrive/Colab Notebooks/FibreAnalysis/Data/Prepared/Set/images/test/image_2023-07-24_19-41-39-391320_1.png: 448x640 2 fibres, 29.1ms\n",
            "Speed: 3.2ms preprocess, 29.1ms inference, 3.3ms postprocess per image at shape (1, 3, 448, 640)\n"
          ]
        },
        {
          "name": "stdout",
          "output_type": "stream",
          "text": [
            "loop 34\n",
            "/content/drive/MyDrive/Colab Notebooks/FibreAnalysis/Data/Prepared/Set/images/test/image_2023-07-24_19-41-39-391320_1.png\n",
            "/content/drive/MyDrive/Colab Notebooks/FibreAnalysis/Data/Prepared/Set/masks/test/mask_2023-07-24_19-41-39-391320_1.png\n"
          ]
        },
        {
          "name": "stderr",
          "output_type": "stream",
          "text": [
            "/usr/local/lib/python3.10/dist-packages/transformers/modeling_utils.py:874: FutureWarning: The `device` argument is deprecated and will be removed in v5 of Transformers.\n",
            "  warnings.warn(\n",
            "/usr/local/lib/python3.10/dist-packages/torch/utils/checkpoint.py:31: UserWarning: None of the inputs have requires_grad=True. Gradients will be None\n",
            "  warnings.warn(\"None of the inputs have requires_grad=True. Gradients will be None\")\n"
          ]
        },
        {
          "name": "stdout",
          "output_type": "stream",
          "text": [
            "loop 35\n",
            "/content/drive/MyDrive/Colab Notebooks/FibreAnalysis/Data/Prepared/Set/images/test/image_2023-07-24_19-38-37-276992_2.png\n",
            "/content/drive/MyDrive/Colab Notebooks/FibreAnalysis/Data/Prepared/Set/masks/test/mask_2023-07-24_19-38-37-276992_2.png\n"
          ]
        },
        {
          "name": "stderr",
          "output_type": "stream",
          "text": [
            "\n",
            "image 1/1 /content/drive/MyDrive/Colab Notebooks/FibreAnalysis/Data/Prepared/Set/images/test/image_2023-07-24_19-38-37-276992_2.png: 448x640 1 fibre, 27.2ms\n",
            "Speed: 3.2ms preprocess, 27.2ms inference, 3.2ms postprocess per image at shape (1, 3, 448, 640)\n",
            "/usr/local/lib/python3.10/dist-packages/transformers/modeling_utils.py:874: FutureWarning: The `device` argument is deprecated and will be removed in v5 of Transformers.\n",
            "  warnings.warn(\n",
            "/usr/local/lib/python3.10/dist-packages/torch/utils/checkpoint.py:31: UserWarning: None of the inputs have requires_grad=True. Gradients will be None\n",
            "  warnings.warn(\"None of the inputs have requires_grad=True. Gradients will be None\")\n"
          ]
        },
        {
          "name": "stdout",
          "output_type": "stream",
          "text": [
            "loop 36\n",
            "/content/drive/MyDrive/Colab Notebooks/FibreAnalysis/Data/Prepared/Set/images/test/image_2023-07-24_19-39-41-749965_1.png\n",
            "/content/drive/MyDrive/Colab Notebooks/FibreAnalysis/Data/Prepared/Set/masks/test/mask_2023-07-24_19-39-41-749965_1.png\n"
          ]
        },
        {
          "name": "stderr",
          "output_type": "stream",
          "text": [
            "\n",
            "image 1/1 /content/drive/MyDrive/Colab Notebooks/FibreAnalysis/Data/Prepared/Set/images/test/image_2023-07-24_19-39-41-749965_1.png: 640x544 1 fibre, 35.3ms\n",
            "Speed: 4.3ms preprocess, 35.3ms inference, 3.7ms postprocess per image at shape (1, 3, 640, 544)\n",
            "/usr/local/lib/python3.10/dist-packages/transformers/modeling_utils.py:874: FutureWarning: The `device` argument is deprecated and will be removed in v5 of Transformers.\n",
            "  warnings.warn(\n",
            "/usr/local/lib/python3.10/dist-packages/torch/utils/checkpoint.py:31: UserWarning: None of the inputs have requires_grad=True. Gradients will be None\n",
            "  warnings.warn(\"None of the inputs have requires_grad=True. Gradients will be None\")\n",
            "\n",
            "image 1/1 /content/drive/MyDrive/Colab Notebooks/FibreAnalysis/Data/Prepared/Set/images/test/image_2023-07-24_19-41-02-354456_1.png: 640x544 (no detections), 35.5ms\n",
            "Speed: 4.3ms preprocess, 35.5ms inference, 0.9ms postprocess per image at shape (1, 3, 640, 544)\n"
          ]
        },
        {
          "name": "stdout",
          "output_type": "stream",
          "text": [
            "loop 37\n",
            "/content/drive/MyDrive/Colab Notebooks/FibreAnalysis/Data/Prepared/Set/images/test/image_2023-07-24_19-41-02-354456_1.png\n",
            "/content/drive/MyDrive/Colab Notebooks/FibreAnalysis/Data/Prepared/Set/masks/test/mask_2023-07-24_19-41-02-354456_1.png\n",
            "An error occurred: 'NoneType' object has no attribute 'data' /content/drive/MyDrive/Colab Notebooks/FibreAnalysis/Data/Prepared/Set/images/test/image_2023-07-24_19-41-02-354456_1.png\n",
            "loop 38\n",
            "/content/drive/MyDrive/Colab Notebooks/FibreAnalysis/Data/Prepared/Set/images/test/image_2023-07-24_19-41-12-836668_1.png\n",
            "/content/drive/MyDrive/Colab Notebooks/FibreAnalysis/Data/Prepared/Set/masks/test/mask_2023-07-24_19-41-12-836668_1.png\n"
          ]
        },
        {
          "name": "stderr",
          "output_type": "stream",
          "text": [
            "\n",
            "image 1/1 /content/drive/MyDrive/Colab Notebooks/FibreAnalysis/Data/Prepared/Set/images/test/image_2023-07-24_19-41-12-836668_1.png: 448x640 8 fibres, 28.0ms\n",
            "Speed: 3.2ms preprocess, 28.0ms inference, 3.1ms postprocess per image at shape (1, 3, 448, 640)\n",
            "/usr/local/lib/python3.10/dist-packages/transformers/modeling_utils.py:874: FutureWarning: The `device` argument is deprecated and will be removed in v5 of Transformers.\n",
            "  warnings.warn(\n",
            "/usr/local/lib/python3.10/dist-packages/torch/utils/checkpoint.py:31: UserWarning: None of the inputs have requires_grad=True. Gradients will be None\n",
            "  warnings.warn(\"None of the inputs have requires_grad=True. Gradients will be None\")\n",
            "\n",
            "image 1/1 /content/drive/MyDrive/Colab Notebooks/FibreAnalysis/Data/Prepared/Set/images/test/image_2023-07-24_19-39-47-129492_2.png: 448x640 4 fibres, 29.3ms\n",
            "Speed: 2.3ms preprocess, 29.3ms inference, 2.1ms postprocess per image at shape (1, 3, 448, 640)\n"
          ]
        },
        {
          "name": "stdout",
          "output_type": "stream",
          "text": [
            "loop 39\n",
            "/content/drive/MyDrive/Colab Notebooks/FibreAnalysis/Data/Prepared/Set/images/test/image_2023-07-24_19-39-47-129492_2.png\n",
            "/content/drive/MyDrive/Colab Notebooks/FibreAnalysis/Data/Prepared/Set/masks/test/mask_2023-07-24_19-39-47-129492_2.png\n"
          ]
        },
        {
          "name": "stderr",
          "output_type": "stream",
          "text": [
            "/usr/local/lib/python3.10/dist-packages/transformers/modeling_utils.py:874: FutureWarning: The `device` argument is deprecated and will be removed in v5 of Transformers.\n",
            "  warnings.warn(\n",
            "/usr/local/lib/python3.10/dist-packages/torch/utils/checkpoint.py:31: UserWarning: None of the inputs have requires_grad=True. Gradients will be None\n",
            "  warnings.warn(\"None of the inputs have requires_grad=True. Gradients will be None\")\n",
            "\n",
            "image 1/1 /content/drive/MyDrive/Colab Notebooks/FibreAnalysis/Data/Prepared/Set/images/test/image_2023-07-24_19-40-19-460531_1.png: 640x480 14 fibres, 29.2ms\n",
            "Speed: 4.4ms preprocess, 29.2ms inference, 3.5ms postprocess per image at shape (1, 3, 640, 480)\n"
          ]
        },
        {
          "name": "stdout",
          "output_type": "stream",
          "text": [
            "loop 40\n",
            "/content/drive/MyDrive/Colab Notebooks/FibreAnalysis/Data/Prepared/Set/images/test/image_2023-07-24_19-40-19-460531_1.png\n",
            "/content/drive/MyDrive/Colab Notebooks/FibreAnalysis/Data/Prepared/Set/masks/test/mask_2023-07-24_19-40-19-460531_1.png\n"
          ]
        },
        {
          "name": "stderr",
          "output_type": "stream",
          "text": [
            "/usr/local/lib/python3.10/dist-packages/transformers/modeling_utils.py:874: FutureWarning: The `device` argument is deprecated and will be removed in v5 of Transformers.\n",
            "  warnings.warn(\n",
            "/usr/local/lib/python3.10/dist-packages/torch/utils/checkpoint.py:31: UserWarning: None of the inputs have requires_grad=True. Gradients will be None\n",
            "  warnings.warn(\"None of the inputs have requires_grad=True. Gradients will be None\")\n"
          ]
        },
        {
          "name": "stdout",
          "output_type": "stream",
          "text": [
            "loop 41\n",
            "/content/drive/MyDrive/Colab Notebooks/FibreAnalysis/Data/Prepared/Set/images/test/image_2023-07-24_19-40-30-155102_1.png\n",
            "/content/drive/MyDrive/Colab Notebooks/FibreAnalysis/Data/Prepared/Set/masks/test/mask_2023-07-24_19-40-30-155102_1.png\n"
          ]
        },
        {
          "name": "stderr",
          "output_type": "stream",
          "text": [
            "\n",
            "image 1/1 /content/drive/MyDrive/Colab Notebooks/FibreAnalysis/Data/Prepared/Set/images/test/image_2023-07-24_19-40-30-155102_1.png: 640x544 5 fibres, 35.2ms\n",
            "Speed: 3.8ms preprocess, 35.2ms inference, 3.1ms postprocess per image at shape (1, 3, 640, 544)\n",
            "/usr/local/lib/python3.10/dist-packages/transformers/modeling_utils.py:874: FutureWarning: The `device` argument is deprecated and will be removed in v5 of Transformers.\n",
            "  warnings.warn(\n",
            "/usr/local/lib/python3.10/dist-packages/torch/utils/checkpoint.py:31: UserWarning: None of the inputs have requires_grad=True. Gradients will be None\n",
            "  warnings.warn(\"None of the inputs have requires_grad=True. Gradients will be None\")\n",
            "\n",
            "image 1/1 /content/drive/MyDrive/Colab Notebooks/FibreAnalysis/Data/Prepared/Set/images/test/image_2023-07-24_19-39-26-397195_1.png: 640x544 9 fibres, 35.1ms\n",
            "Speed: 4.0ms preprocess, 35.1ms inference, 3.1ms postprocess per image at shape (1, 3, 640, 544)\n"
          ]
        },
        {
          "name": "stdout",
          "output_type": "stream",
          "text": [
            "loop 42\n",
            "/content/drive/MyDrive/Colab Notebooks/FibreAnalysis/Data/Prepared/Set/images/test/image_2023-07-24_19-39-26-397195_1.png\n",
            "/content/drive/MyDrive/Colab Notebooks/FibreAnalysis/Data/Prepared/Set/masks/test/mask_2023-07-24_19-39-26-397195_1.png\n"
          ]
        },
        {
          "name": "stderr",
          "output_type": "stream",
          "text": [
            "/usr/local/lib/python3.10/dist-packages/transformers/modeling_utils.py:874: FutureWarning: The `device` argument is deprecated and will be removed in v5 of Transformers.\n",
            "  warnings.warn(\n",
            "/usr/local/lib/python3.10/dist-packages/torch/utils/checkpoint.py:31: UserWarning: None of the inputs have requires_grad=True. Gradients will be None\n",
            "  warnings.warn(\"None of the inputs have requires_grad=True. Gradients will be None\")\n"
          ]
        },
        {
          "name": "stdout",
          "output_type": "stream",
          "text": [
            "loop 43\n",
            "/content/drive/MyDrive/Colab Notebooks/FibreAnalysis/Data/Prepared/Set/images/test/image_2023-07-24_19-39-41-911129_1.png\n",
            "/content/drive/MyDrive/Colab Notebooks/FibreAnalysis/Data/Prepared/Set/masks/test/mask_2023-07-24_19-39-41-911129_1.png\n"
          ]
        },
        {
          "name": "stderr",
          "output_type": "stream",
          "text": [
            "\n",
            "image 1/1 /content/drive/MyDrive/Colab Notebooks/FibreAnalysis/Data/Prepared/Set/images/test/image_2023-07-24_19-39-41-911129_1.png: 448x640 1 fibre, 28.3ms\n",
            "Speed: 2.5ms preprocess, 28.3ms inference, 2.1ms postprocess per image at shape (1, 3, 448, 640)\n",
            "/usr/local/lib/python3.10/dist-packages/transformers/modeling_utils.py:874: FutureWarning: The `device` argument is deprecated and will be removed in v5 of Transformers.\n",
            "  warnings.warn(\n",
            "/usr/local/lib/python3.10/dist-packages/torch/utils/checkpoint.py:31: UserWarning: None of the inputs have requires_grad=True. Gradients will be None\n",
            "  warnings.warn(\"None of the inputs have requires_grad=True. Gradients will be None\")\n"
          ]
        },
        {
          "name": "stdout",
          "output_type": "stream",
          "text": [
            "loop 44\n",
            "/content/drive/MyDrive/Colab Notebooks/FibreAnalysis/Data/Prepared/Set/images/test/image_2023-07-24_19-41-07-439885_1.png\n",
            "/content/drive/MyDrive/Colab Notebooks/FibreAnalysis/Data/Prepared/Set/masks/test/mask_2023-07-24_19-41-07-439885_1.png\n"
          ]
        },
        {
          "name": "stderr",
          "output_type": "stream",
          "text": [
            "\n",
            "image 1/1 /content/drive/MyDrive/Colab Notebooks/FibreAnalysis/Data/Prepared/Set/images/test/image_2023-07-24_19-41-07-439885_1.png: 640x512 6 fibres, 28.5ms\n",
            "Speed: 4.6ms preprocess, 28.5ms inference, 3.6ms postprocess per image at shape (1, 3, 640, 512)\n",
            "/usr/local/lib/python3.10/dist-packages/transformers/modeling_utils.py:874: FutureWarning: The `device` argument is deprecated and will be removed in v5 of Transformers.\n",
            "  warnings.warn(\n",
            "/usr/local/lib/python3.10/dist-packages/torch/utils/checkpoint.py:31: UserWarning: None of the inputs have requires_grad=True. Gradients will be None\n",
            "  warnings.warn(\"None of the inputs have requires_grad=True. Gradients will be None\")\n"
          ]
        },
        {
          "name": "stdout",
          "output_type": "stream",
          "text": [
            "loop 45\n",
            "/content/drive/MyDrive/Colab Notebooks/FibreAnalysis/Data/Prepared/Set/images/test/image_2023-07-24_19-38-37-087957_1.png\n",
            "/content/drive/MyDrive/Colab Notebooks/FibreAnalysis/Data/Prepared/Set/masks/test/mask_2023-07-24_19-38-37-087957_1.png\n"
          ]
        },
        {
          "name": "stderr",
          "output_type": "stream",
          "text": [
            "\n",
            "image 1/1 /content/drive/MyDrive/Colab Notebooks/FibreAnalysis/Data/Prepared/Set/images/test/image_2023-07-24_19-38-37-087957_1.png: 640x480 3 fibres, 27.5ms\n",
            "Speed: 3.0ms preprocess, 27.5ms inference, 2.1ms postprocess per image at shape (1, 3, 640, 480)\n",
            "/usr/local/lib/python3.10/dist-packages/transformers/modeling_utils.py:874: FutureWarning: The `device` argument is deprecated and will be removed in v5 of Transformers.\n",
            "  warnings.warn(\n",
            "/usr/local/lib/python3.10/dist-packages/torch/utils/checkpoint.py:31: UserWarning: None of the inputs have requires_grad=True. Gradients will be None\n",
            "  warnings.warn(\"None of the inputs have requires_grad=True. Gradients will be None\")\n"
          ]
        },
        {
          "name": "stdout",
          "output_type": "stream",
          "text": [
            "loop 46\n",
            "/content/drive/MyDrive/Colab Notebooks/FibreAnalysis/Data/Prepared/Set/images/test/image_2023-07-24_19-38-42-984229_1.png\n",
            "/content/drive/MyDrive/Colab Notebooks/FibreAnalysis/Data/Prepared/Set/masks/test/mask_2023-07-24_19-38-42-984229_1.png\n"
          ]
        },
        {
          "name": "stderr",
          "output_type": "stream",
          "text": [
            "\n",
            "image 1/1 /content/drive/MyDrive/Colab Notebooks/FibreAnalysis/Data/Prepared/Set/images/test/image_2023-07-24_19-38-42-984229_1.png: 640x544 5 fibres, 36.5ms\n",
            "Speed: 2.9ms preprocess, 36.5ms inference, 2.2ms postprocess per image at shape (1, 3, 640, 544)\n",
            "/usr/local/lib/python3.10/dist-packages/transformers/modeling_utils.py:874: FutureWarning: The `device` argument is deprecated and will be removed in v5 of Transformers.\n",
            "  warnings.warn(\n",
            "/usr/local/lib/python3.10/dist-packages/torch/utils/checkpoint.py:31: UserWarning: None of the inputs have requires_grad=True. Gradients will be None\n",
            "  warnings.warn(\"None of the inputs have requires_grad=True. Gradients will be None\")\n"
          ]
        },
        {
          "name": "stdout",
          "output_type": "stream",
          "text": [
            "loop 47\n",
            "/content/drive/MyDrive/Colab Notebooks/FibreAnalysis/Data/Prepared/Set/images/test/image_2023-07-24_19-38-37-276992_1.png\n",
            "/content/drive/MyDrive/Colab Notebooks/FibreAnalysis/Data/Prepared/Set/masks/test/mask_2023-07-24_19-38-37-276992_1.png\n"
          ]
        },
        {
          "name": "stderr",
          "output_type": "stream",
          "text": [
            "\n",
            "image 1/1 /content/drive/MyDrive/Colab Notebooks/FibreAnalysis/Data/Prepared/Set/images/test/image_2023-07-24_19-38-37-276992_1.png: 448x640 (no detections), 32.9ms\n",
            "Speed: 3.3ms preprocess, 32.9ms inference, 0.8ms postprocess per image at shape (1, 3, 448, 640)\n"
          ]
        },
        {
          "name": "stdout",
          "output_type": "stream",
          "text": [
            "An error occurred: 'NoneType' object has no attribute 'data' /content/drive/MyDrive/Colab Notebooks/FibreAnalysis/Data/Prepared/Set/images/test/image_2023-07-24_19-38-37-276992_1.png\n",
            "loop 48\n",
            "/content/drive/MyDrive/Colab Notebooks/FibreAnalysis/Data/Prepared/Set/images/test/image_2023-07-24_19-40-08-690464_1.png\n",
            "/content/drive/MyDrive/Colab Notebooks/FibreAnalysis/Data/Prepared/Set/masks/test/mask_2023-07-24_19-40-08-690464_1.png\n"
          ]
        },
        {
          "name": "stderr",
          "output_type": "stream",
          "text": [
            "\n",
            "image 1/1 /content/drive/MyDrive/Colab Notebooks/FibreAnalysis/Data/Prepared/Set/images/test/image_2023-07-24_19-40-08-690464_1.png: 448x640 2 fibres, 27.4ms\n",
            "Speed: 2.3ms preprocess, 27.4ms inference, 2.3ms postprocess per image at shape (1, 3, 448, 640)\n",
            "/usr/local/lib/python3.10/dist-packages/transformers/modeling_utils.py:874: FutureWarning: The `device` argument is deprecated and will be removed in v5 of Transformers.\n",
            "  warnings.warn(\n",
            "/usr/local/lib/python3.10/dist-packages/torch/utils/checkpoint.py:31: UserWarning: None of the inputs have requires_grad=True. Gradients will be None\n",
            "  warnings.warn(\"None of the inputs have requires_grad=True. Gradients will be None\")\n",
            "\n",
            "image 1/1 /content/drive/MyDrive/Colab Notebooks/FibreAnalysis/Data/Prepared/Set/images/test/image_2023-07-24_19-40-40-893108_2.png: 448x640 10 fibres, 28.5ms\n",
            "Speed: 3.0ms preprocess, 28.5ms inference, 3.2ms postprocess per image at shape (1, 3, 448, 640)\n"
          ]
        },
        {
          "name": "stdout",
          "output_type": "stream",
          "text": [
            "loop 49\n",
            "/content/drive/MyDrive/Colab Notebooks/FibreAnalysis/Data/Prepared/Set/images/test/image_2023-07-24_19-40-40-893108_2.png\n",
            "/content/drive/MyDrive/Colab Notebooks/FibreAnalysis/Data/Prepared/Set/masks/test/mask_2023-07-24_19-40-40-893108_2.png\n"
          ]
        },
        {
          "name": "stderr",
          "output_type": "stream",
          "text": [
            "/usr/local/lib/python3.10/dist-packages/transformers/modeling_utils.py:874: FutureWarning: The `device` argument is deprecated and will be removed in v5 of Transformers.\n",
            "  warnings.warn(\n",
            "/usr/local/lib/python3.10/dist-packages/torch/utils/checkpoint.py:31: UserWarning: None of the inputs have requires_grad=True. Gradients will be None\n",
            "  warnings.warn(\"None of the inputs have requires_grad=True. Gradients will be None\")\n"
          ]
        },
        {
          "name": "stdout",
          "output_type": "stream",
          "text": [
            "loop 50\n",
            "/content/drive/MyDrive/Colab Notebooks/FibreAnalysis/Data/Prepared/Set/images/test/image_2023-07-24_19-40-24-305327_2.png\n",
            "/content/drive/MyDrive/Colab Notebooks/FibreAnalysis/Data/Prepared/Set/masks/test/mask_2023-07-24_19-40-24-305327_2.png\n"
          ]
        },
        {
          "name": "stderr",
          "output_type": "stream",
          "text": [
            "\n",
            "image 1/1 /content/drive/MyDrive/Colab Notebooks/FibreAnalysis/Data/Prepared/Set/images/test/image_2023-07-24_19-40-24-305327_2.png: 448x640 7 fibres, 27.3ms\n",
            "Speed: 2.3ms preprocess, 27.3ms inference, 2.9ms postprocess per image at shape (1, 3, 448, 640)\n",
            "/usr/local/lib/python3.10/dist-packages/transformers/modeling_utils.py:874: FutureWarning: The `device` argument is deprecated and will be removed in v5 of Transformers.\n",
            "  warnings.warn(\n",
            "/usr/local/lib/python3.10/dist-packages/torch/utils/checkpoint.py:31: UserWarning: None of the inputs have requires_grad=True. Gradients will be None\n",
            "  warnings.warn(\"None of the inputs have requires_grad=True. Gradients will be None\")\n"
          ]
        },
        {
          "name": "stdout",
          "output_type": "stream",
          "text": [
            "loop 51\n",
            "/content/drive/MyDrive/Colab Notebooks/FibreAnalysis/Data/Prepared/Set/images/test/image_2023-07-24_19-38-20-341651_1.png\n",
            "/content/drive/MyDrive/Colab Notebooks/FibreAnalysis/Data/Prepared/Set/masks/test/mask_2023-07-24_19-38-20-341651_1.png\n"
          ]
        },
        {
          "name": "stderr",
          "output_type": "stream",
          "text": [
            "\n",
            "image 1/1 /content/drive/MyDrive/Colab Notebooks/FibreAnalysis/Data/Prepared/Set/images/test/image_2023-07-24_19-38-20-341651_1.png: 448x640 1 fibre, 27.4ms\n",
            "Speed: 2.3ms preprocess, 27.4ms inference, 2.3ms postprocess per image at shape (1, 3, 448, 640)\n",
            "/usr/local/lib/python3.10/dist-packages/transformers/modeling_utils.py:874: FutureWarning: The `device` argument is deprecated and will be removed in v5 of Transformers.\n",
            "  warnings.warn(\n",
            "/usr/local/lib/python3.10/dist-packages/torch/utils/checkpoint.py:31: UserWarning: None of the inputs have requires_grad=True. Gradients will be None\n",
            "  warnings.warn(\"None of the inputs have requires_grad=True. Gradients will be None\")\n"
          ]
        },
        {
          "name": "stdout",
          "output_type": "stream",
          "text": [
            "loop 52\n",
            "/content/drive/MyDrive/Colab Notebooks/FibreAnalysis/Data/Prepared/Set/images/test/image_2023-07-24_19-40-52-148127_1.png\n",
            "/content/drive/MyDrive/Colab Notebooks/FibreAnalysis/Data/Prepared/Set/masks/test/mask_2023-07-24_19-40-52-148127_1.png\n"
          ]
        },
        {
          "name": "stderr",
          "output_type": "stream",
          "text": [
            "\n",
            "image 1/1 /content/drive/MyDrive/Colab Notebooks/FibreAnalysis/Data/Prepared/Set/images/test/image_2023-07-24_19-40-52-148127_1.png: 640x544 13 fibres, 37.2ms\n",
            "Speed: 3.9ms preprocess, 37.2ms inference, 3.4ms postprocess per image at shape (1, 3, 640, 544)\n",
            "/usr/local/lib/python3.10/dist-packages/transformers/modeling_utils.py:874: FutureWarning: The `device` argument is deprecated and will be removed in v5 of Transformers.\n",
            "  warnings.warn(\n",
            "/usr/local/lib/python3.10/dist-packages/torch/utils/checkpoint.py:31: UserWarning: None of the inputs have requires_grad=True. Gradients will be None\n",
            "  warnings.warn(\"None of the inputs have requires_grad=True. Gradients will be None\")\n"
          ]
        },
        {
          "name": "stdout",
          "output_type": "stream",
          "text": [
            "loop 53\n",
            "/content/drive/MyDrive/Colab Notebooks/FibreAnalysis/Data/Prepared/Set/images/test/image_2023-07-24_19-40-46-287243_1.png\n",
            "/content/drive/MyDrive/Colab Notebooks/FibreAnalysis/Data/Prepared/Set/masks/test/mask_2023-07-24_19-40-46-287243_1.png\n"
          ]
        },
        {
          "name": "stderr",
          "output_type": "stream",
          "text": [
            "\n",
            "image 1/1 /content/drive/MyDrive/Colab Notebooks/FibreAnalysis/Data/Prepared/Set/images/test/image_2023-07-24_19-40-46-287243_1.png: 640x512 11 fibres, 27.8ms\n",
            "Speed: 2.8ms preprocess, 27.8ms inference, 2.3ms postprocess per image at shape (1, 3, 640, 512)\n",
            "/usr/local/lib/python3.10/dist-packages/transformers/modeling_utils.py:874: FutureWarning: The `device` argument is deprecated and will be removed in v5 of Transformers.\n",
            "  warnings.warn(\n",
            "/usr/local/lib/python3.10/dist-packages/torch/utils/checkpoint.py:31: UserWarning: None of the inputs have requires_grad=True. Gradients will be None\n",
            "  warnings.warn(\"None of the inputs have requires_grad=True. Gradients will be None\")\n"
          ]
        },
        {
          "name": "stdout",
          "output_type": "stream",
          "text": [
            "loop 54\n",
            "/content/drive/MyDrive/Colab Notebooks/FibreAnalysis/Data/Prepared/Set/images/test/image_2023-07-24_19-39-04-313835_2.png\n",
            "/content/drive/MyDrive/Colab Notebooks/FibreAnalysis/Data/Prepared/Set/masks/test/mask_2023-07-24_19-39-04-313835_2.png\n"
          ]
        },
        {
          "name": "stderr",
          "output_type": "stream",
          "text": [
            "\n",
            "image 1/1 /content/drive/MyDrive/Colab Notebooks/FibreAnalysis/Data/Prepared/Set/images/test/image_2023-07-24_19-39-04-313835_2.png: 448x640 8 fibres, 29.6ms\n",
            "Speed: 3.2ms preprocess, 29.6ms inference, 3.0ms postprocess per image at shape (1, 3, 448, 640)\n",
            "/usr/local/lib/python3.10/dist-packages/transformers/modeling_utils.py:874: FutureWarning: The `device` argument is deprecated and will be removed in v5 of Transformers.\n",
            "  warnings.warn(\n",
            "/usr/local/lib/python3.10/dist-packages/torch/utils/checkpoint.py:31: UserWarning: None of the inputs have requires_grad=True. Gradients will be None\n",
            "  warnings.warn(\"None of the inputs have requires_grad=True. Gradients will be None\")\n",
            "\n",
            "image 1/1 /content/drive/MyDrive/Colab Notebooks/FibreAnalysis/Data/Prepared/Set/images/test/image_2023-07-24_19-41-45-442867_1.png: 640x544 2 fibres, 36.0ms\n",
            "Speed: 4.1ms preprocess, 36.0ms inference, 3.7ms postprocess per image at shape (1, 3, 640, 544)\n"
          ]
        },
        {
          "name": "stdout",
          "output_type": "stream",
          "text": [
            "loop 55\n",
            "/content/drive/MyDrive/Colab Notebooks/FibreAnalysis/Data/Prepared/Set/images/test/image_2023-07-24_19-41-45-442867_1.png\n",
            "/content/drive/MyDrive/Colab Notebooks/FibreAnalysis/Data/Prepared/Set/masks/test/mask_2023-07-24_19-41-45-442867_1.png\n"
          ]
        },
        {
          "name": "stderr",
          "output_type": "stream",
          "text": [
            "/usr/local/lib/python3.10/dist-packages/transformers/modeling_utils.py:874: FutureWarning: The `device` argument is deprecated and will be removed in v5 of Transformers.\n",
            "  warnings.warn(\n",
            "/usr/local/lib/python3.10/dist-packages/torch/utils/checkpoint.py:31: UserWarning: None of the inputs have requires_grad=True. Gradients will be None\n",
            "  warnings.warn(\"None of the inputs have requires_grad=True. Gradients will be None\")\n"
          ]
        },
        {
          "name": "stdout",
          "output_type": "stream",
          "text": [
            "loop 56\n",
            "/content/drive/MyDrive/Colab Notebooks/FibreAnalysis/Data/Prepared/Set/images/test/image_2023-07-24_19-40-18-932457_1.png\n",
            "/content/drive/MyDrive/Colab Notebooks/FibreAnalysis/Data/Prepared/Set/masks/test/mask_2023-07-24_19-40-18-932457_1.png\n"
          ]
        },
        {
          "name": "stderr",
          "output_type": "stream",
          "text": [
            "\n",
            "image 1/1 /content/drive/MyDrive/Colab Notebooks/FibreAnalysis/Data/Prepared/Set/images/test/image_2023-07-24_19-40-18-932457_1.png: 448x640 (no detections), 28.4ms\n",
            "Speed: 3.2ms preprocess, 28.4ms inference, 0.7ms postprocess per image at shape (1, 3, 448, 640)\n"
          ]
        },
        {
          "name": "stdout",
          "output_type": "stream",
          "text": [
            "An error occurred: 'NoneType' object has no attribute 'data' /content/drive/MyDrive/Colab Notebooks/FibreAnalysis/Data/Prepared/Set/images/test/image_2023-07-24_19-40-18-932457_1.png\n",
            "loop 57\n",
            "/content/drive/MyDrive/Colab Notebooks/FibreAnalysis/Data/Prepared/Set/images/test/image_2023-07-24_19-40-08-878660_2.png\n",
            "/content/drive/MyDrive/Colab Notebooks/FibreAnalysis/Data/Prepared/Set/masks/test/mask_2023-07-24_19-40-08-878660_2.png\n"
          ]
        },
        {
          "name": "stderr",
          "output_type": "stream",
          "text": [
            "\n",
            "image 1/1 /content/drive/MyDrive/Colab Notebooks/FibreAnalysis/Data/Prepared/Set/images/test/image_2023-07-24_19-40-08-878660_2.png: 448x640 4 fibres, 27.5ms\n",
            "Speed: 2.5ms preprocess, 27.5ms inference, 2.6ms postprocess per image at shape (1, 3, 448, 640)\n",
            "/usr/local/lib/python3.10/dist-packages/transformers/modeling_utils.py:874: FutureWarning: The `device` argument is deprecated and will be removed in v5 of Transformers.\n",
            "  warnings.warn(\n",
            "/usr/local/lib/python3.10/dist-packages/torch/utils/checkpoint.py:31: UserWarning: None of the inputs have requires_grad=True. Gradients will be None\n",
            "  warnings.warn(\"None of the inputs have requires_grad=True. Gradients will be None\")\n"
          ]
        },
        {
          "name": "stdout",
          "output_type": "stream",
          "text": [
            "loop 58\n",
            "/content/drive/MyDrive/Colab Notebooks/FibreAnalysis/Data/Prepared/Set/images/test/image_2023-07-24_19-40-13-706713_1.png\n",
            "/content/drive/MyDrive/Colab Notebooks/FibreAnalysis/Data/Prepared/Set/masks/test/mask_2023-07-24_19-40-13-706713_1.png\n"
          ]
        },
        {
          "name": "stderr",
          "output_type": "stream",
          "text": [
            "\n",
            "image 1/1 /content/drive/MyDrive/Colab Notebooks/FibreAnalysis/Data/Prepared/Set/images/test/image_2023-07-24_19-40-13-706713_1.png: 640x480 2 fibres, 28.3ms\n",
            "Speed: 2.7ms preprocess, 28.3ms inference, 2.0ms postprocess per image at shape (1, 3, 640, 480)\n",
            "/usr/local/lib/python3.10/dist-packages/transformers/modeling_utils.py:874: FutureWarning: The `device` argument is deprecated and will be removed in v5 of Transformers.\n",
            "  warnings.warn(\n",
            "/usr/local/lib/python3.10/dist-packages/torch/utils/checkpoint.py:31: UserWarning: None of the inputs have requires_grad=True. Gradients will be None\n",
            "  warnings.warn(\"None of the inputs have requires_grad=True. Gradients will be None\")\n",
            "\n",
            "image 1/1 /content/drive/MyDrive/Colab Notebooks/FibreAnalysis/Data/Prepared/Set/images/test/image_2023-07-24_19-38-58-939312_1.png: 640x480 8 fibres, 28.1ms\n",
            "Speed: 2.6ms preprocess, 28.1ms inference, 3.3ms postprocess per image at shape (1, 3, 640, 480)\n"
          ]
        },
        {
          "name": "stdout",
          "output_type": "stream",
          "text": [
            "loop 59\n",
            "/content/drive/MyDrive/Colab Notebooks/FibreAnalysis/Data/Prepared/Set/images/test/image_2023-07-24_19-38-58-939312_1.png\n",
            "/content/drive/MyDrive/Colab Notebooks/FibreAnalysis/Data/Prepared/Set/masks/test/mask_2023-07-24_19-38-58-939312_1.png\n"
          ]
        },
        {
          "name": "stderr",
          "output_type": "stream",
          "text": [
            "/usr/local/lib/python3.10/dist-packages/transformers/modeling_utils.py:874: FutureWarning: The `device` argument is deprecated and will be removed in v5 of Transformers.\n",
            "  warnings.warn(\n",
            "/usr/local/lib/python3.10/dist-packages/torch/utils/checkpoint.py:31: UserWarning: None of the inputs have requires_grad=True. Gradients will be None\n",
            "  warnings.warn(\"None of the inputs have requires_grad=True. Gradients will be None\")\n",
            "\n",
            "image 1/1 /content/drive/MyDrive/Colab Notebooks/FibreAnalysis/Data/Prepared/Set/images/test/image_2023-07-24_19-39-52-349664_1.png: 640x544 4 fibres, 47.7ms\n",
            "Speed: 6.9ms preprocess, 47.7ms inference, 5.5ms postprocess per image at shape (1, 3, 640, 544)\n"
          ]
        },
        {
          "name": "stdout",
          "output_type": "stream",
          "text": [
            "loop 60\n",
            "/content/drive/MyDrive/Colab Notebooks/FibreAnalysis/Data/Prepared/Set/images/test/image_2023-07-24_19-39-52-349664_1.png\n",
            "/content/drive/MyDrive/Colab Notebooks/FibreAnalysis/Data/Prepared/Set/masks/test/mask_2023-07-24_19-39-52-349664_1.png\n"
          ]
        },
        {
          "name": "stderr",
          "output_type": "stream",
          "text": [
            "/usr/local/lib/python3.10/dist-packages/transformers/modeling_utils.py:874: FutureWarning: The `device` argument is deprecated and will be removed in v5 of Transformers.\n",
            "  warnings.warn(\n",
            "/usr/local/lib/python3.10/dist-packages/torch/utils/checkpoint.py:31: UserWarning: None of the inputs have requires_grad=True. Gradients will be None\n",
            "  warnings.warn(\"None of the inputs have requires_grad=True. Gradients will be None\")\n"
          ]
        },
        {
          "name": "stdout",
          "output_type": "stream",
          "text": [
            "loop 61\n",
            "/content/drive/MyDrive/Colab Notebooks/FibreAnalysis/Data/Prepared/Set/images/test/image_2023-07-24_19-40-57-033167_1.png\n",
            "/content/drive/MyDrive/Colab Notebooks/FibreAnalysis/Data/Prepared/Set/masks/test/mask_2023-07-24_19-40-57-033167_1.png\n"
          ]
        },
        {
          "name": "stderr",
          "output_type": "stream",
          "text": [
            "\n",
            "image 1/1 /content/drive/MyDrive/Colab Notebooks/FibreAnalysis/Data/Prepared/Set/images/test/image_2023-07-24_19-40-57-033167_1.png: 448x640 7 fibres, 28.1ms\n",
            "Speed: 2.1ms preprocess, 28.1ms inference, 2.0ms postprocess per image at shape (1, 3, 448, 640)\n",
            "/usr/local/lib/python3.10/dist-packages/transformers/modeling_utils.py:874: FutureWarning: The `device` argument is deprecated and will be removed in v5 of Transformers.\n",
            "  warnings.warn(\n",
            "/usr/local/lib/python3.10/dist-packages/torch/utils/checkpoint.py:31: UserWarning: None of the inputs have requires_grad=True. Gradients will be None\n",
            "  warnings.warn(\"None of the inputs have requires_grad=True. Gradients will be None\")\n",
            "\n",
            "image 1/1 /content/drive/MyDrive/Colab Notebooks/FibreAnalysis/Data/Prepared/Set/images/test/image_2023-07-24_19-40-41-103223_1.png: 448x640 8 fibres, 30.0ms\n",
            "Speed: 2.1ms preprocess, 30.0ms inference, 2.3ms postprocess per image at shape (1, 3, 448, 640)\n"
          ]
        },
        {
          "name": "stdout",
          "output_type": "stream",
          "text": [
            "loop 62\n",
            "/content/drive/MyDrive/Colab Notebooks/FibreAnalysis/Data/Prepared/Set/images/test/image_2023-07-24_19-40-41-103223_1.png\n",
            "/content/drive/MyDrive/Colab Notebooks/FibreAnalysis/Data/Prepared/Set/masks/test/mask_2023-07-24_19-40-41-103223_1.png\n"
          ]
        },
        {
          "name": "stderr",
          "output_type": "stream",
          "text": [
            "/usr/local/lib/python3.10/dist-packages/transformers/modeling_utils.py:874: FutureWarning: The `device` argument is deprecated and will be removed in v5 of Transformers.\n",
            "  warnings.warn(\n",
            "/usr/local/lib/python3.10/dist-packages/torch/utils/checkpoint.py:31: UserWarning: None of the inputs have requires_grad=True. Gradients will be None\n",
            "  warnings.warn(\"None of the inputs have requires_grad=True. Gradients will be None\")\n"
          ]
        },
        {
          "name": "stdout",
          "output_type": "stream",
          "text": [
            "loop 63\n",
            "/content/drive/MyDrive/Colab Notebooks/FibreAnalysis/Data/Prepared/Set/images/test/image_2023-07-24_19-38-53-800239_1.png\n",
            "/content/drive/MyDrive/Colab Notebooks/FibreAnalysis/Data/Prepared/Set/masks/test/mask_2023-07-24_19-38-53-800239_1.png\n"
          ]
        },
        {
          "name": "stderr",
          "output_type": "stream",
          "text": [
            "\n",
            "image 1/1 /content/drive/MyDrive/Colab Notebooks/FibreAnalysis/Data/Prepared/Set/images/test/image_2023-07-24_19-38-53-800239_1.png: 640x544 2 fibres, 36.6ms\n",
            "Speed: 4.3ms preprocess, 36.6ms inference, 3.8ms postprocess per image at shape (1, 3, 640, 544)\n",
            "/usr/local/lib/python3.10/dist-packages/transformers/modeling_utils.py:874: FutureWarning: The `device` argument is deprecated and will be removed in v5 of Transformers.\n",
            "  warnings.warn(\n",
            "/usr/local/lib/python3.10/dist-packages/torch/utils/checkpoint.py:31: UserWarning: None of the inputs have requires_grad=True. Gradients will be None\n",
            "  warnings.warn(\"None of the inputs have requires_grad=True. Gradients will be None\")\n",
            "\n",
            "image 1/1 /content/drive/MyDrive/Colab Notebooks/FibreAnalysis/Data/Prepared/Set/images/test/image_2023-07-24_19-39-41-565909_1.png: 640x512 4 fibres, 29.1ms\n",
            "Speed: 2.7ms preprocess, 29.1ms inference, 2.3ms postprocess per image at shape (1, 3, 640, 512)\n"
          ]
        },
        {
          "name": "stdout",
          "output_type": "stream",
          "text": [
            "loop 64\n",
            "/content/drive/MyDrive/Colab Notebooks/FibreAnalysis/Data/Prepared/Set/images/test/image_2023-07-24_19-39-41-565909_1.png\n",
            "/content/drive/MyDrive/Colab Notebooks/FibreAnalysis/Data/Prepared/Set/masks/test/mask_2023-07-24_19-39-41-565909_1.png\n"
          ]
        },
        {
          "name": "stderr",
          "output_type": "stream",
          "text": [
            "/usr/local/lib/python3.10/dist-packages/transformers/modeling_utils.py:874: FutureWarning: The `device` argument is deprecated and will be removed in v5 of Transformers.\n",
            "  warnings.warn(\n",
            "/usr/local/lib/python3.10/dist-packages/torch/utils/checkpoint.py:31: UserWarning: None of the inputs have requires_grad=True. Gradients will be None\n",
            "  warnings.warn(\"None of the inputs have requires_grad=True. Gradients will be None\")\n",
            "\n",
            "image 1/1 /content/drive/MyDrive/Colab Notebooks/FibreAnalysis/Data/Prepared/Set/images/test/image_2023-07-24_19-40-51-949894_1.png: 448x640 4 fibres, 29.9ms\n",
            "Speed: 2.9ms preprocess, 29.9ms inference, 2.8ms postprocess per image at shape (1, 3, 448, 640)\n"
          ]
        },
        {
          "name": "stdout",
          "output_type": "stream",
          "text": [
            "loop 65\n",
            "/content/drive/MyDrive/Colab Notebooks/FibreAnalysis/Data/Prepared/Set/images/test/image_2023-07-24_19-40-51-949894_1.png\n",
            "/content/drive/MyDrive/Colab Notebooks/FibreAnalysis/Data/Prepared/Set/masks/test/mask_2023-07-24_19-40-51-949894_1.png\n"
          ]
        },
        {
          "name": "stderr",
          "output_type": "stream",
          "text": [
            "/usr/local/lib/python3.10/dist-packages/transformers/modeling_utils.py:874: FutureWarning: The `device` argument is deprecated and will be removed in v5 of Transformers.\n",
            "  warnings.warn(\n",
            "/usr/local/lib/python3.10/dist-packages/torch/utils/checkpoint.py:31: UserWarning: None of the inputs have requires_grad=True. Gradients will be None\n",
            "  warnings.warn(\"None of the inputs have requires_grad=True. Gradients will be None\")\n",
            "\n",
            "image 1/1 /content/drive/MyDrive/Colab Notebooks/FibreAnalysis/Data/Prepared/Set/images/test/image_2023-07-24_19-40-51-949894_2.png: 448x640 3 fibres, 28.8ms\n",
            "Speed: 3.2ms preprocess, 28.8ms inference, 3.4ms postprocess per image at shape (1, 3, 448, 640)\n"
          ]
        },
        {
          "name": "stdout",
          "output_type": "stream",
          "text": [
            "loop 66\n",
            "/content/drive/MyDrive/Colab Notebooks/FibreAnalysis/Data/Prepared/Set/images/test/image_2023-07-24_19-40-51-949894_2.png\n",
            "/content/drive/MyDrive/Colab Notebooks/FibreAnalysis/Data/Prepared/Set/masks/test/mask_2023-07-24_19-40-51-949894_2.png\n"
          ]
        },
        {
          "name": "stderr",
          "output_type": "stream",
          "text": [
            "/usr/local/lib/python3.10/dist-packages/transformers/modeling_utils.py:874: FutureWarning: The `device` argument is deprecated and will be removed in v5 of Transformers.\n",
            "  warnings.warn(\n",
            "/usr/local/lib/python3.10/dist-packages/torch/utils/checkpoint.py:31: UserWarning: None of the inputs have requires_grad=True. Gradients will be None\n",
            "  warnings.warn(\"None of the inputs have requires_grad=True. Gradients will be None\")\n",
            "\n",
            "image 1/1 /content/drive/MyDrive/Colab Notebooks/FibreAnalysis/Data/Prepared/Set/images/test/image_2023-07-24_19-38-37-500204_1.png: 640x544 9 fibres, 36.1ms\n",
            "Speed: 2.7ms preprocess, 36.1ms inference, 2.1ms postprocess per image at shape (1, 3, 640, 544)\n"
          ]
        },
        {
          "name": "stdout",
          "output_type": "stream",
          "text": [
            "loop 67\n",
            "/content/drive/MyDrive/Colab Notebooks/FibreAnalysis/Data/Prepared/Set/images/test/image_2023-07-24_19-38-37-500204_1.png\n",
            "/content/drive/MyDrive/Colab Notebooks/FibreAnalysis/Data/Prepared/Set/masks/test/mask_2023-07-24_19-38-37-500204_1.png\n"
          ]
        },
        {
          "name": "stderr",
          "output_type": "stream",
          "text": [
            "/usr/local/lib/python3.10/dist-packages/transformers/modeling_utils.py:874: FutureWarning: The `device` argument is deprecated and will be removed in v5 of Transformers.\n",
            "  warnings.warn(\n",
            "/usr/local/lib/python3.10/dist-packages/torch/utils/checkpoint.py:31: UserWarning: None of the inputs have requires_grad=True. Gradients will be None\n",
            "  warnings.warn(\"None of the inputs have requires_grad=True. Gradients will be None\")\n"
          ]
        },
        {
          "name": "stdout",
          "output_type": "stream",
          "text": [
            "loop 68\n",
            "/content/drive/MyDrive/Colab Notebooks/FibreAnalysis/Data/Prepared/Set/images/test/image_2023-07-24_19-39-15-361591_2.png\n",
            "/content/drive/MyDrive/Colab Notebooks/FibreAnalysis/Data/Prepared/Set/masks/test/mask_2023-07-24_19-39-15-361591_2.png\n"
          ]
        },
        {
          "name": "stderr",
          "output_type": "stream",
          "text": [
            "\n",
            "image 1/1 /content/drive/MyDrive/Colab Notebooks/FibreAnalysis/Data/Prepared/Set/images/test/image_2023-07-24_19-39-15-361591_2.png: 448x640 3 fibres, 27.7ms\n",
            "Speed: 2.3ms preprocess, 27.7ms inference, 2.2ms postprocess per image at shape (1, 3, 448, 640)\n",
            "/usr/local/lib/python3.10/dist-packages/transformers/modeling_utils.py:874: FutureWarning: The `device` argument is deprecated and will be removed in v5 of Transformers.\n",
            "  warnings.warn(\n",
            "/usr/local/lib/python3.10/dist-packages/torch/utils/checkpoint.py:31: UserWarning: None of the inputs have requires_grad=True. Gradients will be None\n",
            "  warnings.warn(\"None of the inputs have requires_grad=True. Gradients will be None\")\n"
          ]
        },
        {
          "name": "stdout",
          "output_type": "stream",
          "text": [
            "loop 69\n",
            "/content/drive/MyDrive/Colab Notebooks/FibreAnalysis/Data/Prepared/Set/images/test/image_2023-07-24_19-40-51-427304_1.png\n",
            "/content/drive/MyDrive/Colab Notebooks/FibreAnalysis/Data/Prepared/Set/masks/test/mask_2023-07-24_19-40-51-427304_1.png\n"
          ]
        },
        {
          "name": "stderr",
          "output_type": "stream",
          "text": [
            "\n",
            "image 1/1 /content/drive/MyDrive/Colab Notebooks/FibreAnalysis/Data/Prepared/Set/images/test/image_2023-07-24_19-40-51-427304_1.png: 640x544 10 fibres, 36.7ms\n",
            "Speed: 3.9ms preprocess, 36.7ms inference, 3.4ms postprocess per image at shape (1, 3, 640, 544)\n",
            "/usr/local/lib/python3.10/dist-packages/transformers/modeling_utils.py:874: FutureWarning: The `device` argument is deprecated and will be removed in v5 of Transformers.\n",
            "  warnings.warn(\n",
            "/usr/local/lib/python3.10/dist-packages/torch/utils/checkpoint.py:31: UserWarning: None of the inputs have requires_grad=True. Gradients will be None\n",
            "  warnings.warn(\"None of the inputs have requires_grad=True. Gradients will be None\")\n"
          ]
        },
        {
          "name": "stdout",
          "output_type": "stream",
          "text": [
            "loop 70\n",
            "/content/drive/MyDrive/Colab Notebooks/FibreAnalysis/Data/Prepared/Set/images/test/image_2023-07-24_19-39-20-804259_2.png\n",
            "/content/drive/MyDrive/Colab Notebooks/FibreAnalysis/Data/Prepared/Set/masks/test/mask_2023-07-24_19-39-20-804259_2.png\n"
          ]
        },
        {
          "name": "stderr",
          "output_type": "stream",
          "text": [
            "\n",
            "image 1/1 /content/drive/MyDrive/Colab Notebooks/FibreAnalysis/Data/Prepared/Set/images/test/image_2023-07-24_19-39-20-804259_2.png: 448x640 5 fibres, 32.2ms\n",
            "Speed: 2.4ms preprocess, 32.2ms inference, 3.0ms postprocess per image at shape (1, 3, 448, 640)\n",
            "/usr/local/lib/python3.10/dist-packages/transformers/modeling_utils.py:874: FutureWarning: The `device` argument is deprecated and will be removed in v5 of Transformers.\n",
            "  warnings.warn(\n",
            "/usr/local/lib/python3.10/dist-packages/torch/utils/checkpoint.py:31: UserWarning: None of the inputs have requires_grad=True. Gradients will be None\n",
            "  warnings.warn(\"None of the inputs have requires_grad=True. Gradients will be None\")\n"
          ]
        },
        {
          "name": "stdout",
          "output_type": "stream",
          "text": [
            "loop 71\n",
            "/content/drive/MyDrive/Colab Notebooks/FibreAnalysis/Data/Prepared/Set/images/test/image_2023-07-24_19-39-10-212718_1.png\n",
            "/content/drive/MyDrive/Colab Notebooks/FibreAnalysis/Data/Prepared/Set/masks/test/mask_2023-07-24_19-39-10-212718_1.png\n"
          ]
        },
        {
          "name": "stderr",
          "output_type": "stream",
          "text": [
            "\n",
            "image 1/1 /content/drive/MyDrive/Colab Notebooks/FibreAnalysis/Data/Prepared/Set/images/test/image_2023-07-24_19-39-10-212718_1.png: 640x512 9 fibres, 30.9ms\n",
            "Speed: 3.6ms preprocess, 30.9ms inference, 2.9ms postprocess per image at shape (1, 3, 640, 512)\n",
            "/usr/local/lib/python3.10/dist-packages/transformers/modeling_utils.py:874: FutureWarning: The `device` argument is deprecated and will be removed in v5 of Transformers.\n",
            "  warnings.warn(\n",
            "/usr/local/lib/python3.10/dist-packages/torch/utils/checkpoint.py:31: UserWarning: None of the inputs have requires_grad=True. Gradients will be None\n",
            "  warnings.warn(\"None of the inputs have requires_grad=True. Gradients will be None\")\n",
            "\n",
            "image 1/1 /content/drive/MyDrive/Colab Notebooks/FibreAnalysis/Data/Prepared/Set/images/test/image_2023-07-24_19-41-24-054209_1.png: 640x544 5 fibres, 41.1ms\n",
            "Speed: 4.2ms preprocess, 41.1ms inference, 3.5ms postprocess per image at shape (1, 3, 640, 544)\n"
          ]
        },
        {
          "name": "stdout",
          "output_type": "stream",
          "text": [
            "loop 72\n",
            "/content/drive/MyDrive/Colab Notebooks/FibreAnalysis/Data/Prepared/Set/images/test/image_2023-07-24_19-41-24-054209_1.png\n",
            "/content/drive/MyDrive/Colab Notebooks/FibreAnalysis/Data/Prepared/Set/masks/test/mask_2023-07-24_19-41-24-054209_1.png\n"
          ]
        },
        {
          "name": "stderr",
          "output_type": "stream",
          "text": [
            "/usr/local/lib/python3.10/dist-packages/transformers/modeling_utils.py:874: FutureWarning: The `device` argument is deprecated and will be removed in v5 of Transformers.\n",
            "  warnings.warn(\n",
            "/usr/local/lib/python3.10/dist-packages/torch/utils/checkpoint.py:31: UserWarning: None of the inputs have requires_grad=True. Gradients will be None\n",
            "  warnings.warn(\"None of the inputs have requires_grad=True. Gradients will be None\")\n"
          ]
        },
        {
          "name": "stdout",
          "output_type": "stream",
          "text": [
            "loop 73\n",
            "/content/drive/MyDrive/Colab Notebooks/FibreAnalysis/Data/Prepared/Set/images/test/image_2023-07-24_19-39-57-881380_1.png\n",
            "/content/drive/MyDrive/Colab Notebooks/FibreAnalysis/Data/Prepared/Set/masks/test/mask_2023-07-24_19-39-57-881380_1.png\n"
          ]
        },
        {
          "name": "stderr",
          "output_type": "stream",
          "text": [
            "\n",
            "image 1/1 /content/drive/MyDrive/Colab Notebooks/FibreAnalysis/Data/Prepared/Set/images/test/image_2023-07-24_19-39-57-881380_1.png: 640x480 4 fibres, 27.9ms\n",
            "Speed: 2.6ms preprocess, 27.9ms inference, 2.0ms postprocess per image at shape (1, 3, 640, 480)\n",
            "/usr/local/lib/python3.10/dist-packages/transformers/modeling_utils.py:874: FutureWarning: The `device` argument is deprecated and will be removed in v5 of Transformers.\n",
            "  warnings.warn(\n",
            "/usr/local/lib/python3.10/dist-packages/torch/utils/checkpoint.py:31: UserWarning: None of the inputs have requires_grad=True. Gradients will be None\n",
            "  warnings.warn(\"None of the inputs have requires_grad=True. Gradients will be None\")\n",
            "\n",
            "image 1/1 /content/drive/MyDrive/Colab Notebooks/FibreAnalysis/Data/Prepared/Set/images/test/image_2023-07-24_19-38-43-137294_2.png: 448x640 3 fibres, 28.0ms\n",
            "Speed: 2.2ms preprocess, 28.0ms inference, 2.0ms postprocess per image at shape (1, 3, 448, 640)\n"
          ]
        },
        {
          "name": "stdout",
          "output_type": "stream",
          "text": [
            "loop 74\n",
            "/content/drive/MyDrive/Colab Notebooks/FibreAnalysis/Data/Prepared/Set/images/test/image_2023-07-24_19-38-43-137294_2.png\n",
            "/content/drive/MyDrive/Colab Notebooks/FibreAnalysis/Data/Prepared/Set/masks/test/mask_2023-07-24_19-38-43-137294_2.png\n"
          ]
        },
        {
          "name": "stderr",
          "output_type": "stream",
          "text": [
            "/usr/local/lib/python3.10/dist-packages/transformers/modeling_utils.py:874: FutureWarning: The `device` argument is deprecated and will be removed in v5 of Transformers.\n",
            "  warnings.warn(\n",
            "/usr/local/lib/python3.10/dist-packages/torch/utils/checkpoint.py:31: UserWarning: None of the inputs have requires_grad=True. Gradients will be None\n",
            "  warnings.warn(\"None of the inputs have requires_grad=True. Gradients will be None\")\n",
            "\n",
            "image 1/1 /content/drive/MyDrive/Colab Notebooks/FibreAnalysis/Data/Prepared/Set/images/test/image_2023-07-24_19-41-23-671579_1.png: 448x640 2 fibres, 27.7ms\n",
            "Speed: 3.2ms preprocess, 27.7ms inference, 3.5ms postprocess per image at shape (1, 3, 448, 640)\n"
          ]
        },
        {
          "name": "stdout",
          "output_type": "stream",
          "text": [
            "loop 75\n",
            "/content/drive/MyDrive/Colab Notebooks/FibreAnalysis/Data/Prepared/Set/images/test/image_2023-07-24_19-41-23-671579_1.png\n",
            "/content/drive/MyDrive/Colab Notebooks/FibreAnalysis/Data/Prepared/Set/masks/test/mask_2023-07-24_19-41-23-671579_1.png\n"
          ]
        },
        {
          "name": "stderr",
          "output_type": "stream",
          "text": [
            "/usr/local/lib/python3.10/dist-packages/transformers/modeling_utils.py:874: FutureWarning: The `device` argument is deprecated and will be removed in v5 of Transformers.\n",
            "  warnings.warn(\n",
            "/usr/local/lib/python3.10/dist-packages/torch/utils/checkpoint.py:31: UserWarning: None of the inputs have requires_grad=True. Gradients will be None\n",
            "  warnings.warn(\"None of the inputs have requires_grad=True. Gradients will be None\")\n"
          ]
        },
        {
          "name": "stdout",
          "output_type": "stream",
          "text": [
            "loop 76\n",
            "/content/drive/MyDrive/Colab Notebooks/FibreAnalysis/Data/Prepared/Set/images/test/image_2023-07-24_19-38-48-148395_1.png\n",
            "/content/drive/MyDrive/Colab Notebooks/FibreAnalysis/Data/Prepared/Set/masks/test/mask_2023-07-24_19-38-48-148395_1.png\n"
          ]
        },
        {
          "name": "stderr",
          "output_type": "stream",
          "text": [
            "\n",
            "image 1/1 /content/drive/MyDrive/Colab Notebooks/FibreAnalysis/Data/Prepared/Set/images/test/image_2023-07-24_19-38-48-148395_1.png: 640x480 3 fibres, 27.6ms\n",
            "Speed: 2.7ms preprocess, 27.6ms inference, 2.6ms postprocess per image at shape (1, 3, 640, 480)\n",
            "/usr/local/lib/python3.10/dist-packages/transformers/modeling_utils.py:874: FutureWarning: The `device` argument is deprecated and will be removed in v5 of Transformers.\n",
            "  warnings.warn(\n",
            "/usr/local/lib/python3.10/dist-packages/torch/utils/checkpoint.py:31: UserWarning: None of the inputs have requires_grad=True. Gradients will be None\n",
            "  warnings.warn(\"None of the inputs have requires_grad=True. Gradients will be None\")\n"
          ]
        },
        {
          "name": "stdout",
          "output_type": "stream",
          "text": [
            "loop 77\n",
            "/content/drive/MyDrive/Colab Notebooks/FibreAnalysis/Data/Prepared/Set/images/test/image_2023-07-24_19-38-42-627072_1.png\n",
            "/content/drive/MyDrive/Colab Notebooks/FibreAnalysis/Data/Prepared/Set/masks/test/mask_2023-07-24_19-38-42-627072_1.png\n"
          ]
        },
        {
          "name": "stderr",
          "output_type": "stream",
          "text": [
            "\n",
            "image 1/1 /content/drive/MyDrive/Colab Notebooks/FibreAnalysis/Data/Prepared/Set/images/test/image_2023-07-24_19-38-42-627072_1.png: 640x480 11 fibres, 29.8ms\n",
            "Speed: 3.6ms preprocess, 29.8ms inference, 3.2ms postprocess per image at shape (1, 3, 640, 480)\n",
            "/usr/local/lib/python3.10/dist-packages/transformers/modeling_utils.py:874: FutureWarning: The `device` argument is deprecated and will be removed in v5 of Transformers.\n",
            "  warnings.warn(\n",
            "/usr/local/lib/python3.10/dist-packages/torch/utils/checkpoint.py:31: UserWarning: None of the inputs have requires_grad=True. Gradients will be None\n",
            "  warnings.warn(\"None of the inputs have requires_grad=True. Gradients will be None\")\n"
          ]
        },
        {
          "name": "stdout",
          "output_type": "stream",
          "text": [
            "loop 78\n",
            "/content/drive/MyDrive/Colab Notebooks/FibreAnalysis/Data/Prepared/Set/images/test/image_2023-07-24_19-38-53-060878_1.png\n",
            "/content/drive/MyDrive/Colab Notebooks/FibreAnalysis/Data/Prepared/Set/masks/test/mask_2023-07-24_19-38-53-060878_1.png\n"
          ]
        },
        {
          "name": "stderr",
          "output_type": "stream",
          "text": [
            "\n",
            "image 1/1 /content/drive/MyDrive/Colab Notebooks/FibreAnalysis/Data/Prepared/Set/images/test/image_2023-07-24_19-38-53-060878_1.png: 448x640 10 fibres, 28.6ms\n",
            "Speed: 2.4ms preprocess, 28.6ms inference, 2.2ms postprocess per image at shape (1, 3, 448, 640)\n",
            "/usr/local/lib/python3.10/dist-packages/transformers/modeling_utils.py:874: FutureWarning: The `device` argument is deprecated and will be removed in v5 of Transformers.\n",
            "  warnings.warn(\n",
            "/usr/local/lib/python3.10/dist-packages/torch/utils/checkpoint.py:31: UserWarning: None of the inputs have requires_grad=True. Gradients will be None\n",
            "  warnings.warn(\"None of the inputs have requires_grad=True. Gradients will be None\")\n",
            "\n",
            "image 1/1 /content/drive/MyDrive/Colab Notebooks/FibreAnalysis/Data/Prepared/Set/images/test/image_2023-07-24_19-41-29-016786_1.png: 640x544 7 fibres, 34.9ms\n",
            "Speed: 4.4ms preprocess, 34.9ms inference, 3.6ms postprocess per image at shape (1, 3, 640, 544)\n"
          ]
        },
        {
          "name": "stdout",
          "output_type": "stream",
          "text": [
            "loop 79\n",
            "/content/drive/MyDrive/Colab Notebooks/FibreAnalysis/Data/Prepared/Set/images/test/image_2023-07-24_19-41-29-016786_1.png\n",
            "/content/drive/MyDrive/Colab Notebooks/FibreAnalysis/Data/Prepared/Set/masks/test/mask_2023-07-24_19-41-29-016786_1.png\n"
          ]
        },
        {
          "name": "stderr",
          "output_type": "stream",
          "text": [
            "/usr/local/lib/python3.10/dist-packages/transformers/modeling_utils.py:874: FutureWarning: The `device` argument is deprecated and will be removed in v5 of Transformers.\n",
            "  warnings.warn(\n",
            "/usr/local/lib/python3.10/dist-packages/torch/utils/checkpoint.py:31: UserWarning: None of the inputs have requires_grad=True. Gradients will be None\n",
            "  warnings.warn(\"None of the inputs have requires_grad=True. Gradients will be None\")\n",
            "\n",
            "image 1/1 /content/drive/MyDrive/Colab Notebooks/FibreAnalysis/Data/Prepared/Set/images/test/image_2023-07-24_19-41-02-161439_1.png: 448x640 5 fibres, 29.3ms\n",
            "Speed: 2.2ms preprocess, 29.3ms inference, 2.1ms postprocess per image at shape (1, 3, 448, 640)\n"
          ]
        },
        {
          "name": "stdout",
          "output_type": "stream",
          "text": [
            "loop 80\n",
            "/content/drive/MyDrive/Colab Notebooks/FibreAnalysis/Data/Prepared/Set/images/test/image_2023-07-24_19-41-02-161439_1.png\n",
            "/content/drive/MyDrive/Colab Notebooks/FibreAnalysis/Data/Prepared/Set/masks/test/mask_2023-07-24_19-41-02-161439_1.png\n"
          ]
        },
        {
          "name": "stderr",
          "output_type": "stream",
          "text": [
            "/usr/local/lib/python3.10/dist-packages/transformers/modeling_utils.py:874: FutureWarning: The `device` argument is deprecated and will be removed in v5 of Transformers.\n",
            "  warnings.warn(\n",
            "/usr/local/lib/python3.10/dist-packages/torch/utils/checkpoint.py:31: UserWarning: None of the inputs have requires_grad=True. Gradients will be None\n",
            "  warnings.warn(\"None of the inputs have requires_grad=True. Gradients will be None\")\n",
            "\n",
            "image 1/1 /content/drive/MyDrive/Colab Notebooks/FibreAnalysis/Data/Prepared/Set/images/test/image_2023-07-24_19-40-34-969615_2.png: 448x640 4 fibres, 28.1ms\n",
            "Speed: 3.4ms preprocess, 28.1ms inference, 3.7ms postprocess per image at shape (1, 3, 448, 640)\n"
          ]
        },
        {
          "name": "stdout",
          "output_type": "stream",
          "text": [
            "loop 81\n",
            "/content/drive/MyDrive/Colab Notebooks/FibreAnalysis/Data/Prepared/Set/images/test/image_2023-07-24_19-40-34-969615_2.png\n",
            "/content/drive/MyDrive/Colab Notebooks/FibreAnalysis/Data/Prepared/Set/masks/test/mask_2023-07-24_19-40-34-969615_2.png\n"
          ]
        },
        {
          "name": "stderr",
          "output_type": "stream",
          "text": [
            "/usr/local/lib/python3.10/dist-packages/transformers/modeling_utils.py:874: FutureWarning: The `device` argument is deprecated and will be removed in v5 of Transformers.\n",
            "  warnings.warn(\n",
            "/usr/local/lib/python3.10/dist-packages/torch/utils/checkpoint.py:31: UserWarning: None of the inputs have requires_grad=True. Gradients will be None\n",
            "  warnings.warn(\"None of the inputs have requires_grad=True. Gradients will be None\")\n"
          ]
        },
        {
          "name": "stdout",
          "output_type": "stream",
          "text": [
            "loop 82\n",
            "/content/drive/MyDrive/Colab Notebooks/FibreAnalysis/Data/Prepared/Set/images/test/image_2023-07-24_19-39-37-095312_2.png\n",
            "/content/drive/MyDrive/Colab Notebooks/FibreAnalysis/Data/Prepared/Set/masks/test/mask_2023-07-24_19-39-37-095312_2.png\n"
          ]
        },
        {
          "name": "stderr",
          "output_type": "stream",
          "text": [
            "\n",
            "image 1/1 /content/drive/MyDrive/Colab Notebooks/FibreAnalysis/Data/Prepared/Set/images/test/image_2023-07-24_19-39-37-095312_2.png: 448x640 3 fibres, 27.8ms\n",
            "Speed: 2.3ms preprocess, 27.8ms inference, 4.8ms postprocess per image at shape (1, 3, 448, 640)\n",
            "/usr/local/lib/python3.10/dist-packages/transformers/modeling_utils.py:874: FutureWarning: The `device` argument is deprecated and will be removed in v5 of Transformers.\n",
            "  warnings.warn(\n",
            "/usr/local/lib/python3.10/dist-packages/torch/utils/checkpoint.py:31: UserWarning: None of the inputs have requires_grad=True. Gradients will be None\n",
            "  warnings.warn(\"None of the inputs have requires_grad=True. Gradients will be None\")\n",
            "\n",
            "image 1/1 /content/drive/MyDrive/Colab Notebooks/FibreAnalysis/Data/Prepared/Set/images/test/image_2023-07-24_19-39-20-998990_1.png: 448x640 3 fibres, 29.3ms\n",
            "Speed: 3.2ms preprocess, 29.3ms inference, 3.2ms postprocess per image at shape (1, 3, 448, 640)\n"
          ]
        },
        {
          "name": "stdout",
          "output_type": "stream",
          "text": [
            "loop 83\n",
            "/content/drive/MyDrive/Colab Notebooks/FibreAnalysis/Data/Prepared/Set/images/test/image_2023-07-24_19-39-20-998990_1.png\n",
            "/content/drive/MyDrive/Colab Notebooks/FibreAnalysis/Data/Prepared/Set/masks/test/mask_2023-07-24_19-39-20-998990_1.png\n"
          ]
        },
        {
          "name": "stderr",
          "output_type": "stream",
          "text": [
            "/usr/local/lib/python3.10/dist-packages/transformers/modeling_utils.py:874: FutureWarning: The `device` argument is deprecated and will be removed in v5 of Transformers.\n",
            "  warnings.warn(\n",
            "/usr/local/lib/python3.10/dist-packages/torch/utils/checkpoint.py:31: UserWarning: None of the inputs have requires_grad=True. Gradients will be None\n",
            "  warnings.warn(\"None of the inputs have requires_grad=True. Gradients will be None\")\n"
          ]
        },
        {
          "name": "stdout",
          "output_type": "stream",
          "text": [
            "loop 84\n",
            "/content/drive/MyDrive/Colab Notebooks/FibreAnalysis/Data/Prepared/Set/images/test/image_2023-07-24_19-40-30-507281_1.png\n",
            "/content/drive/MyDrive/Colab Notebooks/FibreAnalysis/Data/Prepared/Set/masks/test/mask_2023-07-24_19-40-30-507281_1.png\n"
          ]
        },
        {
          "name": "stderr",
          "output_type": "stream",
          "text": [
            "\n",
            "image 1/1 /content/drive/MyDrive/Colab Notebooks/FibreAnalysis/Data/Prepared/Set/images/test/image_2023-07-24_19-40-30-507281_1.png: 448x640 4 fibres, 27.7ms\n",
            "Speed: 3.3ms preprocess, 27.7ms inference, 3.3ms postprocess per image at shape (1, 3, 448, 640)\n",
            "/usr/local/lib/python3.10/dist-packages/transformers/modeling_utils.py:874: FutureWarning: The `device` argument is deprecated and will be removed in v5 of Transformers.\n",
            "  warnings.warn(\n",
            "/usr/local/lib/python3.10/dist-packages/torch/utils/checkpoint.py:31: UserWarning: None of the inputs have requires_grad=True. Gradients will be None\n",
            "  warnings.warn(\"None of the inputs have requires_grad=True. Gradients will be None\")\n"
          ]
        },
        {
          "name": "stdout",
          "output_type": "stream",
          "text": [
            "loop 85\n",
            "/content/drive/MyDrive/Colab Notebooks/FibreAnalysis/Data/Prepared/Set/images/test/image_2023-07-24_19-39-15-152716_1.png\n",
            "/content/drive/MyDrive/Colab Notebooks/FibreAnalysis/Data/Prepared/Set/masks/test/mask_2023-07-24_19-39-15-152716_1.png\n"
          ]
        },
        {
          "name": "stderr",
          "output_type": "stream",
          "text": [
            "\n",
            "image 1/1 /content/drive/MyDrive/Colab Notebooks/FibreAnalysis/Data/Prepared/Set/images/test/image_2023-07-24_19-39-15-152716_1.png: 448x640 13 fibres, 30.7ms\n",
            "Speed: 2.3ms preprocess, 30.7ms inference, 2.6ms postprocess per image at shape (1, 3, 448, 640)\n",
            "/usr/local/lib/python3.10/dist-packages/transformers/modeling_utils.py:874: FutureWarning: The `device` argument is deprecated and will be removed in v5 of Transformers.\n",
            "  warnings.warn(\n",
            "/usr/local/lib/python3.10/dist-packages/torch/utils/checkpoint.py:31: UserWarning: None of the inputs have requires_grad=True. Gradients will be None\n",
            "  warnings.warn(\"None of the inputs have requires_grad=True. Gradients will be None\")\n"
          ]
        },
        {
          "name": "stdout",
          "output_type": "stream",
          "text": [
            "loop 86\n",
            "/content/drive/MyDrive/Colab Notebooks/FibreAnalysis/Data/Prepared/Set/images/test/image_2023-07-24_19-39-30-988443_1.png\n",
            "/content/drive/MyDrive/Colab Notebooks/FibreAnalysis/Data/Prepared/Set/masks/test/mask_2023-07-24_19-39-30-988443_1.png\n"
          ]
        },
        {
          "name": "stderr",
          "output_type": "stream",
          "text": [
            "\n",
            "image 1/1 /content/drive/MyDrive/Colab Notebooks/FibreAnalysis/Data/Prepared/Set/images/test/image_2023-07-24_19-39-30-988443_1.png: 640x480 13 fibres, 27.9ms\n",
            "Speed: 2.6ms preprocess, 27.9ms inference, 2.3ms postprocess per image at shape (1, 3, 640, 480)\n",
            "/usr/local/lib/python3.10/dist-packages/transformers/modeling_utils.py:874: FutureWarning: The `device` argument is deprecated and will be removed in v5 of Transformers.\n",
            "  warnings.warn(\n",
            "/usr/local/lib/python3.10/dist-packages/torch/utils/checkpoint.py:31: UserWarning: None of the inputs have requires_grad=True. Gradients will be None\n",
            "  warnings.warn(\"None of the inputs have requires_grad=True. Gradients will be None\")\n",
            "\n",
            "image 1/1 /content/drive/MyDrive/Colab Notebooks/FibreAnalysis/Data/Prepared/Set/images/test/image_2023-07-24_19-40-14-449047_2.png: 448x640 5 fibres, 28.7ms\n",
            "Speed: 2.9ms preprocess, 28.7ms inference, 3.4ms postprocess per image at shape (1, 3, 448, 640)\n"
          ]
        },
        {
          "name": "stdout",
          "output_type": "stream",
          "text": [
            "loop 87\n",
            "/content/drive/MyDrive/Colab Notebooks/FibreAnalysis/Data/Prepared/Set/images/test/image_2023-07-24_19-40-14-449047_2.png\n",
            "/content/drive/MyDrive/Colab Notebooks/FibreAnalysis/Data/Prepared/Set/masks/test/mask_2023-07-24_19-40-14-449047_2.png\n"
          ]
        },
        {
          "name": "stderr",
          "output_type": "stream",
          "text": [
            "/usr/local/lib/python3.10/dist-packages/transformers/modeling_utils.py:874: FutureWarning: The `device` argument is deprecated and will be removed in v5 of Transformers.\n",
            "  warnings.warn(\n",
            "/usr/local/lib/python3.10/dist-packages/torch/utils/checkpoint.py:31: UserWarning: None of the inputs have requires_grad=True. Gradients will be None\n",
            "  warnings.warn(\"None of the inputs have requires_grad=True. Gradients will be None\")\n",
            "\n",
            "image 1/1 /content/drive/MyDrive/Colab Notebooks/FibreAnalysis/Data/Prepared/Set/images/test/image_2023-07-24_19-41-50-208736_1.png: 448x640 (no detections), 28.8ms\n",
            "Speed: 2.7ms preprocess, 28.8ms inference, 0.8ms postprocess per image at shape (1, 3, 448, 640)\n"
          ]
        },
        {
          "name": "stdout",
          "output_type": "stream",
          "text": [
            "loop 88\n",
            "/content/drive/MyDrive/Colab Notebooks/FibreAnalysis/Data/Prepared/Set/images/test/image_2023-07-24_19-41-50-208736_1.png\n",
            "/content/drive/MyDrive/Colab Notebooks/FibreAnalysis/Data/Prepared/Set/masks/test/mask_2023-07-24_19-41-50-208736_1.png\n",
            "An error occurred: 'NoneType' object has no attribute 'data' /content/drive/MyDrive/Colab Notebooks/FibreAnalysis/Data/Prepared/Set/images/test/image_2023-07-24_19-41-50-208736_1.png\n",
            "loop 89\n",
            "/content/drive/MyDrive/Colab Notebooks/FibreAnalysis/Data/Prepared/Set/images/test/image_2023-07-24_19-40-08-690464_2.png\n",
            "/content/drive/MyDrive/Colab Notebooks/FibreAnalysis/Data/Prepared/Set/masks/test/mask_2023-07-24_19-40-08-690464_2.png\n"
          ]
        },
        {
          "name": "stderr",
          "output_type": "stream",
          "text": [
            "\n",
            "image 1/1 /content/drive/MyDrive/Colab Notebooks/FibreAnalysis/Data/Prepared/Set/images/test/image_2023-07-24_19-40-08-690464_2.png: 448x640 4 fibres, 27.6ms\n",
            "Speed: 2.3ms preprocess, 27.6ms inference, 2.1ms postprocess per image at shape (1, 3, 448, 640)\n",
            "/usr/local/lib/python3.10/dist-packages/transformers/modeling_utils.py:874: FutureWarning: The `device` argument is deprecated and will be removed in v5 of Transformers.\n",
            "  warnings.warn(\n",
            "/usr/local/lib/python3.10/dist-packages/torch/utils/checkpoint.py:31: UserWarning: None of the inputs have requires_grad=True. Gradients will be None\n",
            "  warnings.warn(\"None of the inputs have requires_grad=True. Gradients will be None\")\n"
          ]
        },
        {
          "name": "stdout",
          "output_type": "stream",
          "text": [
            "loop 90\n",
            "/content/drive/MyDrive/Colab Notebooks/FibreAnalysis/Data/Prepared/Set/images/test/image_2023-07-24_19-41-29-375804_1.png\n",
            "/content/drive/MyDrive/Colab Notebooks/FibreAnalysis/Data/Prepared/Set/masks/test/mask_2023-07-24_19-41-29-375804_1.png\n"
          ]
        },
        {
          "name": "stderr",
          "output_type": "stream",
          "text": [
            "\n",
            "image 1/1 /content/drive/MyDrive/Colab Notebooks/FibreAnalysis/Data/Prepared/Set/images/test/image_2023-07-24_19-41-29-375804_1.png: 448x640 4 fibres, 27.0ms\n",
            "Speed: 3.0ms preprocess, 27.0ms inference, 2.9ms postprocess per image at shape (1, 3, 448, 640)\n",
            "/usr/local/lib/python3.10/dist-packages/transformers/modeling_utils.py:874: FutureWarning: The `device` argument is deprecated and will be removed in v5 of Transformers.\n",
            "  warnings.warn(\n",
            "/usr/local/lib/python3.10/dist-packages/torch/utils/checkpoint.py:31: UserWarning: None of the inputs have requires_grad=True. Gradients will be None\n",
            "  warnings.warn(\"None of the inputs have requires_grad=True. Gradients will be None\")\n",
            "\n",
            "image 1/1 /content/drive/MyDrive/Colab Notebooks/FibreAnalysis/Data/Prepared/Set/images/test/image_2023-07-24_19-41-02-512298_1.png: 640x544 10 fibres, 36.7ms\n",
            "Speed: 3.9ms preprocess, 36.7ms inference, 3.0ms postprocess per image at shape (1, 3, 640, 544)\n"
          ]
        },
        {
          "name": "stdout",
          "output_type": "stream",
          "text": [
            "loop 91\n",
            "/content/drive/MyDrive/Colab Notebooks/FibreAnalysis/Data/Prepared/Set/images/test/image_2023-07-24_19-41-02-512298_1.png\n",
            "/content/drive/MyDrive/Colab Notebooks/FibreAnalysis/Data/Prepared/Set/masks/test/mask_2023-07-24_19-41-02-512298_1.png\n"
          ]
        },
        {
          "name": "stderr",
          "output_type": "stream",
          "text": [
            "/usr/local/lib/python3.10/dist-packages/transformers/modeling_utils.py:874: FutureWarning: The `device` argument is deprecated and will be removed in v5 of Transformers.\n",
            "  warnings.warn(\n",
            "/usr/local/lib/python3.10/dist-packages/torch/utils/checkpoint.py:31: UserWarning: None of the inputs have requires_grad=True. Gradients will be None\n",
            "  warnings.warn(\"None of the inputs have requires_grad=True. Gradients will be None\")\n"
          ]
        },
        {
          "name": "stdout",
          "output_type": "stream",
          "text": [
            "loop 92\n",
            "/content/drive/MyDrive/Colab Notebooks/FibreAnalysis/Data/Prepared/Set/images/test/image_2023-07-24_19-40-14-099111_1.png\n",
            "/content/drive/MyDrive/Colab Notebooks/FibreAnalysis/Data/Prepared/Set/masks/test/mask_2023-07-24_19-40-14-099111_1.png\n"
          ]
        },
        {
          "name": "stderr",
          "output_type": "stream",
          "text": [
            "\n",
            "image 1/1 /content/drive/MyDrive/Colab Notebooks/FibreAnalysis/Data/Prepared/Set/images/test/image_2023-07-24_19-40-14-099111_1.png: 640x480 8 fibres, 28.2ms\n",
            "Speed: 2.5ms preprocess, 28.2ms inference, 2.2ms postprocess per image at shape (1, 3, 640, 480)\n",
            "/usr/local/lib/python3.10/dist-packages/transformers/modeling_utils.py:874: FutureWarning: The `device` argument is deprecated and will be removed in v5 of Transformers.\n",
            "  warnings.warn(\n",
            "/usr/local/lib/python3.10/dist-packages/torch/utils/checkpoint.py:31: UserWarning: None of the inputs have requires_grad=True. Gradients will be None\n",
            "  warnings.warn(\"None of the inputs have requires_grad=True. Gradients will be None\")\n",
            "\n",
            "image 1/1 /content/drive/MyDrive/Colab Notebooks/FibreAnalysis/Data/Prepared/Set/images/test/image_2023-07-24_19-41-18-347247_1.png: 448x640 3 fibres, 29.4ms\n",
            "Speed: 2.6ms preprocess, 29.4ms inference, 1.9ms postprocess per image at shape (1, 3, 448, 640)\n"
          ]
        },
        {
          "name": "stdout",
          "output_type": "stream",
          "text": [
            "loop 93\n",
            "/content/drive/MyDrive/Colab Notebooks/FibreAnalysis/Data/Prepared/Set/images/test/image_2023-07-24_19-41-18-347247_1.png\n",
            "/content/drive/MyDrive/Colab Notebooks/FibreAnalysis/Data/Prepared/Set/masks/test/mask_2023-07-24_19-41-18-347247_1.png\n"
          ]
        },
        {
          "name": "stderr",
          "output_type": "stream",
          "text": [
            "/usr/local/lib/python3.10/dist-packages/transformers/modeling_utils.py:874: FutureWarning: The `device` argument is deprecated and will be removed in v5 of Transformers.\n",
            "  warnings.warn(\n",
            "/usr/local/lib/python3.10/dist-packages/torch/utils/checkpoint.py:31: UserWarning: None of the inputs have requires_grad=True. Gradients will be None\n",
            "  warnings.warn(\"None of the inputs have requires_grad=True. Gradients will be None\")\n",
            "\n",
            "image 1/1 /content/drive/MyDrive/Colab Notebooks/FibreAnalysis/Data/Prepared/Set/images/test/image_2023-07-24_19-40-41-293153_2.png: 448x640 3 fibres, 28.6ms\n",
            "Speed: 3.1ms preprocess, 28.6ms inference, 3.5ms postprocess per image at shape (1, 3, 448, 640)\n"
          ]
        },
        {
          "name": "stdout",
          "output_type": "stream",
          "text": [
            "loop 94\n",
            "/content/drive/MyDrive/Colab Notebooks/FibreAnalysis/Data/Prepared/Set/images/test/image_2023-07-24_19-40-41-293153_2.png\n",
            "/content/drive/MyDrive/Colab Notebooks/FibreAnalysis/Data/Prepared/Set/masks/test/mask_2023-07-24_19-40-41-293153_2.png\n"
          ]
        },
        {
          "name": "stderr",
          "output_type": "stream",
          "text": [
            "/usr/local/lib/python3.10/dist-packages/transformers/modeling_utils.py:874: FutureWarning: The `device` argument is deprecated and will be removed in v5 of Transformers.\n",
            "  warnings.warn(\n",
            "/usr/local/lib/python3.10/dist-packages/torch/utils/checkpoint.py:31: UserWarning: None of the inputs have requires_grad=True. Gradients will be None\n",
            "  warnings.warn(\"None of the inputs have requires_grad=True. Gradients will be None\")\n",
            "\n",
            "image 1/1 /content/drive/MyDrive/Colab Notebooks/FibreAnalysis/Data/Prepared/Set/images/test/image_2023-07-24_19-38-58-521579_1.png: 448x640 (no detections), 29.1ms\n",
            "Speed: 2.5ms preprocess, 29.1ms inference, 0.6ms postprocess per image at shape (1, 3, 448, 640)\n",
            "\n",
            "image 1/1 /content/drive/MyDrive/Colab Notebooks/FibreAnalysis/Data/Prepared/Set/images/test/image_2023-07-24_19-39-26-030910_2.png: 448x640 5 fibres, 28.1ms\n",
            "Speed: 2.2ms preprocess, 28.1ms inference, 2.2ms postprocess per image at shape (1, 3, 448, 640)\n"
          ]
        },
        {
          "name": "stdout",
          "output_type": "stream",
          "text": [
            "loop 95\n",
            "/content/drive/MyDrive/Colab Notebooks/FibreAnalysis/Data/Prepared/Set/images/test/image_2023-07-24_19-38-58-521579_1.png\n",
            "/content/drive/MyDrive/Colab Notebooks/FibreAnalysis/Data/Prepared/Set/masks/test/mask_2023-07-24_19-38-58-521579_1.png\n",
            "An error occurred: 'NoneType' object has no attribute 'data' /content/drive/MyDrive/Colab Notebooks/FibreAnalysis/Data/Prepared/Set/images/test/image_2023-07-24_19-38-58-521579_1.png\n",
            "loop 96\n",
            "/content/drive/MyDrive/Colab Notebooks/FibreAnalysis/Data/Prepared/Set/images/test/image_2023-07-24_19-39-26-030910_2.png\n",
            "/content/drive/MyDrive/Colab Notebooks/FibreAnalysis/Data/Prepared/Set/masks/test/mask_2023-07-24_19-39-26-030910_2.png\n"
          ]
        },
        {
          "name": "stderr",
          "output_type": "stream",
          "text": [
            "/usr/local/lib/python3.10/dist-packages/transformers/modeling_utils.py:874: FutureWarning: The `device` argument is deprecated and will be removed in v5 of Transformers.\n",
            "  warnings.warn(\n",
            "/usr/local/lib/python3.10/dist-packages/torch/utils/checkpoint.py:31: UserWarning: None of the inputs have requires_grad=True. Gradients will be None\n",
            "  warnings.warn(\"None of the inputs have requires_grad=True. Gradients will be None\")\n",
            "\n",
            "image 1/1 /content/drive/MyDrive/Colab Notebooks/FibreAnalysis/Data/Prepared/Set/images/test/image_2023-07-24_19-41-45-265345_1.png: 640x480 10 fibres, 28.9ms\n",
            "Speed: 3.7ms preprocess, 28.9ms inference, 2.9ms postprocess per image at shape (1, 3, 640, 480)\n"
          ]
        },
        {
          "name": "stdout",
          "output_type": "stream",
          "text": [
            "loop 97\n",
            "/content/drive/MyDrive/Colab Notebooks/FibreAnalysis/Data/Prepared/Set/images/test/image_2023-07-24_19-41-45-265345_1.png\n",
            "/content/drive/MyDrive/Colab Notebooks/FibreAnalysis/Data/Prepared/Set/masks/test/mask_2023-07-24_19-41-45-265345_1.png\n"
          ]
        },
        {
          "name": "stderr",
          "output_type": "stream",
          "text": [
            "/usr/local/lib/python3.10/dist-packages/transformers/modeling_utils.py:874: FutureWarning: The `device` argument is deprecated and will be removed in v5 of Transformers.\n",
            "  warnings.warn(\n",
            "/usr/local/lib/python3.10/dist-packages/torch/utils/checkpoint.py:31: UserWarning: None of the inputs have requires_grad=True. Gradients will be None\n",
            "  warnings.warn(\"None of the inputs have requires_grad=True. Gradients will be None\")\n"
          ]
        },
        {
          "name": "stdout",
          "output_type": "stream",
          "text": [
            "loop 98\n",
            "/content/drive/MyDrive/Colab Notebooks/FibreAnalysis/Data/Prepared/Set/images/test/image_2023-07-24_19-41-23-463769_1.png\n",
            "/content/drive/MyDrive/Colab Notebooks/FibreAnalysis/Data/Prepared/Set/masks/test/mask_2023-07-24_19-41-23-463769_1.png\n"
          ]
        },
        {
          "name": "stderr",
          "output_type": "stream",
          "text": [
            "\n",
            "image 1/1 /content/drive/MyDrive/Colab Notebooks/FibreAnalysis/Data/Prepared/Set/images/test/image_2023-07-24_19-41-23-463769_1.png: 448x640 3 fibres, 30.7ms\n",
            "Speed: 3.4ms preprocess, 30.7ms inference, 3.5ms postprocess per image at shape (1, 3, 448, 640)\n",
            "/usr/local/lib/python3.10/dist-packages/transformers/modeling_utils.py:874: FutureWarning: The `device` argument is deprecated and will be removed in v5 of Transformers.\n",
            "  warnings.warn(\n",
            "/usr/local/lib/python3.10/dist-packages/torch/utils/checkpoint.py:31: UserWarning: None of the inputs have requires_grad=True. Gradients will be None\n",
            "  warnings.warn(\"None of the inputs have requires_grad=True. Gradients will be None\")\n"
          ]
        },
        {
          "name": "stdout",
          "output_type": "stream",
          "text": [
            "loop 99\n",
            "/content/drive/MyDrive/Colab Notebooks/FibreAnalysis/Data/Prepared/Set/images/test/image_2023-07-24_19-41-23-879998_1.png\n",
            "/content/drive/MyDrive/Colab Notebooks/FibreAnalysis/Data/Prepared/Set/masks/test/mask_2023-07-24_19-41-23-879998_1.png\n"
          ]
        },
        {
          "name": "stderr",
          "output_type": "stream",
          "text": [
            "\n",
            "image 1/1 /content/drive/MyDrive/Colab Notebooks/FibreAnalysis/Data/Prepared/Set/images/test/image_2023-07-24_19-41-23-879998_1.png: 640x480 9 fibres, 28.3ms\n",
            "Speed: 3.5ms preprocess, 28.3ms inference, 2.1ms postprocess per image at shape (1, 3, 640, 480)\n",
            "/usr/local/lib/python3.10/dist-packages/transformers/modeling_utils.py:874: FutureWarning: The `device` argument is deprecated and will be removed in v5 of Transformers.\n",
            "  warnings.warn(\n",
            "/usr/local/lib/python3.10/dist-packages/torch/utils/checkpoint.py:31: UserWarning: None of the inputs have requires_grad=True. Gradients will be None\n",
            "  warnings.warn(\"None of the inputs have requires_grad=True. Gradients will be None\")\n"
          ]
        },
        {
          "name": "stdout",
          "output_type": "stream",
          "text": [
            "loop 100\n",
            "/content/drive/MyDrive/Colab Notebooks/FibreAnalysis/Data/Prepared/Set/images/test/image_2023-07-24_19-41-39-597021_1.png\n",
            "/content/drive/MyDrive/Colab Notebooks/FibreAnalysis/Data/Prepared/Set/masks/test/mask_2023-07-24_19-41-39-597021_1.png\n"
          ]
        },
        {
          "name": "stderr",
          "output_type": "stream",
          "text": [
            "\n",
            "image 1/1 /content/drive/MyDrive/Colab Notebooks/FibreAnalysis/Data/Prepared/Set/images/test/image_2023-07-24_19-41-39-597021_1.png: 640x544 7 fibres, 35.6ms\n",
            "Speed: 3.0ms preprocess, 35.6ms inference, 2.1ms postprocess per image at shape (1, 3, 640, 544)\n",
            "/usr/local/lib/python3.10/dist-packages/transformers/modeling_utils.py:874: FutureWarning: The `device` argument is deprecated and will be removed in v5 of Transformers.\n",
            "  warnings.warn(\n",
            "/usr/local/lib/python3.10/dist-packages/torch/utils/checkpoint.py:31: UserWarning: None of the inputs have requires_grad=True. Gradients will be None\n",
            "  warnings.warn(\"None of the inputs have requires_grad=True. Gradients will be None\")\n",
            "\n",
            "image 1/1 /content/drive/MyDrive/Colab Notebooks/FibreAnalysis/Data/Prepared/Set/images/test/image_2023-07-24_19-39-03-943619_1.png: 640x480 3 fibres, 29.0ms\n",
            "Speed: 2.6ms preprocess, 29.0ms inference, 2.0ms postprocess per image at shape (1, 3, 640, 480)\n"
          ]
        },
        {
          "name": "stdout",
          "output_type": "stream",
          "text": [
            "loop 101\n",
            "/content/drive/MyDrive/Colab Notebooks/FibreAnalysis/Data/Prepared/Set/images/test/image_2023-07-24_19-39-03-943619_1.png\n",
            "/content/drive/MyDrive/Colab Notebooks/FibreAnalysis/Data/Prepared/Set/masks/test/mask_2023-07-24_19-39-03-943619_1.png\n"
          ]
        },
        {
          "name": "stderr",
          "output_type": "stream",
          "text": [
            "/usr/local/lib/python3.10/dist-packages/transformers/modeling_utils.py:874: FutureWarning: The `device` argument is deprecated and will be removed in v5 of Transformers.\n",
            "  warnings.warn(\n",
            "/usr/local/lib/python3.10/dist-packages/torch/utils/checkpoint.py:31: UserWarning: None of the inputs have requires_grad=True. Gradients will be None\n",
            "  warnings.warn(\"None of the inputs have requires_grad=True. Gradients will be None\")\n"
          ]
        },
        {
          "name": "stdout",
          "output_type": "stream",
          "text": [
            "loop 102\n",
            "/content/drive/MyDrive/Colab Notebooks/FibreAnalysis/Data/Prepared/Set/images/test/image_2023-07-24_19-41-34-581087_2.png\n",
            "/content/drive/MyDrive/Colab Notebooks/FibreAnalysis/Data/Prepared/Set/masks/test/mask_2023-07-24_19-41-34-581087_2.png\n"
          ]
        },
        {
          "name": "stderr",
          "output_type": "stream",
          "text": [
            "\n",
            "image 1/1 /content/drive/MyDrive/Colab Notebooks/FibreAnalysis/Data/Prepared/Set/images/test/image_2023-07-24_19-41-34-581087_2.png: 448x640 (no detections), 43.2ms\n",
            "Speed: 3.2ms preprocess, 43.2ms inference, 0.9ms postprocess per image at shape (1, 3, 448, 640)\n"
          ]
        },
        {
          "name": "stdout",
          "output_type": "stream",
          "text": [
            "An error occurred: 'NoneType' object has no attribute 'data' /content/drive/MyDrive/Colab Notebooks/FibreAnalysis/Data/Prepared/Set/images/test/image_2023-07-24_19-41-34-581087_2.png\n",
            "loop 103\n",
            "/content/drive/MyDrive/Colab Notebooks/FibreAnalysis/Data/Prepared/Set/images/test/image_2023-07-24_19-41-18-708210_1.png\n",
            "/content/drive/MyDrive/Colab Notebooks/FibreAnalysis/Data/Prepared/Set/masks/test/mask_2023-07-24_19-41-18-708210_1.png\n"
          ]
        },
        {
          "name": "stderr",
          "output_type": "stream",
          "text": [
            "\n",
            "image 1/1 /content/drive/MyDrive/Colab Notebooks/FibreAnalysis/Data/Prepared/Set/images/test/image_2023-07-24_19-41-18-708210_1.png: 640x544 7 fibres, 34.7ms\n",
            "Speed: 3.8ms preprocess, 34.7ms inference, 2.7ms postprocess per image at shape (1, 3, 640, 544)\n",
            "/usr/local/lib/python3.10/dist-packages/transformers/modeling_utils.py:874: FutureWarning: The `device` argument is deprecated and will be removed in v5 of Transformers.\n",
            "  warnings.warn(\n",
            "/usr/local/lib/python3.10/dist-packages/torch/utils/checkpoint.py:31: UserWarning: None of the inputs have requires_grad=True. Gradients will be None\n",
            "  warnings.warn(\"None of the inputs have requires_grad=True. Gradients will be None\")\n",
            "\n",
            "image 1/1 /content/drive/MyDrive/Colab Notebooks/FibreAnalysis/Data/Prepared/Set/images/test/image_2023-07-24_19-40-29-961064_2.png: 448x640 7 fibres, 29.6ms\n",
            "Speed: 2.2ms preprocess, 29.6ms inference, 2.1ms postprocess per image at shape (1, 3, 448, 640)\n"
          ]
        },
        {
          "name": "stdout",
          "output_type": "stream",
          "text": [
            "loop 104\n",
            "/content/drive/MyDrive/Colab Notebooks/FibreAnalysis/Data/Prepared/Set/images/test/image_2023-07-24_19-40-29-961064_2.png\n",
            "/content/drive/MyDrive/Colab Notebooks/FibreAnalysis/Data/Prepared/Set/masks/test/mask_2023-07-24_19-40-29-961064_2.png\n"
          ]
        },
        {
          "name": "stderr",
          "output_type": "stream",
          "text": [
            "/usr/local/lib/python3.10/dist-packages/transformers/modeling_utils.py:874: FutureWarning: The `device` argument is deprecated and will be removed in v5 of Transformers.\n",
            "  warnings.warn(\n",
            "/usr/local/lib/python3.10/dist-packages/torch/utils/checkpoint.py:31: UserWarning: None of the inputs have requires_grad=True. Gradients will be None\n",
            "  warnings.warn(\"None of the inputs have requires_grad=True. Gradients will be None\")\n",
            "\n",
            "image 1/1 /content/drive/MyDrive/Colab Notebooks/FibreAnalysis/Data/Prepared/Set/images/test/image_2023-07-24_19-38-31-724259_1.png: 448x640 6 fibres, 29.3ms\n",
            "Speed: 2.5ms preprocess, 29.3ms inference, 3.3ms postprocess per image at shape (1, 3, 448, 640)\n"
          ]
        },
        {
          "name": "stdout",
          "output_type": "stream",
          "text": [
            "loop 105\n",
            "/content/drive/MyDrive/Colab Notebooks/FibreAnalysis/Data/Prepared/Set/images/test/image_2023-07-24_19-38-31-724259_1.png\n",
            "/content/drive/MyDrive/Colab Notebooks/FibreAnalysis/Data/Prepared/Set/masks/test/mask_2023-07-24_19-38-31-724259_1.png\n"
          ]
        },
        {
          "name": "stderr",
          "output_type": "stream",
          "text": [
            "/usr/local/lib/python3.10/dist-packages/transformers/modeling_utils.py:874: FutureWarning: The `device` argument is deprecated and will be removed in v5 of Transformers.\n",
            "  warnings.warn(\n",
            "/usr/local/lib/python3.10/dist-packages/torch/utils/checkpoint.py:31: UserWarning: None of the inputs have requires_grad=True. Gradients will be None\n",
            "  warnings.warn(\"None of the inputs have requires_grad=True. Gradients will be None\")\n"
          ]
        },
        {
          "name": "stdout",
          "output_type": "stream",
          "text": [
            "loop 106\n",
            "/content/drive/MyDrive/Colab Notebooks/FibreAnalysis/Data/Prepared/Set/images/test/image_2023-07-24_19-41-01-812856_1.png\n",
            "/content/drive/MyDrive/Colab Notebooks/FibreAnalysis/Data/Prepared/Set/masks/test/mask_2023-07-24_19-41-01-812856_1.png\n"
          ]
        },
        {
          "name": "stderr",
          "output_type": "stream",
          "text": [
            "\n",
            "image 1/1 /content/drive/MyDrive/Colab Notebooks/FibreAnalysis/Data/Prepared/Set/images/test/image_2023-07-24_19-41-01-812856_1.png: 640x544 1 fibre, 35.7ms\n",
            "Speed: 4.1ms preprocess, 35.7ms inference, 2.8ms postprocess per image at shape (1, 3, 640, 544)\n",
            "/usr/local/lib/python3.10/dist-packages/transformers/modeling_utils.py:874: FutureWarning: The `device` argument is deprecated and will be removed in v5 of Transformers.\n",
            "  warnings.warn(\n",
            "/usr/local/lib/python3.10/dist-packages/torch/utils/checkpoint.py:31: UserWarning: None of the inputs have requires_grad=True. Gradients will be None\n",
            "  warnings.warn(\"None of the inputs have requires_grad=True. Gradients will be None\")\n",
            "\n",
            "image 1/1 /content/drive/MyDrive/Colab Notebooks/FibreAnalysis/Data/Prepared/Set/images/test/image_2023-07-24_19-38-42-419032_1.png: 448x640 (no detections), 28.4ms\n",
            "Speed: 2.1ms preprocess, 28.4ms inference, 0.5ms postprocess per image at shape (1, 3, 448, 640)\n"
          ]
        },
        {
          "name": "stdout",
          "output_type": "stream",
          "text": [
            "loop 107\n",
            "/content/drive/MyDrive/Colab Notebooks/FibreAnalysis/Data/Prepared/Set/images/test/image_2023-07-24_19-38-42-419032_1.png\n",
            "/content/drive/MyDrive/Colab Notebooks/FibreAnalysis/Data/Prepared/Set/masks/test/mask_2023-07-24_19-38-42-419032_1.png\n",
            "An error occurred: 'NoneType' object has no attribute 'data' /content/drive/MyDrive/Colab Notebooks/FibreAnalysis/Data/Prepared/Set/images/test/image_2023-07-24_19-38-42-419032_1.png\n",
            "loop 108\n",
            "/content/drive/MyDrive/Colab Notebooks/FibreAnalysis/Data/Prepared/Set/images/test/image_2023-07-24_19-38-37-670571_1.png\n",
            "/content/drive/MyDrive/Colab Notebooks/FibreAnalysis/Data/Prepared/Set/masks/test/mask_2023-07-24_19-38-37-670571_1.png\n"
          ]
        },
        {
          "name": "stderr",
          "output_type": "stream",
          "text": [
            "\n",
            "image 1/1 /content/drive/MyDrive/Colab Notebooks/FibreAnalysis/Data/Prepared/Set/images/test/image_2023-07-24_19-38-37-670571_1.png: 640x544 6 fibres, 34.6ms\n",
            "Speed: 2.8ms preprocess, 34.6ms inference, 2.9ms postprocess per image at shape (1, 3, 640, 544)\n",
            "/usr/local/lib/python3.10/dist-packages/transformers/modeling_utils.py:874: FutureWarning: The `device` argument is deprecated and will be removed in v5 of Transformers.\n",
            "  warnings.warn(\n",
            "/usr/local/lib/python3.10/dist-packages/torch/utils/checkpoint.py:31: UserWarning: None of the inputs have requires_grad=True. Gradients will be None\n",
            "  warnings.warn(\"None of the inputs have requires_grad=True. Gradients will be None\")\n"
          ]
        },
        {
          "name": "stdout",
          "output_type": "stream",
          "text": [
            "loop 109\n",
            "/content/drive/MyDrive/Colab Notebooks/FibreAnalysis/Data/Prepared/Set/images/test/image_2023-07-24_19-39-47-129492_1.png\n",
            "/content/drive/MyDrive/Colab Notebooks/FibreAnalysis/Data/Prepared/Set/masks/test/mask_2023-07-24_19-39-47-129492_1.png\n"
          ]
        },
        {
          "name": "stderr",
          "output_type": "stream",
          "text": [
            "\n",
            "image 1/1 /content/drive/MyDrive/Colab Notebooks/FibreAnalysis/Data/Prepared/Set/images/test/image_2023-07-24_19-39-47-129492_1.png: 448x640 3 fibres, 28.9ms\n",
            "Speed: 3.1ms preprocess, 28.9ms inference, 2.8ms postprocess per image at shape (1, 3, 448, 640)\n",
            "/usr/local/lib/python3.10/dist-packages/transformers/modeling_utils.py:874: FutureWarning: The `device` argument is deprecated and will be removed in v5 of Transformers.\n",
            "  warnings.warn(\n",
            "/usr/local/lib/python3.10/dist-packages/torch/utils/checkpoint.py:31: UserWarning: None of the inputs have requires_grad=True. Gradients will be None\n",
            "  warnings.warn(\"None of the inputs have requires_grad=True. Gradients will be None\")\n",
            "\n",
            "image 1/1 /content/drive/MyDrive/Colab Notebooks/FibreAnalysis/Data/Prepared/Set/images/test/image_2023-07-24_19-41-44-950102_1.png: 640x544 12 fibres, 37.0ms\n",
            "Speed: 4.4ms preprocess, 37.0ms inference, 3.9ms postprocess per image at shape (1, 3, 640, 544)\n"
          ]
        },
        {
          "name": "stdout",
          "output_type": "stream",
          "text": [
            "loop 110\n",
            "/content/drive/MyDrive/Colab Notebooks/FibreAnalysis/Data/Prepared/Set/images/test/image_2023-07-24_19-41-44-950102_1.png\n",
            "/content/drive/MyDrive/Colab Notebooks/FibreAnalysis/Data/Prepared/Set/masks/test/mask_2023-07-24_19-41-44-950102_1.png\n"
          ]
        },
        {
          "name": "stderr",
          "output_type": "stream",
          "text": [
            "/usr/local/lib/python3.10/dist-packages/transformers/modeling_utils.py:874: FutureWarning: The `device` argument is deprecated and will be removed in v5 of Transformers.\n",
            "  warnings.warn(\n",
            "/usr/local/lib/python3.10/dist-packages/torch/utils/checkpoint.py:31: UserWarning: None of the inputs have requires_grad=True. Gradients will be None\n",
            "  warnings.warn(\"None of the inputs have requires_grad=True. Gradients will be None\")\n",
            "\n",
            "image 1/1 /content/drive/MyDrive/Colab Notebooks/FibreAnalysis/Data/Prepared/Set/images/test/image_2023-07-24_19-40-35-581733_1.png: 640x480 2 fibres, 27.8ms\n",
            "Speed: 2.5ms preprocess, 27.8ms inference, 2.0ms postprocess per image at shape (1, 3, 640, 480)\n"
          ]
        },
        {
          "name": "stdout",
          "output_type": "stream",
          "text": [
            "loop 111\n",
            "/content/drive/MyDrive/Colab Notebooks/FibreAnalysis/Data/Prepared/Set/images/test/image_2023-07-24_19-40-35-581733_1.png\n",
            "/content/drive/MyDrive/Colab Notebooks/FibreAnalysis/Data/Prepared/Set/masks/test/mask_2023-07-24_19-40-35-581733_1.png\n"
          ]
        },
        {
          "name": "stderr",
          "output_type": "stream",
          "text": [
            "/usr/local/lib/python3.10/dist-packages/transformers/modeling_utils.py:874: FutureWarning: The `device` argument is deprecated and will be removed in v5 of Transformers.\n",
            "  warnings.warn(\n",
            "/usr/local/lib/python3.10/dist-packages/torch/utils/checkpoint.py:31: UserWarning: None of the inputs have requires_grad=True. Gradients will be None\n",
            "  warnings.warn(\"None of the inputs have requires_grad=True. Gradients will be None\")\n",
            "\n",
            "image 1/1 /content/drive/MyDrive/Colab Notebooks/FibreAnalysis/Data/Prepared/Set/images/test/image_2023-07-24_19-39-52-511435_1.png: 640x544 8 fibres, 36.4ms\n",
            "Speed: 2.9ms preprocess, 36.4ms inference, 2.2ms postprocess per image at shape (1, 3, 640, 544)\n"
          ]
        },
        {
          "name": "stdout",
          "output_type": "stream",
          "text": [
            "loop 112\n",
            "/content/drive/MyDrive/Colab Notebooks/FibreAnalysis/Data/Prepared/Set/images/test/image_2023-07-24_19-39-52-511435_1.png\n",
            "/content/drive/MyDrive/Colab Notebooks/FibreAnalysis/Data/Prepared/Set/masks/test/mask_2023-07-24_19-39-52-511435_1.png\n"
          ]
        },
        {
          "name": "stderr",
          "output_type": "stream",
          "text": [
            "/usr/local/lib/python3.10/dist-packages/transformers/modeling_utils.py:874: FutureWarning: The `device` argument is deprecated and will be removed in v5 of Transformers.\n",
            "  warnings.warn(\n",
            "/usr/local/lib/python3.10/dist-packages/torch/utils/checkpoint.py:31: UserWarning: None of the inputs have requires_grad=True. Gradients will be None\n",
            "  warnings.warn(\"None of the inputs have requires_grad=True. Gradients will be None\")\n",
            "\n",
            "image 1/1 /content/drive/MyDrive/Colab Notebooks/FibreAnalysis/Data/Prepared/Set/images/test/image_2023-07-24_19-38-26-107444_1.png: 640x480 11 fibres, 28.2ms\n",
            "Speed: 2.6ms preprocess, 28.2ms inference, 2.1ms postprocess per image at shape (1, 3, 640, 480)\n"
          ]
        },
        {
          "name": "stdout",
          "output_type": "stream",
          "text": [
            "loop 113\n",
            "/content/drive/MyDrive/Colab Notebooks/FibreAnalysis/Data/Prepared/Set/images/test/image_2023-07-24_19-38-26-107444_1.png\n",
            "/content/drive/MyDrive/Colab Notebooks/FibreAnalysis/Data/Prepared/Set/masks/test/mask_2023-07-24_19-38-26-107444_1.png\n"
          ]
        },
        {
          "name": "stderr",
          "output_type": "stream",
          "text": [
            "/usr/local/lib/python3.10/dist-packages/transformers/modeling_utils.py:874: FutureWarning: The `device` argument is deprecated and will be removed in v5 of Transformers.\n",
            "  warnings.warn(\n",
            "/usr/local/lib/python3.10/dist-packages/torch/utils/checkpoint.py:31: UserWarning: None of the inputs have requires_grad=True. Gradients will be None\n",
            "  warnings.warn(\"None of the inputs have requires_grad=True. Gradients will be None\")\n",
            "\n",
            "image 1/1 /content/drive/MyDrive/Colab Notebooks/FibreAnalysis/Data/Prepared/Set/images/test/image_2023-07-24_19-40-09-087246_1.png: 640x544 7 fibres, 45.6ms\n",
            "Speed: 5.5ms preprocess, 45.6ms inference, 3.2ms postprocess per image at shape (1, 3, 640, 544)\n"
          ]
        },
        {
          "name": "stdout",
          "output_type": "stream",
          "text": [
            "loop 114\n",
            "/content/drive/MyDrive/Colab Notebooks/FibreAnalysis/Data/Prepared/Set/images/test/image_2023-07-24_19-40-09-087246_1.png\n",
            "/content/drive/MyDrive/Colab Notebooks/FibreAnalysis/Data/Prepared/Set/masks/test/mask_2023-07-24_19-40-09-087246_1.png\n"
          ]
        },
        {
          "name": "stderr",
          "output_type": "stream",
          "text": [
            "/usr/local/lib/python3.10/dist-packages/transformers/modeling_utils.py:874: FutureWarning: The `device` argument is deprecated and will be removed in v5 of Transformers.\n",
            "  warnings.warn(\n",
            "/usr/local/lib/python3.10/dist-packages/torch/utils/checkpoint.py:31: UserWarning: None of the inputs have requires_grad=True. Gradients will be None\n",
            "  warnings.warn(\"None of the inputs have requires_grad=True. Gradients will be None\")\n"
          ]
        },
        {
          "name": "stdout",
          "output_type": "stream",
          "text": [
            "loop 115\n",
            "/content/drive/MyDrive/Colab Notebooks/FibreAnalysis/Data/Prepared/Set/images/test/image_2023-07-24_19-40-03-273306_2.png\n",
            "/content/drive/MyDrive/Colab Notebooks/FibreAnalysis/Data/Prepared/Set/masks/test/mask_2023-07-24_19-40-03-273306_2.png\n"
          ]
        },
        {
          "name": "stderr",
          "output_type": "stream",
          "text": [
            "\n",
            "image 1/1 /content/drive/MyDrive/Colab Notebooks/FibreAnalysis/Data/Prepared/Set/images/test/image_2023-07-24_19-40-03-273306_2.png: 448x640 2 fibres, 30.9ms\n",
            "Speed: 2.4ms preprocess, 30.9ms inference, 2.4ms postprocess per image at shape (1, 3, 448, 640)\n",
            "/usr/local/lib/python3.10/dist-packages/transformers/modeling_utils.py:874: FutureWarning: The `device` argument is deprecated and will be removed in v5 of Transformers.\n",
            "  warnings.warn(\n",
            "/usr/local/lib/python3.10/dist-packages/torch/utils/checkpoint.py:31: UserWarning: None of the inputs have requires_grad=True. Gradients will be None\n",
            "  warnings.warn(\"None of the inputs have requires_grad=True. Gradients will be None\")\n"
          ]
        },
        {
          "name": "stdout",
          "output_type": "stream",
          "text": [
            "loop 116\n",
            "/content/drive/MyDrive/Colab Notebooks/FibreAnalysis/Data/Prepared/Set/images/test/image_2023-07-24_19-41-29-172639_2.png\n",
            "/content/drive/MyDrive/Colab Notebooks/FibreAnalysis/Data/Prepared/Set/masks/test/mask_2023-07-24_19-41-29-172639_2.png\n"
          ]
        },
        {
          "name": "stderr",
          "output_type": "stream",
          "text": [
            "\n",
            "image 1/1 /content/drive/MyDrive/Colab Notebooks/FibreAnalysis/Data/Prepared/Set/images/test/image_2023-07-24_19-41-29-172639_2.png: 448x640 6 fibres, 32.0ms\n",
            "Speed: 2.3ms preprocess, 32.0ms inference, 2.1ms postprocess per image at shape (1, 3, 448, 640)\n",
            "/usr/local/lib/python3.10/dist-packages/transformers/modeling_utils.py:874: FutureWarning: The `device` argument is deprecated and will be removed in v5 of Transformers.\n",
            "  warnings.warn(\n",
            "/usr/local/lib/python3.10/dist-packages/torch/utils/checkpoint.py:31: UserWarning: None of the inputs have requires_grad=True. Gradients will be None\n",
            "  warnings.warn(\"None of the inputs have requires_grad=True. Gradients will be None\")\n",
            "\n",
            "image 1/1 /content/drive/MyDrive/Colab Notebooks/FibreAnalysis/Data/Prepared/Set/images/test/image_2023-07-24_19-41-39-762521_2.png: 448x640 7 fibres, 28.6ms\n",
            "Speed: 3.4ms preprocess, 28.6ms inference, 2.9ms postprocess per image at shape (1, 3, 448, 640)\n"
          ]
        },
        {
          "name": "stdout",
          "output_type": "stream",
          "text": [
            "loop 117\n",
            "/content/drive/MyDrive/Colab Notebooks/FibreAnalysis/Data/Prepared/Set/images/test/image_2023-07-24_19-41-39-762521_2.png\n",
            "/content/drive/MyDrive/Colab Notebooks/FibreAnalysis/Data/Prepared/Set/masks/test/mask_2023-07-24_19-41-39-762521_2.png\n"
          ]
        },
        {
          "name": "stderr",
          "output_type": "stream",
          "text": [
            "/usr/local/lib/python3.10/dist-packages/transformers/modeling_utils.py:874: FutureWarning: The `device` argument is deprecated and will be removed in v5 of Transformers.\n",
            "  warnings.warn(\n",
            "/usr/local/lib/python3.10/dist-packages/torch/utils/checkpoint.py:31: UserWarning: None of the inputs have requires_grad=True. Gradients will be None\n",
            "  warnings.warn(\"None of the inputs have requires_grad=True. Gradients will be None\")\n",
            "\n",
            "image 1/1 /content/drive/MyDrive/Colab Notebooks/FibreAnalysis/Data/Prepared/Set/images/test/image_2023-07-24_19-38-31-496795_2.png: 448x640 3 fibres, 28.6ms\n",
            "Speed: 3.4ms preprocess, 28.6ms inference, 2.5ms postprocess per image at shape (1, 3, 448, 640)\n"
          ]
        },
        {
          "name": "stdout",
          "output_type": "stream",
          "text": [
            "loop 118\n",
            "/content/drive/MyDrive/Colab Notebooks/FibreAnalysis/Data/Prepared/Set/images/test/image_2023-07-24_19-38-31-496795_2.png\n",
            "/content/drive/MyDrive/Colab Notebooks/FibreAnalysis/Data/Prepared/Set/masks/test/mask_2023-07-24_19-38-31-496795_2.png\n"
          ]
        },
        {
          "name": "stderr",
          "output_type": "stream",
          "text": [
            "/usr/local/lib/python3.10/dist-packages/transformers/modeling_utils.py:874: FutureWarning: The `device` argument is deprecated and will be removed in v5 of Transformers.\n",
            "  warnings.warn(\n",
            "/usr/local/lib/python3.10/dist-packages/torch/utils/checkpoint.py:31: UserWarning: None of the inputs have requires_grad=True. Gradients will be None\n",
            "  warnings.warn(\"None of the inputs have requires_grad=True. Gradients will be None\")\n",
            "\n",
            "image 1/1 /content/drive/MyDrive/Colab Notebooks/FibreAnalysis/Data/Prepared/Set/images/test/image_2023-07-24_19-40-40-496529_1.png: 448x640 3 fibres, 27.9ms\n",
            "Speed: 3.2ms preprocess, 27.9ms inference, 3.5ms postprocess per image at shape (1, 3, 448, 640)\n"
          ]
        },
        {
          "name": "stdout",
          "output_type": "stream",
          "text": [
            "loop 119\n",
            "/content/drive/MyDrive/Colab Notebooks/FibreAnalysis/Data/Prepared/Set/images/test/image_2023-07-24_19-40-40-496529_1.png\n",
            "/content/drive/MyDrive/Colab Notebooks/FibreAnalysis/Data/Prepared/Set/masks/test/mask_2023-07-24_19-40-40-496529_1.png\n"
          ]
        },
        {
          "name": "stderr",
          "output_type": "stream",
          "text": [
            "/usr/local/lib/python3.10/dist-packages/transformers/modeling_utils.py:874: FutureWarning: The `device` argument is deprecated and will be removed in v5 of Transformers.\n",
            "  warnings.warn(\n",
            "/usr/local/lib/python3.10/dist-packages/torch/utils/checkpoint.py:31: UserWarning: None of the inputs have requires_grad=True. Gradients will be None\n",
            "  warnings.warn(\"None of the inputs have requires_grad=True. Gradients will be None\")\n",
            "\n",
            "image 1/1 /content/drive/MyDrive/Colab Notebooks/FibreAnalysis/Data/Prepared/Set/images/test/image_2023-07-24_19-39-26-222954_1.png: 640x480 3 fibres, 29.6ms\n",
            "Speed: 3.6ms preprocess, 29.6ms inference, 8.2ms postprocess per image at shape (1, 3, 640, 480)\n"
          ]
        },
        {
          "name": "stdout",
          "output_type": "stream",
          "text": [
            "loop 120\n",
            "/content/drive/MyDrive/Colab Notebooks/FibreAnalysis/Data/Prepared/Set/images/test/image_2023-07-24_19-39-26-222954_1.png\n",
            "/content/drive/MyDrive/Colab Notebooks/FibreAnalysis/Data/Prepared/Set/masks/test/mask_2023-07-24_19-39-26-222954_1.png\n"
          ]
        },
        {
          "name": "stderr",
          "output_type": "stream",
          "text": [
            "/usr/local/lib/python3.10/dist-packages/transformers/modeling_utils.py:874: FutureWarning: The `device` argument is deprecated and will be removed in v5 of Transformers.\n",
            "  warnings.warn(\n",
            "/usr/local/lib/python3.10/dist-packages/torch/utils/checkpoint.py:31: UserWarning: None of the inputs have requires_grad=True. Gradients will be None\n",
            "  warnings.warn(\"None of the inputs have requires_grad=True. Gradients will be None\")\n"
          ]
        },
        {
          "name": "stdout",
          "output_type": "stream",
          "text": [
            "loop 121\n",
            "/content/drive/MyDrive/Colab Notebooks/FibreAnalysis/Data/Prepared/Set/images/test/image_2023-07-24_19-39-20-804259_1.png\n",
            "/content/drive/MyDrive/Colab Notebooks/FibreAnalysis/Data/Prepared/Set/masks/test/mask_2023-07-24_19-39-20-804259_1.png\n"
          ]
        },
        {
          "name": "stderr",
          "output_type": "stream",
          "text": [
            "\n",
            "image 1/1 /content/drive/MyDrive/Colab Notebooks/FibreAnalysis/Data/Prepared/Set/images/test/image_2023-07-24_19-39-20-804259_1.png: 448x640 2 fibres, 27.6ms\n",
            "Speed: 2.4ms preprocess, 27.6ms inference, 2.3ms postprocess per image at shape (1, 3, 448, 640)\n",
            "/usr/local/lib/python3.10/dist-packages/transformers/modeling_utils.py:874: FutureWarning: The `device` argument is deprecated and will be removed in v5 of Transformers.\n",
            "  warnings.warn(\n",
            "/usr/local/lib/python3.10/dist-packages/torch/utils/checkpoint.py:31: UserWarning: None of the inputs have requires_grad=True. Gradients will be None\n",
            "  warnings.warn(\"None of the inputs have requires_grad=True. Gradients will be None\")\n",
            "\n",
            "image 1/1 /content/drive/MyDrive/Colab Notebooks/FibreAnalysis/Data/Prepared/Set/images/test/image_2023-07-24_19-39-58-061593_1.png: 640x544 15 fibres, 36.6ms\n",
            "Speed: 7.3ms preprocess, 36.6ms inference, 5.8ms postprocess per image at shape (1, 3, 640, 544)\n"
          ]
        },
        {
          "name": "stdout",
          "output_type": "stream",
          "text": [
            "loop 122\n",
            "/content/drive/MyDrive/Colab Notebooks/FibreAnalysis/Data/Prepared/Set/images/test/image_2023-07-24_19-39-58-061593_1.png\n",
            "/content/drive/MyDrive/Colab Notebooks/FibreAnalysis/Data/Prepared/Set/masks/test/mask_2023-07-24_19-39-58-061593_1.png\n"
          ]
        },
        {
          "name": "stderr",
          "output_type": "stream",
          "text": [
            "/usr/local/lib/python3.10/dist-packages/transformers/modeling_utils.py:874: FutureWarning: The `device` argument is deprecated and will be removed in v5 of Transformers.\n",
            "  warnings.warn(\n",
            "/usr/local/lib/python3.10/dist-packages/torch/utils/checkpoint.py:31: UserWarning: None of the inputs have requires_grad=True. Gradients will be None\n",
            "  warnings.warn(\"None of the inputs have requires_grad=True. Gradients will be None\")\n",
            "\n",
            "image 1/1 /content/drive/MyDrive/Colab Notebooks/FibreAnalysis/Data/Prepared/Set/images/test/image_2023-07-24_19-40-46-642879_1.png: 448x640 6 fibres, 28.9ms\n",
            "Speed: 2.3ms preprocess, 28.9ms inference, 2.0ms postprocess per image at shape (1, 3, 448, 640)\n"
          ]
        },
        {
          "name": "stdout",
          "output_type": "stream",
          "text": [
            "loop 123\n",
            "/content/drive/MyDrive/Colab Notebooks/FibreAnalysis/Data/Prepared/Set/images/test/image_2023-07-24_19-40-46-642879_1.png\n",
            "/content/drive/MyDrive/Colab Notebooks/FibreAnalysis/Data/Prepared/Set/masks/test/mask_2023-07-24_19-40-46-642879_1.png\n"
          ]
        },
        {
          "name": "stderr",
          "output_type": "stream",
          "text": [
            "/usr/local/lib/python3.10/dist-packages/transformers/modeling_utils.py:874: FutureWarning: The `device` argument is deprecated and will be removed in v5 of Transformers.\n",
            "  warnings.warn(\n",
            "/usr/local/lib/python3.10/dist-packages/torch/utils/checkpoint.py:31: UserWarning: None of the inputs have requires_grad=True. Gradients will be None\n",
            "  warnings.warn(\"None of the inputs have requires_grad=True. Gradients will be None\")\n",
            "\n",
            "image 1/1 /content/drive/MyDrive/Colab Notebooks/FibreAnalysis/Data/Prepared/Set/images/test/image_2023-07-24_19-39-15-559405_1.png: 640x480 7 fibres, 29.3ms\n",
            "Speed: 2.7ms preprocess, 29.3ms inference, 2.4ms postprocess per image at shape (1, 3, 640, 480)\n"
          ]
        },
        {
          "name": "stdout",
          "output_type": "stream",
          "text": [
            "loop 124\n",
            "/content/drive/MyDrive/Colab Notebooks/FibreAnalysis/Data/Prepared/Set/images/test/image_2023-07-24_19-39-15-559405_1.png\n",
            "/content/drive/MyDrive/Colab Notebooks/FibreAnalysis/Data/Prepared/Set/masks/test/mask_2023-07-24_19-39-15-559405_1.png\n"
          ]
        },
        {
          "name": "stderr",
          "output_type": "stream",
          "text": [
            "/usr/local/lib/python3.10/dist-packages/transformers/modeling_utils.py:874: FutureWarning: The `device` argument is deprecated and will be removed in v5 of Transformers.\n",
            "  warnings.warn(\n",
            "/usr/local/lib/python3.10/dist-packages/torch/utils/checkpoint.py:31: UserWarning: None of the inputs have requires_grad=True. Gradients will be None\n",
            "  warnings.warn(\"None of the inputs have requires_grad=True. Gradients will be None\")\n"
          ]
        },
        {
          "name": "stdout",
          "output_type": "stream",
          "text": [
            "loop 125\n",
            "/content/drive/MyDrive/Colab Notebooks/FibreAnalysis/Data/Prepared/Set/images/test/image_2023-07-24_19-41-18-149053_1.png\n",
            "/content/drive/MyDrive/Colab Notebooks/FibreAnalysis/Data/Prepared/Set/masks/test/mask_2023-07-24_19-41-18-149053_1.png\n"
          ]
        },
        {
          "name": "stderr",
          "output_type": "stream",
          "text": [
            "\n",
            "image 1/1 /content/drive/MyDrive/Colab Notebooks/FibreAnalysis/Data/Prepared/Set/images/test/image_2023-07-24_19-41-18-149053_1.png: 448x640 1 fibre, 32.9ms\n",
            "Speed: 3.2ms preprocess, 32.9ms inference, 3.5ms postprocess per image at shape (1, 3, 448, 640)\n",
            "/usr/local/lib/python3.10/dist-packages/transformers/modeling_utils.py:874: FutureWarning: The `device` argument is deprecated and will be removed in v5 of Transformers.\n",
            "  warnings.warn(\n",
            "/usr/local/lib/python3.10/dist-packages/torch/utils/checkpoint.py:31: UserWarning: None of the inputs have requires_grad=True. Gradients will be None\n",
            "  warnings.warn(\"None of the inputs have requires_grad=True. Gradients will be None\")\n"
          ]
        },
        {
          "name": "stdout",
          "output_type": "stream",
          "text": [
            "loop 126\n",
            "/content/drive/MyDrive/Colab Notebooks/FibreAnalysis/Data/Prepared/Set/images/test/image_2023-07-24_19-38-25-789901_1.png\n",
            "/content/drive/MyDrive/Colab Notebooks/FibreAnalysis/Data/Prepared/Set/masks/test/mask_2023-07-24_19-38-25-789901_1.png\n"
          ]
        },
        {
          "name": "stderr",
          "output_type": "stream",
          "text": [
            "\n",
            "image 1/1 /content/drive/MyDrive/Colab Notebooks/FibreAnalysis/Data/Prepared/Set/images/test/image_2023-07-24_19-38-25-789901_1.png: 640x544 12 fibres, 36.1ms\n",
            "Speed: 4.1ms preprocess, 36.1ms inference, 3.1ms postprocess per image at shape (1, 3, 640, 544)\n",
            "/usr/local/lib/python3.10/dist-packages/transformers/modeling_utils.py:874: FutureWarning: The `device` argument is deprecated and will be removed in v5 of Transformers.\n",
            "  warnings.warn(\n",
            "/usr/local/lib/python3.10/dist-packages/torch/utils/checkpoint.py:31: UserWarning: None of the inputs have requires_grad=True. Gradients will be None\n",
            "  warnings.warn(\"None of the inputs have requires_grad=True. Gradients will be None\")\n"
          ]
        },
        {
          "name": "stdout",
          "output_type": "stream",
          "text": [
            "loop 127\n",
            "/content/drive/MyDrive/Colab Notebooks/FibreAnalysis/Data/Prepared/Set/images/test/image_2023-07-24_19-41-34-065976_1.png\n",
            "/content/drive/MyDrive/Colab Notebooks/FibreAnalysis/Data/Prepared/Set/masks/test/mask_2023-07-24_19-41-34-065976_1.png\n"
          ]
        },
        {
          "name": "stderr",
          "output_type": "stream",
          "text": [
            "\n",
            "image 1/1 /content/drive/MyDrive/Colab Notebooks/FibreAnalysis/Data/Prepared/Set/images/test/image_2023-07-24_19-41-34-065976_1.png: 640x544 5 fibres, 33.6ms\n",
            "Speed: 2.8ms preprocess, 33.6ms inference, 2.4ms postprocess per image at shape (1, 3, 640, 544)\n",
            "/usr/local/lib/python3.10/dist-packages/transformers/modeling_utils.py:874: FutureWarning: The `device` argument is deprecated and will be removed in v5 of Transformers.\n",
            "  warnings.warn(\n",
            "/usr/local/lib/python3.10/dist-packages/torch/utils/checkpoint.py:31: UserWarning: None of the inputs have requires_grad=True. Gradients will be None\n",
            "  warnings.warn(\"None of the inputs have requires_grad=True. Gradients will be None\")\n",
            "\n",
            "image 1/1 /content/drive/MyDrive/Colab Notebooks/FibreAnalysis/Data/Prepared/Set/images/test/image_2023-07-24_19-39-26-030910_1.png: 448x640 6 fibres, 30.2ms\n",
            "Speed: 3.3ms preprocess, 30.2ms inference, 3.4ms postprocess per image at shape (1, 3, 448, 640)\n"
          ]
        },
        {
          "name": "stdout",
          "output_type": "stream",
          "text": [
            "loop 128\n",
            "/content/drive/MyDrive/Colab Notebooks/FibreAnalysis/Data/Prepared/Set/images/test/image_2023-07-24_19-39-26-030910_1.png\n",
            "/content/drive/MyDrive/Colab Notebooks/FibreAnalysis/Data/Prepared/Set/masks/test/mask_2023-07-24_19-39-26-030910_1.png\n"
          ]
        },
        {
          "name": "stderr",
          "output_type": "stream",
          "text": [
            "/usr/local/lib/python3.10/dist-packages/transformers/modeling_utils.py:874: FutureWarning: The `device` argument is deprecated and will be removed in v5 of Transformers.\n",
            "  warnings.warn(\n",
            "/usr/local/lib/python3.10/dist-packages/torch/utils/checkpoint.py:31: UserWarning: None of the inputs have requires_grad=True. Gradients will be None\n",
            "  warnings.warn(\"None of the inputs have requires_grad=True. Gradients will be None\")\n",
            "\n",
            "image 1/1 /content/drive/MyDrive/Colab Notebooks/FibreAnalysis/Data/Prepared/Set/images/test/image_2023-07-24_19-40-14-449047_1.png: 448x640 5 fibres, 28.7ms\n",
            "Speed: 2.1ms preprocess, 28.7ms inference, 2.1ms postprocess per image at shape (1, 3, 448, 640)\n"
          ]
        },
        {
          "name": "stdout",
          "output_type": "stream",
          "text": [
            "loop 129\n",
            "/content/drive/MyDrive/Colab Notebooks/FibreAnalysis/Data/Prepared/Set/images/test/image_2023-07-24_19-40-14-449047_1.png\n",
            "/content/drive/MyDrive/Colab Notebooks/FibreAnalysis/Data/Prepared/Set/masks/test/mask_2023-07-24_19-40-14-449047_1.png\n"
          ]
        },
        {
          "name": "stderr",
          "output_type": "stream",
          "text": [
            "/usr/local/lib/python3.10/dist-packages/transformers/modeling_utils.py:874: FutureWarning: The `device` argument is deprecated and will be removed in v5 of Transformers.\n",
            "  warnings.warn(\n",
            "/usr/local/lib/python3.10/dist-packages/torch/utils/checkpoint.py:31: UserWarning: None of the inputs have requires_grad=True. Gradients will be None\n",
            "  warnings.warn(\"None of the inputs have requires_grad=True. Gradients will be None\")\n",
            "\n",
            "image 1/1 /content/drive/MyDrive/Colab Notebooks/FibreAnalysis/Data/Prepared/Set/images/test/image_2023-07-24_19-40-03-457870_1.png: 640x544 11 fibres, 36.2ms\n",
            "Speed: 3.0ms preprocess, 36.2ms inference, 2.3ms postprocess per image at shape (1, 3, 640, 544)\n"
          ]
        },
        {
          "name": "stdout",
          "output_type": "stream",
          "text": [
            "loop 130\n",
            "/content/drive/MyDrive/Colab Notebooks/FibreAnalysis/Data/Prepared/Set/images/test/image_2023-07-24_19-40-03-457870_1.png\n",
            "/content/drive/MyDrive/Colab Notebooks/FibreAnalysis/Data/Prepared/Set/masks/test/mask_2023-07-24_19-40-03-457870_1.png\n"
          ]
        },
        {
          "name": "stderr",
          "output_type": "stream",
          "text": [
            "/usr/local/lib/python3.10/dist-packages/transformers/modeling_utils.py:874: FutureWarning: The `device` argument is deprecated and will be removed in v5 of Transformers.\n",
            "  warnings.warn(\n",
            "/usr/local/lib/python3.10/dist-packages/torch/utils/checkpoint.py:31: UserWarning: None of the inputs have requires_grad=True. Gradients will be None\n",
            "  warnings.warn(\"None of the inputs have requires_grad=True. Gradients will be None\")\n"
          ]
        },
        {
          "name": "stdout",
          "output_type": "stream",
          "text": [
            "loop 131\n",
            "/content/drive/MyDrive/Colab Notebooks/FibreAnalysis/Data/Prepared/Set/images/test/image_2023-07-24_19-39-47-684319_1.png\n",
            "/content/drive/MyDrive/Colab Notebooks/FibreAnalysis/Data/Prepared/Set/masks/test/mask_2023-07-24_19-39-47-684319_1.png\n"
          ]
        },
        {
          "name": "stderr",
          "output_type": "stream",
          "text": [
            "\n",
            "image 1/1 /content/drive/MyDrive/Colab Notebooks/FibreAnalysis/Data/Prepared/Set/images/test/image_2023-07-24_19-39-47-684319_1.png: 448x640 5 fibres, 42.7ms\n",
            "Speed: 5.8ms preprocess, 42.7ms inference, 8.4ms postprocess per image at shape (1, 3, 448, 640)\n",
            "/usr/local/lib/python3.10/dist-packages/transformers/modeling_utils.py:874: FutureWarning: The `device` argument is deprecated and will be removed in v5 of Transformers.\n",
            "  warnings.warn(\n",
            "/usr/local/lib/python3.10/dist-packages/torch/utils/checkpoint.py:31: UserWarning: None of the inputs have requires_grad=True. Gradients will be None\n",
            "  warnings.warn(\"None of the inputs have requires_grad=True. Gradients will be None\")\n",
            "\n",
            "image 1/1 /content/drive/MyDrive/Colab Notebooks/FibreAnalysis/Data/Prepared/Set/images/test/image_2023-07-24_19-41-13-256119_1.png: 448x640 6 fibres, 28.0ms\n",
            "Speed: 2.3ms preprocess, 28.0ms inference, 2.2ms postprocess per image at shape (1, 3, 448, 640)\n"
          ]
        },
        {
          "name": "stdout",
          "output_type": "stream",
          "text": [
            "loop 132\n",
            "/content/drive/MyDrive/Colab Notebooks/FibreAnalysis/Data/Prepared/Set/images/test/image_2023-07-24_19-41-13-256119_1.png\n",
            "/content/drive/MyDrive/Colab Notebooks/FibreAnalysis/Data/Prepared/Set/masks/test/mask_2023-07-24_19-41-13-256119_1.png\n"
          ]
        },
        {
          "name": "stderr",
          "output_type": "stream",
          "text": [
            "/usr/local/lib/python3.10/dist-packages/transformers/modeling_utils.py:874: FutureWarning: The `device` argument is deprecated and will be removed in v5 of Transformers.\n",
            "  warnings.warn(\n",
            "/usr/local/lib/python3.10/dist-packages/torch/utils/checkpoint.py:31: UserWarning: None of the inputs have requires_grad=True. Gradients will be None\n",
            "  warnings.warn(\"None of the inputs have requires_grad=True. Gradients will be None\")\n"
          ]
        },
        {
          "name": "stdout",
          "output_type": "stream",
          "text": [
            "loop 133\n",
            "/content/drive/MyDrive/Colab Notebooks/FibreAnalysis/Data/Prepared/Set/images/test/image_2023-07-24_19-39-04-512082_2.png\n",
            "/content/drive/MyDrive/Colab Notebooks/FibreAnalysis/Data/Prepared/Set/masks/test/mask_2023-07-24_19-39-04-512082_2.png\n"
          ]
        },
        {
          "name": "stderr",
          "output_type": "stream",
          "text": [
            "\n",
            "image 1/1 /content/drive/MyDrive/Colab Notebooks/FibreAnalysis/Data/Prepared/Set/images/test/image_2023-07-24_19-39-04-512082_2.png: 448x640 4 fibres, 27.2ms\n",
            "Speed: 2.3ms preprocess, 27.2ms inference, 2.3ms postprocess per image at shape (1, 3, 448, 640)\n",
            "/usr/local/lib/python3.10/dist-packages/transformers/modeling_utils.py:874: FutureWarning: The `device` argument is deprecated and will be removed in v5 of Transformers.\n",
            "  warnings.warn(\n",
            "/usr/local/lib/python3.10/dist-packages/torch/utils/checkpoint.py:31: UserWarning: None of the inputs have requires_grad=True. Gradients will be None\n",
            "  warnings.warn(\"None of the inputs have requires_grad=True. Gradients will be None\")\n"
          ]
        },
        {
          "name": "stdout",
          "output_type": "stream",
          "text": [
            "loop 134\n",
            "/content/drive/MyDrive/Colab Notebooks/FibreAnalysis/Data/Prepared/Set/images/test/image_2023-07-24_19-38-31-496795_1.png\n",
            "/content/drive/MyDrive/Colab Notebooks/FibreAnalysis/Data/Prepared/Set/masks/test/mask_2023-07-24_19-38-31-496795_1.png\n"
          ]
        },
        {
          "name": "stderr",
          "output_type": "stream",
          "text": [
            "\n",
            "image 1/1 /content/drive/MyDrive/Colab Notebooks/FibreAnalysis/Data/Prepared/Set/images/test/image_2023-07-24_19-38-31-496795_1.png: 448x640 (no detections), 29.6ms\n",
            "Speed: 3.2ms preprocess, 29.6ms inference, 1.0ms postprocess per image at shape (1, 3, 448, 640)\n",
            "\n",
            "image 1/1 /content/drive/MyDrive/Colab Notebooks/FibreAnalysis/Data/Prepared/Set/images/test/image_2023-07-24_19-40-46-642879_2.png: 448x640 6 fibres, 28.4ms\n",
            "Speed: 3.2ms preprocess, 28.4ms inference, 3.6ms postprocess per image at shape (1, 3, 448, 640)\n"
          ]
        },
        {
          "name": "stdout",
          "output_type": "stream",
          "text": [
            "An error occurred: 'NoneType' object has no attribute 'data' /content/drive/MyDrive/Colab Notebooks/FibreAnalysis/Data/Prepared/Set/images/test/image_2023-07-24_19-38-31-496795_1.png\n",
            "loop 135\n",
            "/content/drive/MyDrive/Colab Notebooks/FibreAnalysis/Data/Prepared/Set/images/test/image_2023-07-24_19-40-46-642879_2.png\n",
            "/content/drive/MyDrive/Colab Notebooks/FibreAnalysis/Data/Prepared/Set/masks/test/mask_2023-07-24_19-40-46-642879_2.png\n"
          ]
        },
        {
          "name": "stderr",
          "output_type": "stream",
          "text": [
            "/usr/local/lib/python3.10/dist-packages/transformers/modeling_utils.py:874: FutureWarning: The `device` argument is deprecated and will be removed in v5 of Transformers.\n",
            "  warnings.warn(\n",
            "/usr/local/lib/python3.10/dist-packages/torch/utils/checkpoint.py:31: UserWarning: None of the inputs have requires_grad=True. Gradients will be None\n",
            "  warnings.warn(\"None of the inputs have requires_grad=True. Gradients will be None\")\n"
          ]
        },
        {
          "name": "stdout",
          "output_type": "stream",
          "text": [
            "loop 136\n",
            "/content/drive/MyDrive/Colab Notebooks/FibreAnalysis/Data/Prepared/Set/images/test/image_2023-07-24_19-40-51-746818_1.png\n",
            "/content/drive/MyDrive/Colab Notebooks/FibreAnalysis/Data/Prepared/Set/masks/test/mask_2023-07-24_19-40-51-746818_1.png\n"
          ]
        },
        {
          "name": "stderr",
          "output_type": "stream",
          "text": [
            "\n",
            "image 1/1 /content/drive/MyDrive/Colab Notebooks/FibreAnalysis/Data/Prepared/Set/images/test/image_2023-07-24_19-40-51-746818_1.png: 448x640 1 fibre, 26.8ms\n",
            "Speed: 2.2ms preprocess, 26.8ms inference, 2.4ms postprocess per image at shape (1, 3, 448, 640)\n",
            "/usr/local/lib/python3.10/dist-packages/transformers/modeling_utils.py:874: FutureWarning: The `device` argument is deprecated and will be removed in v5 of Transformers.\n",
            "  warnings.warn(\n",
            "/usr/local/lib/python3.10/dist-packages/torch/utils/checkpoint.py:31: UserWarning: None of the inputs have requires_grad=True. Gradients will be None\n",
            "  warnings.warn(\"None of the inputs have requires_grad=True. Gradients will be None\")\n"
          ]
        },
        {
          "name": "stdout",
          "output_type": "stream",
          "text": [
            "loop 137\n",
            "/content/drive/MyDrive/Colab Notebooks/FibreAnalysis/Data/Prepared/Set/images/test/image_2023-07-24_19-41-39-969088_1.png\n",
            "/content/drive/MyDrive/Colab Notebooks/FibreAnalysis/Data/Prepared/Set/masks/test/mask_2023-07-24_19-41-39-969088_1.png\n"
          ]
        },
        {
          "name": "stderr",
          "output_type": "stream",
          "text": [
            "\n",
            "image 1/1 /content/drive/MyDrive/Colab Notebooks/FibreAnalysis/Data/Prepared/Set/images/test/image_2023-07-24_19-41-39-969088_1.png: 448x640 2 fibres, 27.5ms\n",
            "Speed: 2.1ms preprocess, 27.5ms inference, 2.1ms postprocess per image at shape (1, 3, 448, 640)\n",
            "/usr/local/lib/python3.10/dist-packages/transformers/modeling_utils.py:874: FutureWarning: The `device` argument is deprecated and will be removed in v5 of Transformers.\n",
            "  warnings.warn(\n",
            "/usr/local/lib/python3.10/dist-packages/torch/utils/checkpoint.py:31: UserWarning: None of the inputs have requires_grad=True. Gradients will be None\n",
            "  warnings.warn(\"None of the inputs have requires_grad=True. Gradients will be None\")\n"
          ]
        },
        {
          "name": "stdout",
          "output_type": "stream",
          "text": [
            "loop 138\n",
            "/content/drive/MyDrive/Colab Notebooks/FibreAnalysis/Data/Prepared/Set/images/test/image_2023-07-24_19-41-29-172639_1.png\n",
            "/content/drive/MyDrive/Colab Notebooks/FibreAnalysis/Data/Prepared/Set/masks/test/mask_2023-07-24_19-41-29-172639_1.png\n"
          ]
        },
        {
          "name": "stderr",
          "output_type": "stream",
          "text": [
            "\n",
            "image 1/1 /content/drive/MyDrive/Colab Notebooks/FibreAnalysis/Data/Prepared/Set/images/test/image_2023-07-24_19-41-29-172639_1.png: 448x640 5 fibres, 45.9ms\n",
            "Speed: 3.2ms preprocess, 45.9ms inference, 9.5ms postprocess per image at shape (1, 3, 448, 640)\n",
            "/usr/local/lib/python3.10/dist-packages/transformers/modeling_utils.py:874: FutureWarning: The `device` argument is deprecated and will be removed in v5 of Transformers.\n",
            "  warnings.warn(\n",
            "/usr/local/lib/python3.10/dist-packages/torch/utils/checkpoint.py:31: UserWarning: None of the inputs have requires_grad=True. Gradients will be None\n",
            "  warnings.warn(\"None of the inputs have requires_grad=True. Gradients will be None\")\n",
            "\n",
            "image 1/1 /content/drive/MyDrive/Colab Notebooks/FibreAnalysis/Data/Prepared/Set/images/test/image_2023-07-24_19-40-13-888232_1.png: 448x640 6 fibres, 28.2ms\n",
            "Speed: 2.2ms preprocess, 28.2ms inference, 2.0ms postprocess per image at shape (1, 3, 448, 640)\n"
          ]
        },
        {
          "name": "stdout",
          "output_type": "stream",
          "text": [
            "loop 139\n",
            "/content/drive/MyDrive/Colab Notebooks/FibreAnalysis/Data/Prepared/Set/images/test/image_2023-07-24_19-40-13-888232_1.png\n",
            "/content/drive/MyDrive/Colab Notebooks/FibreAnalysis/Data/Prepared/Set/masks/test/mask_2023-07-24_19-40-13-888232_1.png\n"
          ]
        },
        {
          "name": "stderr",
          "output_type": "stream",
          "text": [
            "/usr/local/lib/python3.10/dist-packages/transformers/modeling_utils.py:874: FutureWarning: The `device` argument is deprecated and will be removed in v5 of Transformers.\n",
            "  warnings.warn(\n",
            "/usr/local/lib/python3.10/dist-packages/torch/utils/checkpoint.py:31: UserWarning: None of the inputs have requires_grad=True. Gradients will be None\n",
            "  warnings.warn(\"None of the inputs have requires_grad=True. Gradients will be None\")\n",
            "\n",
            "image 1/1 /content/drive/MyDrive/Colab Notebooks/FibreAnalysis/Data/Prepared/Set/images/test/image_2023-07-24_19-41-13-454766_1.png: 640x544 2 fibres, 39.0ms\n",
            "Speed: 3.9ms preprocess, 39.0ms inference, 3.5ms postprocess per image at shape (1, 3, 640, 544)\n"
          ]
        },
        {
          "name": "stdout",
          "output_type": "stream",
          "text": [
            "loop 140\n",
            "/content/drive/MyDrive/Colab Notebooks/FibreAnalysis/Data/Prepared/Set/images/test/image_2023-07-24_19-41-13-454766_1.png\n",
            "/content/drive/MyDrive/Colab Notebooks/FibreAnalysis/Data/Prepared/Set/masks/test/mask_2023-07-24_19-41-13-454766_1.png\n"
          ]
        },
        {
          "name": "stderr",
          "output_type": "stream",
          "text": [
            "/usr/local/lib/python3.10/dist-packages/transformers/modeling_utils.py:874: FutureWarning: The `device` argument is deprecated and will be removed in v5 of Transformers.\n",
            "  warnings.warn(\n",
            "/usr/local/lib/python3.10/dist-packages/torch/utils/checkpoint.py:31: UserWarning: None of the inputs have requires_grad=True. Gradients will be None\n",
            "  warnings.warn(\"None of the inputs have requires_grad=True. Gradients will be None\")\n",
            "\n",
            "image 1/1 /content/drive/MyDrive/Colab Notebooks/FibreAnalysis/Data/Prepared/Set/images/test/image_2023-07-24_19-38-47-806675_1.png: 640x480 10 fibres, 36.6ms\n",
            "Speed: 4.1ms preprocess, 36.6ms inference, 3.2ms postprocess per image at shape (1, 3, 640, 480)\n"
          ]
        },
        {
          "name": "stdout",
          "output_type": "stream",
          "text": [
            "loop 141\n",
            "/content/drive/MyDrive/Colab Notebooks/FibreAnalysis/Data/Prepared/Set/images/test/image_2023-07-24_19-38-47-806675_1.png\n",
            "/content/drive/MyDrive/Colab Notebooks/FibreAnalysis/Data/Prepared/Set/masks/test/mask_2023-07-24_19-38-47-806675_1.png\n"
          ]
        },
        {
          "name": "stderr",
          "output_type": "stream",
          "text": [
            "/usr/local/lib/python3.10/dist-packages/transformers/modeling_utils.py:874: FutureWarning: The `device` argument is deprecated and will be removed in v5 of Transformers.\n",
            "  warnings.warn(\n",
            "/usr/local/lib/python3.10/dist-packages/torch/utils/checkpoint.py:31: UserWarning: None of the inputs have requires_grad=True. Gradients will be None\n",
            "  warnings.warn(\"None of the inputs have requires_grad=True. Gradients will be None\")\n"
          ]
        },
        {
          "name": "stdout",
          "output_type": "stream",
          "text": [
            "loop 142\n",
            "/content/drive/MyDrive/Colab Notebooks/FibreAnalysis/Data/Prepared/Set/images/test/image_2023-07-24_19-40-08-534942_1.png\n",
            "/content/drive/MyDrive/Colab Notebooks/FibreAnalysis/Data/Prepared/Set/masks/test/mask_2023-07-24_19-40-08-534942_1.png\n"
          ]
        },
        {
          "name": "stderr",
          "output_type": "stream",
          "text": [
            "\n",
            "image 1/1 /content/drive/MyDrive/Colab Notebooks/FibreAnalysis/Data/Prepared/Set/images/test/image_2023-07-24_19-40-08-534942_1.png: 640x544 7 fibres, 34.3ms\n",
            "Speed: 2.8ms preprocess, 34.3ms inference, 2.2ms postprocess per image at shape (1, 3, 640, 544)\n",
            "/usr/local/lib/python3.10/dist-packages/transformers/modeling_utils.py:874: FutureWarning: The `device` argument is deprecated and will be removed in v5 of Transformers.\n",
            "  warnings.warn(\n",
            "/usr/local/lib/python3.10/dist-packages/torch/utils/checkpoint.py:31: UserWarning: None of the inputs have requires_grad=True. Gradients will be None\n",
            "  warnings.warn(\"None of the inputs have requires_grad=True. Gradients will be None\")\n"
          ]
        },
        {
          "name": "stdout",
          "output_type": "stream",
          "text": [
            "loop 143\n",
            "/content/drive/MyDrive/Colab Notebooks/FibreAnalysis/Data/Prepared/Set/images/test/image_2023-07-24_19-39-04-126800_2.png\n",
            "/content/drive/MyDrive/Colab Notebooks/FibreAnalysis/Data/Prepared/Set/masks/test/mask_2023-07-24_19-39-04-126800_2.png\n"
          ]
        },
        {
          "name": "stderr",
          "output_type": "stream",
          "text": [
            "\n",
            "image 1/1 /content/drive/MyDrive/Colab Notebooks/FibreAnalysis/Data/Prepared/Set/images/test/image_2023-07-24_19-39-04-126800_2.png: 448x640 1 fibre, 28.0ms\n",
            "Speed: 3.0ms preprocess, 28.0ms inference, 2.8ms postprocess per image at shape (1, 3, 448, 640)\n",
            "/usr/local/lib/python3.10/dist-packages/transformers/modeling_utils.py:874: FutureWarning: The `device` argument is deprecated and will be removed in v5 of Transformers.\n",
            "  warnings.warn(\n",
            "/usr/local/lib/python3.10/dist-packages/torch/utils/checkpoint.py:31: UserWarning: None of the inputs have requires_grad=True. Gradients will be None\n",
            "  warnings.warn(\"None of the inputs have requires_grad=True. Gradients will be None\")\n"
          ]
        },
        {
          "name": "stdout",
          "output_type": "stream",
          "text": [
            "loop 144\n",
            "/content/drive/MyDrive/Colab Notebooks/FibreAnalysis/Data/Prepared/Set/images/test/image_2023-07-24_19-40-57-033167_2.png\n",
            "/content/drive/MyDrive/Colab Notebooks/FibreAnalysis/Data/Prepared/Set/masks/test/mask_2023-07-24_19-40-57-033167_2.png\n"
          ]
        },
        {
          "name": "stderr",
          "output_type": "stream",
          "text": [
            "\n",
            "image 1/1 /content/drive/MyDrive/Colab Notebooks/FibreAnalysis/Data/Prepared/Set/images/test/image_2023-07-24_19-40-57-033167_2.png: 448x640 7 fibres, 27.1ms\n",
            "Speed: 3.9ms preprocess, 27.1ms inference, 3.6ms postprocess per image at shape (1, 3, 448, 640)\n",
            "/usr/local/lib/python3.10/dist-packages/transformers/modeling_utils.py:874: FutureWarning: The `device` argument is deprecated and will be removed in v5 of Transformers.\n",
            "  warnings.warn(\n",
            "/usr/local/lib/python3.10/dist-packages/torch/utils/checkpoint.py:31: UserWarning: None of the inputs have requires_grad=True. Gradients will be None\n",
            "  warnings.warn(\"None of the inputs have requires_grad=True. Gradients will be None\")\n"
          ]
        },
        {
          "name": "stdout",
          "output_type": "stream",
          "text": [
            "loop 145\n",
            "/content/drive/MyDrive/Colab Notebooks/FibreAnalysis/Data/Prepared/Set/images/test/image_2023-07-24_19-39-53-001617_1.png\n",
            "/content/drive/MyDrive/Colab Notebooks/FibreAnalysis/Data/Prepared/Set/masks/test/mask_2023-07-24_19-39-53-001617_1.png\n"
          ]
        },
        {
          "name": "stderr",
          "output_type": "stream",
          "text": [
            "\n",
            "image 1/1 /content/drive/MyDrive/Colab Notebooks/FibreAnalysis/Data/Prepared/Set/images/test/image_2023-07-24_19-39-53-001617_1.png: 448x640 4 fibres, 27.9ms\n",
            "Speed: 2.2ms preprocess, 27.9ms inference, 4.0ms postprocess per image at shape (1, 3, 448, 640)\n",
            "/usr/local/lib/python3.10/dist-packages/transformers/modeling_utils.py:874: FutureWarning: The `device` argument is deprecated and will be removed in v5 of Transformers.\n",
            "  warnings.warn(\n",
            "/usr/local/lib/python3.10/dist-packages/torch/utils/checkpoint.py:31: UserWarning: None of the inputs have requires_grad=True. Gradients will be None\n",
            "  warnings.warn(\"None of the inputs have requires_grad=True. Gradients will be None\")\n"
          ]
        },
        {
          "name": "stdout",
          "output_type": "stream",
          "text": [
            "loop 146\n",
            "/content/drive/MyDrive/Colab Notebooks/FibreAnalysis/Data/Prepared/Set/images/test/image_2023-07-24_19-40-56-855310_1.png\n",
            "/content/drive/MyDrive/Colab Notebooks/FibreAnalysis/Data/Prepared/Set/masks/test/mask_2023-07-24_19-40-56-855310_1.png\n"
          ]
        },
        {
          "name": "stderr",
          "output_type": "stream",
          "text": [
            "\n",
            "image 1/1 /content/drive/MyDrive/Colab Notebooks/FibreAnalysis/Data/Prepared/Set/images/test/image_2023-07-24_19-40-56-855310_1.png: 640x480 10 fibres, 29.5ms\n",
            "Speed: 2.5ms preprocess, 29.5ms inference, 2.1ms postprocess per image at shape (1, 3, 640, 480)\n",
            "/usr/local/lib/python3.10/dist-packages/transformers/modeling_utils.py:874: FutureWarning: The `device` argument is deprecated and will be removed in v5 of Transformers.\n",
            "  warnings.warn(\n",
            "/usr/local/lib/python3.10/dist-packages/torch/utils/checkpoint.py:31: UserWarning: None of the inputs have requires_grad=True. Gradients will be None\n",
            "  warnings.warn(\"None of the inputs have requires_grad=True. Gradients will be None\")\n"
          ]
        },
        {
          "name": "stdout",
          "output_type": "stream",
          "text": [
            "loop 147\n",
            "/content/drive/MyDrive/Colab Notebooks/FibreAnalysis/Data/Prepared/Set/images/test/image_2023-07-24_19-41-07-823796_1.png\n",
            "/content/drive/MyDrive/Colab Notebooks/FibreAnalysis/Data/Prepared/Set/masks/test/mask_2023-07-24_19-41-07-823796_1.png\n"
          ]
        },
        {
          "name": "stderr",
          "output_type": "stream",
          "text": [
            "\n",
            "image 1/1 /content/drive/MyDrive/Colab Notebooks/FibreAnalysis/Data/Prepared/Set/images/test/image_2023-07-24_19-41-07-823796_1.png: 448x640 4 fibres, 30.4ms\n",
            "Speed: 3.9ms preprocess, 30.4ms inference, 3.3ms postprocess per image at shape (1, 3, 448, 640)\n",
            "/usr/local/lib/python3.10/dist-packages/transformers/modeling_utils.py:874: FutureWarning: The `device` argument is deprecated and will be removed in v5 of Transformers.\n",
            "  warnings.warn(\n",
            "/usr/local/lib/python3.10/dist-packages/torch/utils/checkpoint.py:31: UserWarning: None of the inputs have requires_grad=True. Gradients will be None\n",
            "  warnings.warn(\"None of the inputs have requires_grad=True. Gradients will be None\")\n"
          ]
        },
        {
          "name": "stdout",
          "output_type": "stream",
          "text": [
            "loop 148\n",
            "/content/drive/MyDrive/Colab Notebooks/FibreAnalysis/Data/Prepared/Set/images/test/image_2023-07-24_19-40-08-878660_1.png\n",
            "/content/drive/MyDrive/Colab Notebooks/FibreAnalysis/Data/Prepared/Set/masks/test/mask_2023-07-24_19-40-08-878660_1.png\n"
          ]
        },
        {
          "name": "stderr",
          "output_type": "stream",
          "text": [
            "\n",
            "image 1/1 /content/drive/MyDrive/Colab Notebooks/FibreAnalysis/Data/Prepared/Set/images/test/image_2023-07-24_19-40-08-878660_1.png: 448x640 1 fibre, 26.8ms\n",
            "Speed: 2.4ms preprocess, 26.8ms inference, 2.4ms postprocess per image at shape (1, 3, 448, 640)\n",
            "/usr/local/lib/python3.10/dist-packages/transformers/modeling_utils.py:874: FutureWarning: The `device` argument is deprecated and will be removed in v5 of Transformers.\n",
            "  warnings.warn(\n",
            "/usr/local/lib/python3.10/dist-packages/torch/utils/checkpoint.py:31: UserWarning: None of the inputs have requires_grad=True. Gradients will be None\n",
            "  warnings.warn(\"None of the inputs have requires_grad=True. Gradients will be None\")\n"
          ]
        },
        {
          "name": "stdout",
          "output_type": "stream",
          "text": [
            "loop 149\n",
            "/content/drive/MyDrive/Colab Notebooks/FibreAnalysis/Data/Prepared/Set/images/test/image_2023-07-24_19-38-31-724259_2.png\n",
            "/content/drive/MyDrive/Colab Notebooks/FibreAnalysis/Data/Prepared/Set/masks/test/mask_2023-07-24_19-38-31-724259_2.png\n"
          ]
        },
        {
          "name": "stderr",
          "output_type": "stream",
          "text": [
            "\n",
            "image 1/1 /content/drive/MyDrive/Colab Notebooks/FibreAnalysis/Data/Prepared/Set/images/test/image_2023-07-24_19-38-31-724259_2.png: 448x640 5 fibres, 27.7ms\n",
            "Speed: 3.5ms preprocess, 27.7ms inference, 2.8ms postprocess per image at shape (1, 3, 448, 640)\n",
            "/usr/local/lib/python3.10/dist-packages/transformers/modeling_utils.py:874: FutureWarning: The `device` argument is deprecated and will be removed in v5 of Transformers.\n",
            "  warnings.warn(\n",
            "/usr/local/lib/python3.10/dist-packages/torch/utils/checkpoint.py:31: UserWarning: None of the inputs have requires_grad=True. Gradients will be None\n",
            "  warnings.warn(\"None of the inputs have requires_grad=True. Gradients will be None\")\n"
          ]
        }
      ],
      "source": [
        "dataHolder = []\n",
        "header_names = ['Image', 'YOLO_iou_value', 'YOLO_diceCoef' , 'YOLO_predIOU', 'Detect_iou_value', 'Detect_diceCoef', 'Detect_predIOU',\n",
        "                'SAM_iou_value', 'SAM_diceCoef', 'SAM_predIOU', 'SAMlang_iou_value', 'SAMlang_diceCoef', 'SAMlang_predIOU',\n",
        "                'SAM Area', 'SAM Count' , 'SAM Lang area', 'SAM Lang count', 'Ground Truth area', 'Ground Truth count',\n",
        "                'YOLO Area', 'YOLO Count' , 'Detect Area', 'Detect Count' ]\n",
        "\n",
        "# Assuming 'counter' is defined elsewhere in your code\n",
        "\n",
        "path = r'/content/drive/MyDrive/Colab Notebooks/FibreAnalysis/EvalResults'\n",
        "\n",
        "counter = 0\n",
        "#for d in random.sample(img_files, 2):\n",
        "for i, d in enumerate(random.sample(img_files, 150)):\n",
        "    try:\n",
        "      print('loop', i)\n",
        "      fullPath = os.path.join(fibre_images, d)\n",
        "      mask_path = os.path.join(fibre_masks, f\"mask{d[5:]}\")  # Change filename from image_ to mask _ to retrieve mask\n",
        "      print(fullPath)  # Print File name\n",
        "      print(mask_path)  # Print File name\n",
        "      image = cv2.imread(fullPath)  # Load your input image\n",
        "      ground_truth_mask = cv2.imread(mask_path, cv2.IMREAD_GRAYSCALE)\n",
        "\n",
        "      ground_mask_details = getMaskContours(ground_truth_mask)\n",
        "\n",
        "      YOLOresult = GetYOLOResult_Contour(YOLOmodel(fullPath))   # get area and count for YOLO\n",
        "\n",
        "      DetectronResult = GetDetectronResult(Detect2Predictor(image))\n",
        "      #print('detectron results', DetectronResult)\n",
        "      SAMmasks = sam_mask_generator.generate(image)\n",
        "      SAMresults = GetSAMresult(SAMmasks)\n",
        "\n",
        "      # Language\n",
        "\n",
        "      mask_image = prep_mask_image(SAMmasks)\n",
        "      grayscale_image = mask_image.convert(\"L\")\n",
        "      # Create a new RGB image with grayscale values in all channels\n",
        "      rgb_bw_image = Image.new(\"RGB\", grayscale_image.size)\n",
        "      rgb_bw_image.paste(grayscale_image)\n",
        "      text_prompt = \"line\"\n",
        "\n",
        "      SAMLmasks, SAMLboxes, SAMLlabels, SAMLlogits = samL.predict(rgb_bw_image, text_prompt, box_threshold=0.20, text_threshold=0.24)\n",
        "\n",
        "\n",
        "      SAMlang_results = getSAMLang_Result(SAMLmasks)\n",
        "      #Calculate IoU and Dice coefficient\n",
        "      YOLO_iou_value, YOLO_diceCoef , YOLO_predIOU = calculate_iou(ground_truth_mask, YOLOresult[-1][\"overallMask\"])\n",
        "      Detect_iou_value, Detect_diceCoef, Detect_predIOU = calculate_iou(ground_truth_mask, DetectronResult[-1][\"overallMask\"])\n",
        "\n",
        "      SAM_iou_value, SAM_diceCoef, SAM_predIOU = calculate_iou(ground_truth_mask, SAMresults[-1][\"overallMask\"])\n",
        "\n",
        "      SAMlang_iou_value, SAMlang_diceCoef, SAMlang_predIOU = calculate_iou(ground_truth_mask, SAMlang_results[-1][\"overallMask\"])\n",
        "\n",
        "\n",
        "      #Prepare rows for dataframe later. See this link as to why to create a list first (much faster)  https://stackoverflow.com/questions/10715965/create-a-pandas-dataframe-by-appending-one-row-at-a-time\n",
        "      dataHolder.append([d, YOLO_iou_value, YOLO_diceCoef , YOLO_predIOU, Detect_iou_value, Detect_diceCoef, Detect_predIOU,\n",
        "                           SAM_iou_value, SAM_diceCoef, SAM_predIOU, SAMlang_iou_value, SAMlang_diceCoef, SAMlang_predIOU,\n",
        "                             SAMresults[-1][\"area\"], SAMresults[-1][\"count\"], SAMlang_results[-1][\"area\"], SAMlang_results[-1][\"count\"],\n",
        "                             ground_mask_details[-1][\"area\"], ground_mask_details[-1][\"count\"],\n",
        "                             YOLOresult[-1][\"area\"], YOLOresult[-1][\"count\"],\n",
        "                             DetectronResult[-1][\"area\"], DetectronResult[-1][\"count\"] ])\n",
        "\n",
        "    # Increment the counter\n",
        "      counter += 1\n",
        "\n",
        "      # Check if the counter is a multiple of 10\n",
        "      if counter % 5 == 0:\n",
        "          # Create a DataFrame from the list\n",
        "          df = pd.DataFrame(dataHolder,  columns=header_names)\n",
        "\n",
        "          filename = f'IOUResults_{counter}.csv'\n",
        "          fullPath = os.path.join(path, filename)\n",
        "          df.to_csv(fullPath, index=False)\n",
        "\n",
        "    except Exception as e:\n",
        "    # Code to handle the error\n",
        "      print(\"An error occurred:\", e, fullPath )\n",
        "    # Additional error handling or fallback actions can be added here\n",
        "\n",
        "\n",
        "# After the loop ends, check if there are any remaining data in dataHolder\n",
        "# Save it to a CSV file if needed\n",
        "if dataHolder:\n",
        "    df = pd.DataFrame(dataHolder,  columns=header_names)\n",
        "    filename = f'IOUResults_{counter}.csv'\n",
        "    fullPath = os.path.join(path, filename)\n",
        "    df.to_csv(fullPath, index=False)\n",
        "\n"
      ]
    },
    {
      "cell_type": "code",
      "execution_count": 85,
      "metadata": {
        "colab": {
          "base_uri": "https://localhost:8080/"
        },
        "id": "PAzklkk4sHrX",
        "outputId": "72cafd4e-f810-4fc7-d9b4-3c18b47bdcd0"
      },
      "outputs": [
        {
          "name": "stdout",
          "output_type": "stream",
          "text": [
            "Currently allocated GPU memory: 6669.06 MB\n",
            "|===========================================================================|\n",
            "|                  PyTorch CUDA memory summary, device ID 0                 |\n",
            "|---------------------------------------------------------------------------|\n",
            "|            CUDA OOMs: 33           |        cudaMalloc retries: 34        |\n",
            "|===========================================================================|\n",
            "|        Metric         | Cur Usage  | Peak Usage | Tot Alloc  | Tot Freed  |\n",
            "|---------------------------------------------------------------------------|\n",
            "| Allocated memory      |   6669 MiB |  12550 MiB |  75950 GiB |  75944 GiB |\n",
            "|       from large pool |   6494 MiB |  12362 MiB |  75379 GiB |  75372 GiB |\n",
            "|       from small pool |    174 MiB |    216 MiB |    571 GiB |    571 GiB |\n",
            "|---------------------------------------------------------------------------|\n",
            "| Active memory         |   6669 MiB |  12550 MiB |  75950 GiB |  75944 GiB |\n",
            "|       from large pool |   6494 MiB |  12362 MiB |  75379 GiB |  75372 GiB |\n",
            "|       from small pool |    174 MiB |    216 MiB |    571 GiB |    571 GiB |\n",
            "|---------------------------------------------------------------------------|\n",
            "| Requested memory      |   6655 MiB |  12412 MiB |  75883 GiB |  75877 GiB |\n",
            "|       from large pool |   6480 MiB |  12224 MiB |  75313 GiB |  75307 GiB |\n",
            "|       from small pool |    174 MiB |    216 MiB |    570 GiB |    569 GiB |\n",
            "|---------------------------------------------------------------------------|\n",
            "| GPU reserved memory   |  13626 MiB |  13626 MiB |  22972 MiB |   9346 MiB |\n",
            "|       from large pool |  13406 MiB |  13406 MiB |  22436 MiB |   9030 MiB |\n",
            "|       from small pool |    220 MiB |    220 MiB |    536 MiB |    316 MiB |\n",
            "|---------------------------------------------------------------------------|\n",
            "| Non-releasable memory |   1882 MiB |   4535 MiB |  68412 GiB |  68410 GiB |\n",
            "|       from large pool |   1865 MiB |   4519 MiB |  67818 GiB |  67816 GiB |\n",
            "|       from small pool |     17 MiB |     32 MiB |    593 GiB |    593 GiB |\n",
            "|---------------------------------------------------------------------------|\n",
            "| Allocations           |    2799    |    3457    |    7518 K  |    7515 K  |\n",
            "|       from large pool |     533    |     699    |    1031 K  |    1031 K  |\n",
            "|       from small pool |    2266    |    2758    |    6486 K  |    6484 K  |\n",
            "|---------------------------------------------------------------------------|\n",
            "| Active allocs         |    2799    |    3457    |    7518 K  |    7515 K  |\n",
            "|       from large pool |     533    |     699    |    1031 K  |    1031 K  |\n",
            "|       from small pool |    2266    |    2758    |    6486 K  |    6484 K  |\n",
            "|---------------------------------------------------------------------------|\n",
            "| GPU reserved segments |     255    |     351    |     526    |     271    |\n",
            "|       from large pool |     145    |     249    |     258    |     113    |\n",
            "|       from small pool |     110    |     110    |     268    |     158    |\n",
            "|---------------------------------------------------------------------------|\n",
            "| Non-releasable allocs |      80    |     132    |    3524 K  |    3524 K  |\n",
            "|       from large pool |      53    |     104    |     462 K  |     462 K  |\n",
            "|       from small pool |      27    |      51    |    3061 K  |    3061 K  |\n",
            "|---------------------------------------------------------------------------|\n",
            "| Oversize allocations  |       0    |       0    |       0    |       0    |\n",
            "|---------------------------------------------------------------------------|\n",
            "| Oversize GPU segments |       0    |       0    |       0    |       0    |\n",
            "|===========================================================================|\n",
            "\n"
          ]
        }
      ],
      "source": [
        "# For use when checking memory usage after running a set of evaluations - not required for the evaluations themselves\n",
        "# Print the current GPU memory allocated by tensors in bytes\n",
        "allocated_memory = torch.cuda.memory_allocated()\n",
        "print(f\"Currently allocated GPU memory: {allocated_memory / 1024**2:.2f} MB\")\n",
        "\n",
        "# Print a summary of GPU memory usage and list of tensors\n",
        "summary = torch.cuda.memory_summary()\n",
        "print(summary)"
      ]
    },
    {
      "cell_type": "code",
      "execution_count": null,
      "metadata": {},
      "outputs": [],
      "source": [
        "torch.cuda.empty_cache()"
      ]
    }
  ],
  "metadata": {
    "accelerator": "GPU",
    "colab": {
      "gpuType": "T4",
      "provenance": []
    },
    "kernelspec": {
      "display_name": "Python 3",
      "name": "python3"
    },
    "language_info": {
      "codemirror_mode": {
        "name": "ipython",
        "version": 3
      },
      "file_extension": ".py",
      "mimetype": "text/x-python",
      "name": "python",
      "nbconvert_exporter": "python",
      "pygments_lexer": "ipython3",
      "version": "3.9.13"
    },
    "orig_nbformat": 4
  },
  "nbformat": 4,
  "nbformat_minor": 0
}
