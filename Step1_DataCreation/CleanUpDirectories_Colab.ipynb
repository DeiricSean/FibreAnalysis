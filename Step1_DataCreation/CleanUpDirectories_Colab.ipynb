{
  "cells": [
    {
      "cell_type": "code",
      "execution_count": 1,
      "metadata": {
        "colab": {
          "base_uri": "https://localhost:8080/"
        },
        "id": "DpbZJNMIYgR-",
        "outputId": "1ebe8741-da82-4db5-f9f7-6115ff635e9d"
      },
      "outputs": [
        {
          "output_type": "stream",
          "name": "stdout",
          "text": [
            "Mounted at /content/drive\n"
          ]
        }
      ],
      "source": [
        "from google.colab import drive\n",
        "drive.mount('/content/drive')"
      ]
    },
    {
      "cell_type": "code",
      "execution_count": 2,
      "metadata": {
        "colab": {
          "base_uri": "https://localhost:8080/"
        },
        "id": "SnprMdrAYgSA",
        "outputId": "f2faba77-b20f-4e80-abe9-a2409564342a"
      },
      "outputs": [
        {
          "output_type": "stream",
          "name": "stdout",
          "text": [
            "Files have been deleted\n"
          ]
        }
      ],
      "source": [
        "import os\n",
        "\n",
        "# Clean up Directories by removing all existing raw and prepared files.\n",
        "\n",
        "def delete_files_in_directory(directory):\n",
        "    # Get a list of all files in the directory\n",
        "    file_list = os.listdir(directory)\n",
        "\n",
        "    if len(file_list) > 0:\n",
        "        # Iterate over the files and delete them\n",
        "        for file_name in file_list:\n",
        "            file_path = os.path.join(directory, file_name)\n",
        "            if os.path.isfile(file_path):\n",
        "                os.remove(file_path)\n",
        "                print(f\"Deleted file: {file_path}\")\n",
        "\n",
        "        print(\"Files deleted from :\" , file_list)\n",
        "\n",
        "#current_directory = os.getcwd()\n",
        "current_directory = '/content/drive/MyDrive/Colab Notebooks/FibreAnalysis'\n",
        "\n",
        "# Call the function to delete files in the directory\n",
        "for stageDirectory in [\"Train\", \"Val\", \"Test\"]:\n",
        "    InRawImages = os.path.join(current_directory, 'Data', 'synth',stageDirectory, 'images', '')\n",
        "    InRawMasks = os.path.join(current_directory, 'Data', 'synth', stageDirectory,'masks', '')\n",
        "    OutPreparedImages = os.path.join(current_directory, 'Data', 'Prepared', stageDirectory, 'images', '')\n",
        "    OutPreparedMasks = os.path.join(current_directory, 'Data', 'Prepared', stageDirectory, 'masks', '')\n",
        "    OutPreparedLabels = os.path.join(current_directory, 'Data', 'Prepared', stageDirectory, 'labels', '')\n",
        "\n",
        "    # If the directories don't exist then create them\n",
        "    os.makedirs(InRawImages) if not os.path.exists(InRawImages) else None\n",
        "    os.makedirs(InRawMasks) if not os.path.exists(InRawMasks) else None\n",
        "    os.makedirs(OutPreparedImages) if not os.path.exists(OutPreparedImages) else None\n",
        "    os.makedirs(OutPreparedMasks) if not os.path.exists(OutPreparedMasks) else None\n",
        "    os.makedirs(OutPreparedLabels) if not os.path.exists(OutPreparedLabels) else None\n",
        "\n",
        "    # Delete any files in the directories\n",
        "    delete_files_in_directory(InRawImages)\n",
        "    delete_files_in_directory(InRawMasks)\n",
        "    delete_files_in_directory(OutPreparedImages)\n",
        "    delete_files_in_directory(OutPreparedMasks)\n",
        "    delete_files_in_directory(OutPreparedLabels)\n",
        "\n",
        "\n",
        "print(\"Files have been deleted\")"
      ]
    }
  ],
  "metadata": {
    "language_info": {
      "name": "python"
    },
    "orig_nbformat": 4,
    "colab": {
      "provenance": []
    },
    "kernelspec": {
      "name": "python3",
      "display_name": "Python 3"
    }
  },
  "nbformat": 4,
  "nbformat_minor": 0
}