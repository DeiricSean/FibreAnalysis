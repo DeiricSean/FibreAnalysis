{
 "cells": [
  {
   "cell_type": "code",
   "execution_count": 21,
   "metadata": {},
   "outputs": [],
   "source": [
    "import os\n",
    "import random\n",
    "import cv2\n",
    "from ultralytics import YOLO\n",
    "import torch\n",
    "import numpy as np\n",
    "import pandas as pd\n",
    "from scipy.stats import kruskal\n",
    "import scikit_posthocs as sp\n",
    "import detectron2\n",
    "# import some common detectron2 utilities\n",
    "from detectron2 import model_zoo\n",
    "from detectron2.engine import DefaultPredictor\n",
    "from detectron2.config import get_cfg\n",
    "from detectron2.utils.visualizer import Visualizer\n",
    "from detectron2.data import MetadataCatalog, DatasetCatalog\n",
    "from detectron2.structures import BoxMode\n",
    "from detectron2.engine import DefaultTrainer\n",
    "from detectron2.utils.visualizer import ColorMode\n",
    "from detectron2.modeling import build_model\n",
    "import matplotlib.pyplot as plt"
   ]
  },
  {
   "cell_type": "code",
   "execution_count": 22,
   "metadata": {},
   "outputs": [],
   "source": [
    "##########################################################################################\n",
    "# Detectron \n",
    "##########################################################################################\n",
    "cfg = get_cfg()\n",
    "\n",
    "#cfg.MODEL.DEVICE = torch.device('cuda') if torch.cuda.is_available() else torch.device('cpu')\n",
    "cfg.MODEL.DEVICE = 'cpu'\n",
    "cfg.merge_from_file(model_zoo.get_config_file(\"COCO-InstanceSegmentation/mask_rcnn_R_50_FPN_3x.yaml\"))\n",
    "###\n",
    "####### Change this \n",
    "#cfg.MODEL.WEIGHTS = model_zoo.get_checkpoint_url(\"COCO-InstanceSegmentation/mask_rcnn_R_50_FPN_3x.yaml\")  # Let training initialize from model zoo\n",
    "cfg.MODEL.ROI_HEADS.NUM_CLASSES = 1\n",
    "\n",
    "\n",
    "cfg.MODEL.WEIGHTS = r'C:\\Users\\dezos\\Documents\\Fibres\\FibreAnalysis\\Step1_DataCreation\\Step4_Evaluate\\Detectron2_Trained_Model.pth'\n",
    "Detect2Predictor = DefaultPredictor(cfg)\n",
    "\n"
   ]
  },
  {
   "cell_type": "code",
   "execution_count": 23,
   "metadata": {},
   "outputs": [],
   "source": [
    "#image = cv2.imread(r'C:\\Users\\dezos\\Documents\\Fibres\\FibreAnalysis\\Step1_DataCreation\\Step4_Evaluate\\horses.png')  # Load your input image   \n",
    "\n",
    "image = cv2.imread(r'C:\\Users\\dezos\\Documents\\Fibres\\FibreAnalysis\\Step1_DataCreation\\Step4_Evaluate\\image_2023-07-14_21-27-23-748533_1.jpg')\n",
    "\n",
    "outputs = Detect2Predictor(image)\n",
    "\n",
    "   "
   ]
  },
  {
   "cell_type": "code",
   "execution_count": 34,
   "metadata": {},
   "outputs": [],
   "source": [
    "from detectron2.data import Metadata"
   ]
  },
  {
   "cell_type": "code",
   "execution_count": 36,
   "metadata": {},
   "outputs": [],
   "source": [
    "\n",
    "\n",
    "# Assuming \"outputs\" contains the predictions\n",
    "metadata = Metadata()\n",
    "metadata.thing_classes = [\"\"]  # Set the class names to an empty list to hide labels\n",
    "\n",
    "\n",
    "#v = Visualizer(image[:, :, ::-1], MetadataCatalog.get(cfg.DATASETS.TRAIN[0]), scale=1.2, instance_mode=ColorMode.SEGMENTATION)\n",
    "v = Visualizer(image[:, :, ::-1], metadata, scale=1.2)\n",
    "\n",
    "\n",
    "out = v.draw_instance_predictions(outputs[\"instances\"].to(\"cpu\"))\n",
    "# Restore the class names in MetadataCatalog\n",
    "\n",
    "\n",
    "# Convert the output to BGR format before displaying using cv2\n",
    "visualized_output = out.get_image()[:, :, ::-1]\n",
    "\n",
    "cv2.imshow('name', out.get_image())\n",
    "#cv2.imshow('name',visualized_output)\n",
    "visualized_output\n",
    "cv2.waitKey(0)\n",
    "cv2.destroyAllWindows()  "
   ]
  },
  {
   "cell_type": "code",
   "execution_count": 29,
   "metadata": {},
   "outputs": [
    {
     "data": {
      "text/plain": [
       "{'instances': Instances(num_instances=11, image_height=912, image_width=735, fields=[pred_boxes: Boxes(tensor([[119.7767, 576.3534, 307.1895, 674.6693],\n",
       "         [  7.5318, 289.5771, 138.5283, 387.7663],\n",
       "         [642.7417, 429.7076, 675.0306, 521.4108],\n",
       "         [489.2764,  85.8142, 538.0437, 114.6922],\n",
       "         [553.9578, 539.3805, 582.7878, 685.2487],\n",
       "         [659.7875, 543.4110, 691.3899, 552.0085],\n",
       "         [130.7618, 391.1528, 141.1754, 455.7335],\n",
       "         [660.3746, 545.7052, 691.7748, 550.1062],\n",
       "         [179.5883, 386.3273, 192.7810, 394.7223],\n",
       "         [203.9640, 883.1837, 223.6868, 911.6486],\n",
       "         [  1.3252, 286.6421, 147.1459, 466.8751]])), scores: tensor([0.9977, 0.9962, 0.9960, 0.9955, 0.9940, 0.9449, 0.9288, 0.8520, 0.0662, 0.0559, 0.0523]), pred_classes: tensor([0, 0, 0, 0, 0, 0, 0, 0, 0, 0, 0]), pred_masks: tensor([[[False, False, False,  ..., False, False, False],\n",
       "          [False, False, False,  ..., False, False, False],\n",
       "          [False, False, False,  ..., False, False, False],\n",
       "          ...,\n",
       "          [False, False, False,  ..., False, False, False],\n",
       "          [False, False, False,  ..., False, False, False],\n",
       "          [False, False, False,  ..., False, False, False]],\n",
       " \n",
       "         [[False, False, False,  ..., False, False, False],\n",
       "          [False, False, False,  ..., False, False, False],\n",
       "          [False, False, False,  ..., False, False, False],\n",
       "          ...,\n",
       "          [False, False, False,  ..., False, False, False],\n",
       "          [False, False, False,  ..., False, False, False],\n",
       "          [False, False, False,  ..., False, False, False]],\n",
       " \n",
       "         [[False, False, False,  ..., False, False, False],\n",
       "          [False, False, False,  ..., False, False, False],\n",
       "          [False, False, False,  ..., False, False, False],\n",
       "          ...,\n",
       "          [False, False, False,  ..., False, False, False],\n",
       "          [False, False, False,  ..., False, False, False],\n",
       "          [False, False, False,  ..., False, False, False]],\n",
       " \n",
       "         ...,\n",
       " \n",
       "         [[False, False, False,  ..., False, False, False],\n",
       "          [False, False, False,  ..., False, False, False],\n",
       "          [False, False, False,  ..., False, False, False],\n",
       "          ...,\n",
       "          [False, False, False,  ..., False, False, False],\n",
       "          [False, False, False,  ..., False, False, False],\n",
       "          [False, False, False,  ..., False, False, False]],\n",
       " \n",
       "         [[False, False, False,  ..., False, False, False],\n",
       "          [False, False, False,  ..., False, False, False],\n",
       "          [False, False, False,  ..., False, False, False],\n",
       "          ...,\n",
       "          [False, False, False,  ..., False, False, False],\n",
       "          [False, False, False,  ..., False, False, False],\n",
       "          [False, False, False,  ..., False, False, False]],\n",
       " \n",
       "         [[False, False, False,  ..., False, False, False],\n",
       "          [False, False, False,  ..., False, False, False],\n",
       "          [False, False, False,  ..., False, False, False],\n",
       "          ...,\n",
       "          [False, False, False,  ..., False, False, False],\n",
       "          [False, False, False,  ..., False, False, False],\n",
       "          [False, False, False,  ..., False, False, False]]])])}"
      ]
     },
     "execution_count": 29,
     "metadata": {},
     "output_type": "execute_result"
    }
   ],
   "source": [
    "outputs"
   ]
  }
 ],
 "metadata": {
  "kernelspec": {
   "display_name": "Fibres1",
   "language": "python",
   "name": "python3"
  },
  "language_info": {
   "codemirror_mode": {
    "name": "ipython",
    "version": 3
   },
   "file_extension": ".py",
   "mimetype": "text/x-python",
   "name": "python",
   "nbconvert_exporter": "python",
   "pygments_lexer": "ipython3",
   "version": "3.9.13"
  },
  "orig_nbformat": 4
 },
 "nbformat": 4,
 "nbformat_minor": 2
}
