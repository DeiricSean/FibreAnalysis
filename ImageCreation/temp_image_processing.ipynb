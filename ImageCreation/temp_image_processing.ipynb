{
 "cells": [
  {
   "cell_type": "code",
   "execution_count": 1,
   "metadata": {},
   "outputs": [],
   "source": [
    "\n",
    "import os\n",
    "import numpy as np\n",
    "\n",
    "from PIL import Image\n",
    "\n"
   ]
  },
  {
   "cell_type": "code",
   "execution_count": 17,
   "metadata": {},
   "outputs": [
    {
     "name": "stdout",
     "output_type": "stream",
     "text": [
      "(1064, 1064)\n"
     ]
    }
   ],
   "source": [
    "imagePath = r\"C:\\Users\\dezos\\Documents\\Fibres\\FibreAnalysis\\ImageCreation\\tmp\\PNGImages\\image_2023-06-20_15-32-49-835553.png\"\n",
    "maskPath = r\"C:\\Users\\dezos\\Documents\\Fibres\\FibreAnalysis\\ImageCreation\\tmp\\PedMasks\\image_2023-06-20_15-32-49-835553.png\"\n",
    "\n",
    "myImage = Image.open(imagePath)\n",
    "mask = Image.open(maskPath).convert('P')\n",
    "print(mask.size)"
   ]
  },
  {
   "cell_type": "code",
   "execution_count": null,
   "metadata": {},
   "outputs": [],
   "source": []
  },
  {
   "cell_type": "code",
   "execution_count": 15,
   "metadata": {},
   "outputs": [
    {
     "name": "stdout",
     "output_type": "stream",
     "text": [
      "[  0 128]\n",
      "[128]\n",
      "1\n"
     ]
    }
   ],
   "source": [
    "# convert the PIL Image into a numpy array\n",
    "mask = np.array(mask)\n",
    "\n",
    "# instances are encoded as different colors\n",
    "obj_ids = np.unique(mask)\n",
    "# first id is the background, so remove it\n",
    "obj_ids = obj_ids[1:]\n",
    "\n",
    "# split the color-encoded mask into a set\n",
    "# of binary masks\n",
    "masks = mask == obj_ids[:, None, None]\n",
    "num_objs = len(obj_ids)\n",
    "\n",
    "print(num_objs) "
   ]
  },
  {
   "cell_type": "code",
   "execution_count": 21,
   "metadata": {},
   "outputs": [
    {
     "name": "stdout",
     "output_type": "stream",
     "text": [
      "Number of unique colors: 15\n"
     ]
    }
   ],
   "source": [
    "from PIL import Image\n",
    "\n",
    "mask = Image.open(maskPath)\n",
    "\n",
    "# Convert the image to 'P' mode (indexed color)\n",
    "image = mask.convert('P')\n",
    "\n",
    "# Get the colors and their counts\n",
    "colors = image.getcolors()\n",
    "\n",
    "# Count the unique colors\n",
    "num_unique_colors = len(colors)\n",
    "\n",
    "print(f\"Number of unique colors: {num_unique_colors}\")"
   ]
  },
  {
   "cell_type": "code",
   "execution_count": 10,
   "metadata": {},
   "outputs": [
    {
     "data": {
      "text/plain": [
       "array([128], dtype=uint8)"
      ]
     },
     "execution_count": 10,
     "metadata": {},
     "output_type": "execute_result"
    }
   ],
   "source": [
    "obj_ids"
   ]
  }
 ],
 "metadata": {
  "kernelspec": {
   "display_name": "Fibres1",
   "language": "python",
   "name": "python3"
  },
  "language_info": {
   "codemirror_mode": {
    "name": "ipython",
    "version": 3
   },
   "file_extension": ".py",
   "mimetype": "text/x-python",
   "name": "python",
   "nbconvert_exporter": "python",
   "pygments_lexer": "ipython3",
   "version": "3.9.13"
  },
  "orig_nbformat": 4
 },
 "nbformat": 4,
 "nbformat_minor": 2
}
